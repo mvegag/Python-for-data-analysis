{
 "cells": [
  {
   "cell_type": "code",
   "execution_count": 11,
   "id": "initial_id",
   "metadata": {
    "ExecuteTime": {
     "end_time": "2024-01-24T20:10:10.468245800Z",
     "start_time": "2024-01-24T20:10:09.793479500Z"
    }
   },
   "outputs": [],
   "source": [
    "import numpy as np\n",
    "import pandas as pd\n",
    "pd.options.display.max_columns = 20\n",
    "pd.options.display.max_rows = 20\n",
    "pd.options.display.max_colwidth = 80\n",
    "np.set_printoptions(precision=4, suppress=True)"
   ]
  },
  {
   "cell_type": "markdown",
   "id": "31185c33b0dbb567",
   "metadata": {},
   "source": [
    "## Estructuras de datos y secuencias\n",
    "\n",
    "### Tuplas\n",
    "\n",
    "Una tupla es una secuencia de objetos de Python inmutable y de longitud fija. Se pueden crear así:"
   ]
  },
  {
   "cell_type": "code",
   "execution_count": 12,
   "id": "aa61c126031879da",
   "metadata": {
    "ExecuteTime": {
     "end_time": "2024-01-24T20:10:10.518303400Z",
     "start_time": "2024-01-24T20:10:10.468245800Z"
    }
   },
   "outputs": [
    {
     "data": {
      "text/plain": "(4, 5, 6)"
     },
     "execution_count": 12,
     "metadata": {},
     "output_type": "execute_result"
    }
   ],
   "source": [
    "tup = (4, 5, 6)\n",
    "tup"
   ]
  },
  {
   "cell_type": "code",
   "execution_count": 13,
   "id": "550792ecf159748e",
   "metadata": {
    "ExecuteTime": {
     "end_time": "2024-01-24T20:10:10.579537100Z",
     "start_time": "2024-01-24T20:10:10.495868Z"
    }
   },
   "outputs": [
    {
     "data": {
      "text/plain": "(4, 5, 6)"
     },
     "execution_count": 13,
     "metadata": {},
     "output_type": "execute_result"
    }
   ],
   "source": [
    "# Los paréntesis pueden ser omitidos\n",
    "\n",
    "tup = 4, 5, 6\n",
    "tup"
   ]
  },
  {
   "cell_type": "code",
   "execution_count": 14,
   "id": "576d5e3d9395acb2",
   "metadata": {
    "ExecuteTime": {
     "end_time": "2024-01-24T20:10:10.616928600Z",
     "start_time": "2024-01-24T20:10:10.563658700Z"
    }
   },
   "outputs": [
    {
     "data": {
      "text/plain": "(4, 0, 2)"
     },
     "execution_count": 14,
     "metadata": {},
     "output_type": "execute_result"
    }
   ],
   "source": [
    "# Se puede convertir una secuencia o un iterador a una tupla invocando una tupla\n",
    "\n",
    "tuple([4, 0, 2])"
   ]
  },
  {
   "cell_type": "code",
   "execution_count": 15,
   "id": "4cfba43137e6009a",
   "metadata": {
    "ExecuteTime": {
     "end_time": "2024-01-24T20:10:10.716242300Z",
     "start_time": "2024-01-24T20:10:10.616928600Z"
    }
   },
   "outputs": [
    {
     "data": {
      "text/plain": "('C', 'a', 'd', 'e', 'n', 'a')"
     },
     "execution_count": 15,
     "metadata": {},
     "output_type": "execute_result"
    }
   ],
   "source": [
    "tup = tuple('Cadena')\n",
    "tup"
   ]
  },
  {
   "cell_type": "code",
   "execution_count": 16,
   "id": "94be2c53cc47ecdf",
   "metadata": {
    "ExecuteTime": {
     "end_time": "2024-01-24T20:10:10.746044500Z",
     "start_time": "2024-01-24T20:10:10.691086800Z"
    }
   },
   "outputs": [
    {
     "data": {
      "text/plain": "'C'"
     },
     "execution_count": 16,
     "metadata": {},
     "output_type": "execute_result"
    }
   ],
   "source": [
    "# Se puede acceder a los elementos de la tupla con los corchetes []\n",
    "\n",
    "tup[0]"
   ]
  },
  {
   "cell_type": "code",
   "execution_count": 17,
   "id": "e614e5c3ef4f0f43",
   "metadata": {
    "ExecuteTime": {
     "end_time": "2024-01-24T20:10:10.832565900Z",
     "start_time": "2024-01-24T20:10:10.747045100Z"
    }
   },
   "outputs": [
    {
     "data": {
      "text/plain": "((4, 5, 6), (7, 8))"
     },
     "execution_count": 17,
     "metadata": {},
     "output_type": "execute_result"
    }
   ],
   "source": [
    "# Tuplas con expresiones más complicadas deberían ser creadas con paréntesis \n",
    "\n",
    "tup_nested = (4, 5, 6), (7, 8)\n",
    "tup_nested"
   ]
  },
  {
   "cell_type": "code",
   "execution_count": 18,
   "id": "26c517bb352658c1",
   "metadata": {
    "ExecuteTime": {
     "end_time": "2024-01-24T20:10:10.883492700Z",
     "start_time": "2024-01-24T20:10:10.823054900Z"
    }
   },
   "outputs": [
    {
     "data": {
      "text/plain": "(4, 5, 6)"
     },
     "execution_count": 18,
     "metadata": {},
     "output_type": "execute_result"
    }
   ],
   "source": [
    "tup_nested[0]"
   ]
  },
  {
   "cell_type": "code",
   "execution_count": 19,
   "id": "800ba5181c59a985",
   "metadata": {
    "ExecuteTime": {
     "end_time": "2024-01-24T20:10:10.918190900Z",
     "start_time": "2024-01-24T20:10:10.870903300Z"
    }
   },
   "outputs": [
    {
     "data": {
      "text/plain": "(7, 8)"
     },
     "execution_count": 19,
     "metadata": {},
     "output_type": "execute_result"
    }
   ],
   "source": [
    "tup_nested[1]"
   ]
  },
  {
   "cell_type": "code",
   "execution_count": 20,
   "id": "aeac999aaadb63b5",
   "metadata": {
    "ExecuteTime": {
     "end_time": "2024-01-24T20:10:10.999404400Z",
     "start_time": "2024-01-24T20:10:10.919191600Z"
    }
   },
   "outputs": [
    {
     "ename": "TypeError",
     "evalue": "'tuple' object does not support item assignment",
     "output_type": "error",
     "traceback": [
      "\u001B[1;31m---------------------------------------------------------------------------\u001B[0m",
      "\u001B[1;31mTypeError\u001B[0m                                 Traceback (most recent call last)",
      "Cell \u001B[1;32mIn[20], line 4\u001B[0m\n\u001B[0;32m      1\u001B[0m \u001B[38;5;66;03m# Los objetos guardados en un tupla pueden ser mutables, pero una vez la tupla es creada no es posible modificar qué objeto es guardado en qué posición\u001B[39;00m\n\u001B[0;32m      3\u001B[0m tup \u001B[38;5;241m=\u001B[39m \u001B[38;5;28mtuple\u001B[39m([\u001B[38;5;124m'\u001B[39m\u001B[38;5;124mfoo\u001B[39m\u001B[38;5;124m'\u001B[39m, [\u001B[38;5;241m1\u001B[39m, \u001B[38;5;241m2\u001B[39m], \u001B[38;5;28;01mTrue\u001B[39;00m])\n\u001B[1;32m----> 4\u001B[0m tup[\u001B[38;5;241m2\u001B[39m] \u001B[38;5;241m=\u001B[39m \u001B[38;5;28;01mFalse\u001B[39;00m\n",
      "\u001B[1;31mTypeError\u001B[0m: 'tuple' object does not support item assignment"
     ]
    }
   ],
   "source": [
    "# Los objetos guardados en un tupla pueden ser mutables, pero una vez la tupla es creada no es posible modificar qué objeto es guardado en qué posición\n",
    "\n",
    "tup = tuple(['foo', [1, 2], True])\n",
    "tup[2] = False"
   ]
  },
  {
   "cell_type": "code",
   "execution_count": 21,
   "id": "90370116622909b1",
   "metadata": {
    "ExecuteTime": {
     "end_time": "2024-01-24T20:10:11.022363300Z",
     "start_time": "2024-01-24T20:10:10.967287Z"
    }
   },
   "outputs": [
    {
     "data": {
      "text/plain": "('foo', [1, 2, 3], True)"
     },
     "execution_count": 21,
     "metadata": {},
     "output_type": "execute_result"
    }
   ],
   "source": [
    "# Si el objeto dentro la tupla es mutable, como una lista, se puede modificar\n",
    "\n",
    "tup[1].append(3)\n",
    "tup"
   ]
  },
  {
   "cell_type": "code",
   "execution_count": 22,
   "id": "de12236e29b67060",
   "metadata": {
    "ExecuteTime": {
     "end_time": "2024-01-24T20:10:11.586643Z",
     "start_time": "2024-01-24T20:10:11.022363300Z"
    }
   },
   "outputs": [
    {
     "data": {
      "text/plain": "(4, None, 'foo', 6, 0, 'bar')"
     },
     "execution_count": 22,
     "metadata": {},
     "output_type": "execute_result"
    }
   ],
   "source": [
    "# Se pueden concatenar tuplas usando el operador + \n",
    "\n",
    "(4, None, 'foo') + (6, 0) + ('bar', )"
   ]
  },
  {
   "cell_type": "code",
   "execution_count": 23,
   "id": "6ee99999fdde3a83",
   "metadata": {
    "ExecuteTime": {
     "end_time": "2024-01-24T20:10:11.660164Z",
     "start_time": "2024-01-24T20:10:11.582891100Z"
    }
   },
   "outputs": [
    {
     "data": {
      "text/plain": "('foo', 'bar', 'foo', 'bar', 'foo', 'bar', 'foo', 'bar')"
     },
     "execution_count": 23,
     "metadata": {},
     "output_type": "execute_result"
    }
   ],
   "source": [
    "# Multiplicar una tupla por un entero, concatena tantas copias de la tupla\n",
    "\n",
    "('foo', 'bar') * 4"
   ]
  },
  {
   "cell_type": "markdown",
   "id": "7676464d8b9098c5",
   "metadata": {},
   "source": [
    "#### Desempaquetar tuplas\n",
    "\n",
    "Python desempaqueta el valor de una tupla en variables separadas por comas"
   ]
  },
  {
   "cell_type": "code",
   "execution_count": 24,
   "id": "d38e11d1b6c96f5b",
   "metadata": {
    "ExecuteTime": {
     "end_time": "2024-01-24T20:10:11.681202900Z",
     "start_time": "2024-01-24T20:10:11.643142900Z"
    }
   },
   "outputs": [
    {
     "data": {
      "text/plain": "5"
     },
     "execution_count": 24,
     "metadata": {},
     "output_type": "execute_result"
    }
   ],
   "source": [
    "tup = (4, 5, 6)\n",
    "a, b, c = tup\n",
    "b"
   ]
  },
  {
   "cell_type": "code",
   "execution_count": 25,
   "id": "87f3a0db3008b1ca",
   "metadata": {
    "ExecuteTime": {
     "end_time": "2024-01-24T20:10:11.788909600Z",
     "start_time": "2024-01-24T20:10:11.683728900Z"
    }
   },
   "outputs": [
    {
     "data": {
      "text/plain": "7"
     },
     "execution_count": 25,
     "metadata": {},
     "output_type": "execute_result"
    }
   ],
   "source": [
    "# Las tuplas anidadas también pueden ser desempaquetadas\n",
    "\n",
    "tup = 4, 5, (6, 7)\n",
    "a, b, (c, d) = tup\n",
    "d"
   ]
  },
  {
   "cell_type": "code",
   "execution_count": 26,
   "id": "1b3bd34eb6043ad2",
   "metadata": {
    "ExecuteTime": {
     "end_time": "2024-01-24T20:10:11.809324600Z",
     "start_time": "2024-01-24T20:10:11.767928100Z"
    }
   },
   "outputs": [
    {
     "name": "stdout",
     "output_type": "stream",
     "text": [
      "a = 1, b = 2, c = 3\n",
      "a = 4, b = 5, c = 6\n",
      "a = 7, b = 8, c = 9\n"
     ]
    }
   ],
   "source": [
    "seq = [(1, 2, 3), (4, 5, 6), (7, 8, 9)]\n",
    "\n",
    "for a, b, c in seq:\n",
    "    print(f'a = {a}, b = {b}, c = {c}')\n"
   ]
  },
  {
   "cell_type": "code",
   "execution_count": 27,
   "id": "8efd32dd29063c4b",
   "metadata": {
    "ExecuteTime": {
     "end_time": "2024-01-24T20:10:11.906314700Z",
     "start_time": "2024-01-24T20:10:11.810339600Z"
    }
   },
   "outputs": [
    {
     "data": {
      "text/plain": "(1, 2, [3, 4, 5])"
     },
     "execution_count": 27,
     "metadata": {},
     "output_type": "execute_result"
    }
   ],
   "source": [
    "# También se pueden sacar algunos elementos del resto de la tupla con *\n",
    "\n",
    "valores = 1, 2, 3, 4, 5\n",
    "\n",
    "a, b, *_ = valores\n",
    "\n",
    "a, b, _ # se usa _ para indicar valores no deseados"
   ]
  },
  {
   "cell_type": "markdown",
   "id": "ad30584c0c8a85d2",
   "metadata": {},
   "source": [
    "### Métodos de las tuplas\n",
    "\n",
    "Ya que no se pueden modificar las tuplas no tienen muchos métodos. Uno de los métodos es count\n",
    "\n"
   ]
  },
  {
   "cell_type": "code",
   "execution_count": 28,
   "id": "efc47f8e39377d57",
   "metadata": {
    "ExecuteTime": {
     "end_time": "2024-01-24T20:10:11.928677400Z",
     "start_time": "2024-01-24T20:10:11.890819900Z"
    }
   },
   "outputs": [
    {
     "data": {
      "text/plain": "4"
     },
     "execution_count": 28,
     "metadata": {},
     "output_type": "execute_result"
    }
   ],
   "source": [
    "a = (1, 2, 2, 2, 3, 4, 2)\n",
    "\n",
    "a.count(2)"
   ]
  },
  {
   "cell_type": "markdown",
   "id": "3ce5f0007a12c950",
   "metadata": {},
   "source": [
    "### Listas \n",
    "\n",
    "Las listas tienen una longitúd variable y su contenido puede ser modificado. Las listas son mutables y se pueden crear con corchetes [] o con la función list"
   ]
  },
  {
   "cell_type": "code",
   "execution_count": 29,
   "id": "50c92935f3a5533d",
   "metadata": {
    "ExecuteTime": {
     "end_time": "2024-01-24T20:10:12.017072900Z",
     "start_time": "2024-01-24T20:10:11.929695700Z"
    }
   },
   "outputs": [
    {
     "data": {
      "text/plain": "['foo', 'hola', 'baz']"
     },
     "execution_count": 29,
     "metadata": {},
     "output_type": "execute_result"
    }
   ],
   "source": [
    "a_list = [2, 3, 7, None]\n",
    "\n",
    "tup = ('foo', 'bar', 'baz')\n",
    "\n",
    "b_list = list(tup)\n",
    "\n",
    "b_list[1] = 'hola'\n",
    "b_list"
   ]
  },
  {
   "cell_type": "code",
   "execution_count": 30,
   "id": "dd400982ee4083ee",
   "metadata": {
    "ExecuteTime": {
     "end_time": "2024-01-24T20:10:12.036652Z",
     "start_time": "2024-01-24T20:10:12.002252200Z"
    }
   },
   "outputs": [
    {
     "data": {
      "text/plain": "[0, 1, 2, 3, 4, 5, 6, 7, 8, 9]"
     },
     "execution_count": 30,
     "metadata": {},
     "output_type": "execute_result"
    }
   ],
   "source": [
    "# se puede usar list\n",
    "\n",
    "gen = range(10)\n",
    "\n",
    "list(gen)"
   ]
  },
  {
   "cell_type": "markdown",
   "id": "9bc64ba8c3f6ea58",
   "metadata": {},
   "source": [
    "### Añadir y eliminar elementos\n",
    "\n",
    "Se puede agregar elementos al final con el método append"
   ]
  },
  {
   "cell_type": "code",
   "execution_count": 31,
   "id": "41f6c976956cb653",
   "metadata": {
    "ExecuteTime": {
     "end_time": "2024-01-24T20:10:12.105315400Z",
     "start_time": "2024-01-24T20:10:12.037658700Z"
    }
   },
   "outputs": [
    {
     "data": {
      "text/plain": "['foo', 'hola', 'baz', 'enano']"
     },
     "execution_count": 31,
     "metadata": {},
     "output_type": "execute_result"
    }
   ],
   "source": [
    "b_list.append('enano')\n",
    "b_list"
   ]
  },
  {
   "cell_type": "code",
   "execution_count": 32,
   "id": "49c2e98aaad0d12a",
   "metadata": {
    "ExecuteTime": {
     "end_time": "2024-01-24T20:10:12.136910100Z",
     "start_time": "2024-01-24T20:10:12.090170200Z"
    }
   },
   "outputs": [
    {
     "data": {
      "text/plain": "['foo', 'rojo', 'hola', 'baz', 'enano']"
     },
     "execution_count": 32,
     "metadata": {},
     "output_type": "execute_result"
    }
   ],
   "source": [
    "# se puede usar insert para insertar en una ubicación específica\n",
    "\n",
    "b_list.insert(1, 'rojo')\n",
    "b_list"
   ]
  },
  {
   "cell_type": "code",
   "execution_count": 33,
   "id": "5a59ba1afb48b1f3",
   "metadata": {
    "ExecuteTime": {
     "end_time": "2024-01-24T20:10:12.202685900Z",
     "start_time": "2024-01-24T20:10:12.126862900Z"
    }
   },
   "outputs": [
    {
     "data": {
      "text/plain": "'hola'"
     },
     "execution_count": 33,
     "metadata": {},
     "output_type": "execute_result"
    }
   ],
   "source": [
    "# el contrario de insert es pop, elimina y devuelve un elemento en un indice \n",
    "\n",
    "b_list.pop(2)"
   ]
  },
  {
   "cell_type": "code",
   "execution_count": 34,
   "id": "d0b135d094a7cda7",
   "metadata": {
    "ExecuteTime": {
     "end_time": "2024-01-24T20:10:12.247462100Z",
     "start_time": "2024-01-24T20:10:12.204725900Z"
    }
   },
   "outputs": [
    {
     "data": {
      "text/plain": "['foo', 'rojo', 'baz', 'enano']"
     },
     "execution_count": 34,
     "metadata": {},
     "output_type": "execute_result"
    }
   ],
   "source": [
    "b_list"
   ]
  },
  {
   "cell_type": "code",
   "execution_count": 35,
   "id": "7dda0a0d091461d3",
   "metadata": {
    "ExecuteTime": {
     "end_time": "2024-01-24T20:10:12.295172500Z",
     "start_time": "2024-01-24T20:10:12.238698200Z"
    }
   },
   "outputs": [
    {
     "data": {
      "text/plain": "['foo', 'rojo', 'baz', 'enano', 'foo']"
     },
     "execution_count": 35,
     "metadata": {},
     "output_type": "execute_result"
    }
   ],
   "source": [
    "# se pueden eliminar elementos por su valor con remove, encuentra el primer elemento con el valor y lo elimina\n",
    "\n",
    "b_list.append('foo')\n",
    "b_list"
   ]
  },
  {
   "cell_type": "code",
   "execution_count": 36,
   "id": "a9c402c1a584745",
   "metadata": {
    "ExecuteTime": {
     "end_time": "2024-01-24T20:10:12.335067500Z",
     "start_time": "2024-01-24T20:10:12.285155700Z"
    }
   },
   "outputs": [
    {
     "data": {
      "text/plain": "['rojo', 'baz', 'enano', 'foo']"
     },
     "execution_count": 36,
     "metadata": {},
     "output_type": "execute_result"
    }
   ],
   "source": [
    "b_list.remove('foo')\n",
    "b_list"
   ]
  },
  {
   "cell_type": "code",
   "execution_count": 37,
   "id": "557fb2c1ded8ec0b",
   "metadata": {
    "ExecuteTime": {
     "end_time": "2024-01-24T20:10:12.439773200Z",
     "start_time": "2024-01-24T20:10:12.340250900Z"
    }
   },
   "outputs": [
    {
     "data": {
      "text/plain": "True"
     },
     "execution_count": 37,
     "metadata": {},
     "output_type": "execute_result"
    }
   ],
   "source": [
    "# verificar si una lista contiene un valor \n",
    "\n",
    "'baz' in b_list"
   ]
  },
  {
   "cell_type": "code",
   "execution_count": 38,
   "id": "12a25c95f65f0026",
   "metadata": {
    "ExecuteTime": {
     "end_time": "2024-01-24T20:10:12.466325300Z",
     "start_time": "2024-01-24T20:10:12.417040500Z"
    }
   },
   "outputs": [
    {
     "data": {
      "text/plain": "False"
     },
     "execution_count": 38,
     "metadata": {},
     "output_type": "execute_result"
    }
   ],
   "source": [
    "'baz' not in b_list"
   ]
  },
  {
   "cell_type": "markdown",
   "id": "75e79accd12bcf10",
   "metadata": {},
   "source": [
    "#### Concatenar y combinar listas\n",
    "\n",
    "Igual que las tuplas, agregar dos listas con + las concatena\n"
   ]
  },
  {
   "cell_type": "code",
   "execution_count": 39,
   "id": "a162dd21b068f55c",
   "metadata": {
    "ExecuteTime": {
     "end_time": "2024-01-24T20:10:12.581600900Z",
     "start_time": "2024-01-24T20:10:12.467326300Z"
    }
   },
   "outputs": [
    {
     "data": {
      "text/plain": "[4, None, 'foo', 7, 8, (2, 3)]"
     },
     "execution_count": 39,
     "metadata": {},
     "output_type": "execute_result"
    }
   ],
   "source": [
    "[4, None, 'foo'] + [7, 8, (2, 3)]"
   ]
  },
  {
   "cell_type": "code",
   "execution_count": 40,
   "id": "b9d50f04e0e9b460",
   "metadata": {
    "ExecuteTime": {
     "end_time": "2024-01-24T20:10:12.622489700Z",
     "start_time": "2024-01-24T20:10:12.559699700Z"
    }
   },
   "outputs": [
    {
     "data": {
      "text/plain": "[4, 'None', 'foo', 7, 8, (2, 3)]"
     },
     "execution_count": 40,
     "metadata": {},
     "output_type": "execute_result"
    }
   ],
   "source": [
    "# si ya hay una lista definida , se pueden agregar multiples elementos usando el metodo extend\n",
    "\n",
    "x = [4, 'None', 'foo']\n",
    "\n",
    "x.extend([7, 8, (2, 3)])\n",
    "x"
   ]
  },
  {
   "cell_type": "markdown",
   "id": "b2a2f78c0cf1597e",
   "metadata": {},
   "source": [
    "La concatenación por adición es una operación costosa. Usando extend es más eficiente.\n",
    "\n",
    "#### Ordenando\n",
    "\n",
    "Se puede ordenar una lista en el lugar llamando la función `sort`"
   ]
  },
  {
   "cell_type": "code",
   "execution_count": 41,
   "id": "4a4addb8a3ecfc1",
   "metadata": {
    "ExecuteTime": {
     "end_time": "2024-01-24T20:10:12.656468700Z",
     "start_time": "2024-01-24T20:10:12.612244800Z"
    }
   },
   "outputs": [
    {
     "data": {
      "text/plain": "[1, 2, 3, 5, 7]"
     },
     "execution_count": 41,
     "metadata": {},
     "output_type": "execute_result"
    }
   ],
   "source": [
    "a = [7, 2, 5, 1, 3]\n",
    "a.sort()\n",
    "a"
   ]
  },
  {
   "cell_type": "code",
   "execution_count": 42,
   "id": "a9ca96a81ba98ce8",
   "metadata": {
    "ExecuteTime": {
     "end_time": "2024-01-24T20:10:12.715735Z",
     "start_time": "2024-01-24T20:10:12.646639100Z"
    }
   },
   "outputs": [
    {
     "data": {
      "text/plain": "['He', 'saw', 'six', 'small', 'foxes']"
     },
     "execution_count": 42,
     "metadata": {},
     "output_type": "execute_result"
    }
   ],
   "source": [
    "# sort tiene un argumento key, permite pasar una llave secundaria de ordenamiento\n",
    "\n",
    "b = ['saw', 'small', 'He', 'foxes', 'six']\n",
    "b.sort(key = len)\n",
    "b"
   ]
  },
  {
   "cell_type": "markdown",
   "id": "930bcc158be6a0d5",
   "metadata": {},
   "source": [
    "#### Slicing \n",
    "\n",
    "Se usa para seleccionar secciones de secuencias usando la notación **slice**, la cual consiste en su forma básica en **comienzo:final** "
   ]
  },
  {
   "cell_type": "code",
   "execution_count": 43,
   "id": "1b9077d5da6b15fd",
   "metadata": {
    "ExecuteTime": {
     "end_time": "2024-01-24T20:10:12.752656900Z",
     "start_time": "2024-01-24T20:10:12.704581600Z"
    }
   },
   "outputs": [
    {
     "data": {
      "text/plain": "[2, 3, 7, 5]"
     },
     "execution_count": 43,
     "metadata": {},
     "output_type": "execute_result"
    }
   ],
   "source": [
    "seq = [7, 2, 3, 7, 5, 6, 0, 1]\n",
    "seq[1:5]"
   ]
  },
  {
   "cell_type": "code",
   "execution_count": 44,
   "id": "d282fa9fd880be10",
   "metadata": {
    "ExecuteTime": {
     "end_time": "2024-01-24T20:10:12.830214600Z",
     "start_time": "2024-01-24T20:10:12.742336800Z"
    }
   },
   "outputs": [
    {
     "data": {
      "text/plain": "[7, 2, 3, 6, 3, 6, 0, 1]"
     },
     "execution_count": 44,
     "metadata": {},
     "output_type": "execute_result"
    }
   ],
   "source": [
    "# se pueden asignar con una secuencia\n",
    "\n",
    "seq[3:5] = [6, 3]\n",
    "seq"
   ]
  },
  {
   "cell_type": "markdown",
   "id": "fee6f1b855b216ab",
   "metadata": {},
   "source": [
    "El elemento inicial de un **slice** es incluido pero el elemento final no. El comienzo como el final pueden ser omitidos."
   ]
  },
  {
   "cell_type": "code",
   "execution_count": 45,
   "id": "fd223b217de41ab1",
   "metadata": {
    "ExecuteTime": {
     "end_time": "2024-01-24T20:10:12.873938900Z",
     "start_time": "2024-01-24T20:10:12.831216600Z"
    }
   },
   "outputs": [
    {
     "data": {
      "text/plain": "[7, 2, 3, 6, 3]"
     },
     "execution_count": 45,
     "metadata": {},
     "output_type": "execute_result"
    }
   ],
   "source": [
    "seq[:5]"
   ]
  },
  {
   "cell_type": "code",
   "execution_count": 46,
   "id": "321c05c5296e279",
   "metadata": {
    "ExecuteTime": {
     "end_time": "2024-01-24T20:10:12.934200900Z",
     "start_time": "2024-01-24T20:10:12.863324400Z"
    }
   },
   "outputs": [
    {
     "data": {
      "text/plain": "[6, 3, 6, 0, 1]"
     },
     "execution_count": 46,
     "metadata": {},
     "output_type": "execute_result"
    }
   ],
   "source": [
    "seq[3:]"
   ]
  },
  {
   "cell_type": "code",
   "execution_count": 47,
   "id": "89f574e85dd50b25",
   "metadata": {
    "ExecuteTime": {
     "end_time": "2024-01-24T20:10:13.002328600Z",
     "start_time": "2024-01-24T20:10:12.935202700Z"
    }
   },
   "outputs": [
    {
     "data": {
      "text/plain": "[3, 6, 0, 1]"
     },
     "execution_count": 47,
     "metadata": {},
     "output_type": "execute_result"
    }
   ],
   "source": [
    "# un indice negativo desliza la secuencia desde el final\n",
    "\n",
    "seq[-4:]"
   ]
  },
  {
   "cell_type": "code",
   "execution_count": 48,
   "id": "476427533174d43a",
   "metadata": {
    "ExecuteTime": {
     "end_time": "2024-01-24T20:10:13.064273600Z",
     "start_time": "2024-01-24T20:10:12.982306400Z"
    }
   },
   "outputs": [
    {
     "data": {
      "text/plain": "[3, 6, 3, 6]"
     },
     "execution_count": 48,
     "metadata": {},
     "output_type": "execute_result"
    }
   ],
   "source": [
    "seq[-6:-2]"
   ]
  },
  {
   "cell_type": "code",
   "execution_count": 49,
   "id": "c67c1caef53f6147",
   "metadata": {
    "ExecuteTime": {
     "end_time": "2024-01-24T20:10:13.095173100Z",
     "start_time": "2024-01-24T20:10:13.052407400Z"
    }
   },
   "outputs": [
    {
     "data": {
      "text/plain": "[7, 3, 3, 0]"
     },
     "execution_count": 49,
     "metadata": {},
     "output_type": "execute_result"
    }
   ],
   "source": [
    "# se puede tomar otro paso luego del segundo dos puntos para tomar elementos con saltos\n",
    "\n",
    "seq[::2]"
   ]
  },
  {
   "cell_type": "code",
   "execution_count": 50,
   "id": "47b4210f251777ba",
   "metadata": {
    "ExecuteTime": {
     "end_time": "2024-01-24T20:10:13.156327800Z",
     "start_time": "2024-01-24T20:10:13.092279700Z"
    }
   },
   "outputs": [
    {
     "data": {
      "text/plain": "[1, 0, 6, 3, 6, 3, 2, 7]"
     },
     "execution_count": 50,
     "metadata": {},
     "output_type": "execute_result"
    }
   ],
   "source": [
    "# poner -1 como paso, invierte la lista \n",
    "\n",
    "seq[::-1]"
   ]
  },
  {
   "cell_type": "markdown",
   "id": "b77cdec516934bd0",
   "metadata": {},
   "source": [
    "### Diccionario\n",
    "\n",
    "Un diccionario es una colección de pares llaves - valor donde ambos son objetos de python. Cada llave se asocia con un valor para que este se pueda recuperar, insertar, modificar o eliminar dada una llave particular. Se pueden crear con paréntesis {} o con `dict`."
   ]
  },
  {
   "cell_type": "code",
   "execution_count": 51,
   "id": "9382f5bc9027fba8",
   "metadata": {
    "ExecuteTime": {
     "end_time": "2024-01-24T20:10:13.185724600Z",
     "start_time": "2024-01-24T20:10:13.145649500Z"
    }
   },
   "outputs": [],
   "source": [
    "dic_vacio = {}"
   ]
  },
  {
   "cell_type": "code",
   "execution_count": 52,
   "id": "b5e3952062cbceae",
   "metadata": {
    "ExecuteTime": {
     "end_time": "2024-01-24T20:10:13.288151800Z",
     "start_time": "2024-01-24T20:10:13.186735100Z"
    }
   },
   "outputs": [
    {
     "data": {
      "text/plain": "{'a': 'algún valor', 'b': [1, 2, 3, 4]}"
     },
     "execution_count": 52,
     "metadata": {},
     "output_type": "execute_result"
    }
   ],
   "source": [
    "d1 = {'a': 'algún valor', 'b': [1, 2, 3, 4]}\n",
    "d1"
   ]
  },
  {
   "cell_type": "code",
   "execution_count": 53,
   "id": "8125c569666407fe",
   "metadata": {
    "ExecuteTime": {
     "end_time": "2024-01-24T20:10:13.321165700Z",
     "start_time": "2024-01-24T20:10:13.273354600Z"
    }
   },
   "outputs": [
    {
     "data": {
      "text/plain": "{'a': 'algún valor', 'b': [1, 2, 3, 4], 7: 'un entero'}"
     },
     "execution_count": 53,
     "metadata": {},
     "output_type": "execute_result"
    }
   ],
   "source": [
    "# se pueden acceder a los elementos usando la misma notación de una lista o tupla\n",
    "\n",
    "d1[7] = 'un entero'\n",
    "d1"
   ]
  },
  {
   "cell_type": "code",
   "execution_count": 54,
   "id": "1b6dbaa4dfc70b64",
   "metadata": {
    "ExecuteTime": {
     "end_time": "2024-01-24T20:10:13.402700700Z",
     "start_time": "2024-01-24T20:10:13.312686900Z"
    }
   },
   "outputs": [
    {
     "data": {
      "text/plain": "[1, 2, 3, 4]"
     },
     "execution_count": 54,
     "metadata": {},
     "output_type": "execute_result"
    }
   ],
   "source": [
    "d1['b']"
   ]
  },
  {
   "cell_type": "code",
   "execution_count": 55,
   "id": "83f340f784433e54",
   "metadata": {
    "ExecuteTime": {
     "end_time": "2024-01-24T20:10:13.435513800Z",
     "start_time": "2024-01-24T20:10:13.378261Z"
    }
   },
   "outputs": [
    {
     "data": {
      "text/plain": "True"
     },
     "execution_count": 55,
     "metadata": {},
     "output_type": "execute_result"
    }
   ],
   "source": [
    "# se puede verificar si el diccionario contiene una llave usando `in`\n",
    "\n",
    "'b' in d1"
   ]
  },
  {
   "cell_type": "code",
   "execution_count": 56,
   "id": "1846fd75068d37c3",
   "metadata": {
    "ExecuteTime": {
     "end_time": "2024-01-24T20:10:13.539477Z",
     "start_time": "2024-01-24T20:10:13.423667900Z"
    }
   },
   "outputs": [
    {
     "data": {
      "text/plain": "{'a': 'algún valor', 'b': [1, 2, 3, 4], 7: 'un entero', 5: 'algun valor'}"
     },
     "execution_count": 56,
     "metadata": {},
     "output_type": "execute_result"
    }
   ],
   "source": [
    "# se pueden eliminar valores usando `del` o el método `pop`\n",
    "\n",
    "d1[5] = 'algun valor'\n",
    "d1"
   ]
  },
  {
   "cell_type": "code",
   "execution_count": 57,
   "id": "51a3402e196c326f",
   "metadata": {
    "ExecuteTime": {
     "end_time": "2024-01-24T20:10:13.569179400Z",
     "start_time": "2024-01-24T20:10:13.524912300Z"
    }
   },
   "outputs": [
    {
     "data": {
      "text/plain": "{'a': 'algún valor',\n 'b': [1, 2, 3, 4],\n 7: 'un entero',\n 5: 'algun valor',\n 'dummy': 'otro valor'}"
     },
     "execution_count": 57,
     "metadata": {},
     "output_type": "execute_result"
    }
   ],
   "source": [
    "d1['dummy'] = 'otro valor'\n",
    "d1"
   ]
  },
  {
   "cell_type": "code",
   "execution_count": 58,
   "id": "75a31e2d599274cc",
   "metadata": {
    "ExecuteTime": {
     "end_time": "2024-01-24T20:10:13.665643800Z",
     "start_time": "2024-01-24T20:10:13.569179400Z"
    }
   },
   "outputs": [
    {
     "data": {
      "text/plain": "{'a': 'algún valor', 'b': [1, 2, 3, 4], 7: 'un entero', 'dummy': 'otro valor'}"
     },
     "execution_count": 58,
     "metadata": {},
     "output_type": "execute_result"
    }
   ],
   "source": [
    "del d1[5]\n",
    "d1"
   ]
  },
  {
   "cell_type": "code",
   "execution_count": 59,
   "id": "ff9e64f6d718a995",
   "metadata": {
    "ExecuteTime": {
     "end_time": "2024-01-24T20:10:13.684566700Z",
     "start_time": "2024-01-24T20:10:13.650797700Z"
    }
   },
   "outputs": [
    {
     "data": {
      "text/plain": "'otro valor'"
     },
     "execution_count": 59,
     "metadata": {},
     "output_type": "execute_result"
    }
   ],
   "source": [
    "ret = d1.pop('dummy')\n",
    "ret"
   ]
  },
  {
   "cell_type": "code",
   "execution_count": 60,
   "id": "69f589f3f9c03ce7",
   "metadata": {
    "ExecuteTime": {
     "end_time": "2024-01-24T20:10:13.760940400Z",
     "start_time": "2024-01-24T20:10:13.678151Z"
    }
   },
   "outputs": [
    {
     "data": {
      "text/plain": "{'a': 'algún valor', 'b': [1, 2, 3, 4], 7: 'un entero'}"
     },
     "execution_count": 60,
     "metadata": {},
     "output_type": "execute_result"
    }
   ],
   "source": [
    "d1"
   ]
  },
  {
   "cell_type": "markdown",
   "id": "c2e923d78b3d2bd2",
   "metadata": {},
   "source": [
    "Los métodos `keys`, `values` dan iteradores de las llaves y valores del diccionario."
   ]
  },
  {
   "cell_type": "code",
   "execution_count": 61,
   "id": "2a4cae0686ee0f24",
   "metadata": {
    "ExecuteTime": {
     "end_time": "2024-01-24T20:10:13.798099300Z",
     "start_time": "2024-01-24T20:10:13.747737600Z"
    }
   },
   "outputs": [
    {
     "data": {
      "text/plain": "['a', 'b', 7]"
     },
     "execution_count": 61,
     "metadata": {},
     "output_type": "execute_result"
    }
   ],
   "source": [
    "list(d1.keys())"
   ]
  },
  {
   "cell_type": "code",
   "execution_count": 62,
   "id": "60d4278593095184",
   "metadata": {
    "ExecuteTime": {
     "end_time": "2024-01-24T20:10:13.891200Z",
     "start_time": "2024-01-24T20:10:13.799217800Z"
    }
   },
   "outputs": [
    {
     "data": {
      "text/plain": "['algún valor', [1, 2, 3, 4], 'un entero']"
     },
     "execution_count": 62,
     "metadata": {},
     "output_type": "execute_result"
    }
   ],
   "source": [
    "list(d1.values())"
   ]
  },
  {
   "cell_type": "code",
   "execution_count": 63,
   "id": "46adbcce7531033a",
   "metadata": {
    "ExecuteTime": {
     "end_time": "2024-01-24T20:10:13.936732200Z",
     "start_time": "2024-01-24T20:10:13.877075100Z"
    }
   },
   "outputs": [
    {
     "data": {
      "text/plain": "[('a', 'algún valor'), ('b', [1, 2, 3, 4]), (7, 'un entero')]"
     },
     "execution_count": 63,
     "metadata": {},
     "output_type": "execute_result"
    }
   ],
   "source": [
    "list(d1.items())"
   ]
  },
  {
   "cell_type": "code",
   "execution_count": 64,
   "id": "efc9f0f8e8bfac51",
   "metadata": {
    "ExecuteTime": {
     "end_time": "2024-01-24T20:10:14.041418300Z",
     "start_time": "2024-01-24T20:10:13.935077800Z"
    }
   },
   "outputs": [
    {
     "data": {
      "text/plain": "{'a': 'algún valor', 'b': 'foo', 7: 'un entero', 'c': 12}"
     },
     "execution_count": 64,
     "metadata": {},
     "output_type": "execute_result"
    }
   ],
   "source": [
    "# se pueden combinar diccionarios usando el método `update`\n",
    "\n",
    "d1.update({'b': 'foo', 'c': 12})\n",
    "d1\n",
    "\n",
    "# reemplaza los valores de las llaves a actualizar"
   ]
  },
  {
   "cell_type": "markdown",
   "id": "b1053ec87085b92c",
   "metadata": {},
   "source": [
    "#### Creando diccionarios desde secuencias\n",
    "\n",
    "Se puede crear un diccionario desde dos secuencias usando `zip`"
   ]
  },
  {
   "cell_type": "code",
   "execution_count": 65,
   "id": "1bc655dae6f55422",
   "metadata": {
    "ExecuteTime": {
     "end_time": "2024-01-24T20:10:14.069277200Z",
     "start_time": "2024-01-24T20:10:14.023730200Z"
    }
   },
   "outputs": [
    {
     "ename": "NameError",
     "evalue": "name 'tupla' is not defined",
     "output_type": "error",
     "traceback": [
      "\u001B[1;31m---------------------------------------------------------------------------\u001B[0m",
      "\u001B[1;31mNameError\u001B[0m                                 Traceback (most recent call last)",
      "Cell \u001B[1;32mIn[65], line 4\u001B[0m\n\u001B[0;32m      1\u001B[0m \u001B[38;5;66;03m# un diccionario es una colección de 2 tuplas, dict acepta una lista de 2 tuplas\u001B[39;00m\n\u001B[0;32m      3\u001B[0m tuplas \u001B[38;5;241m=\u001B[39m \u001B[38;5;28mzip\u001B[39m(\u001B[38;5;28mrange\u001B[39m(\u001B[38;5;241m5\u001B[39m), \u001B[38;5;28mreversed\u001B[39m(\u001B[38;5;28mrange\u001B[39m(\u001B[38;5;241m5\u001B[39m)))\n\u001B[1;32m----> 4\u001B[0m tupla\n",
      "\u001B[1;31mNameError\u001B[0m: name 'tupla' is not defined"
     ]
    }
   ],
   "source": [
    "# un diccionario es una colección de 2 tuplas, dict acepta una lista de 2 tuplas\n",
    "\n",
    "tuplas = zip(range(5), reversed(range(5)))\n",
    "tuplas"
   ]
  },
  {
   "cell_type": "code",
   "execution_count": 66,
   "id": "dd2c2aebb3d611dc",
   "metadata": {
    "ExecuteTime": {
     "end_time": "2024-01-24T20:10:14.143429500Z",
     "start_time": "2024-01-24T20:10:14.062684700Z"
    }
   },
   "outputs": [
    {
     "data": {
      "text/plain": "{0: 4, 1: 3, 2: 2, 3: 1, 4: 0}"
     },
     "execution_count": 66,
     "metadata": {},
     "output_type": "execute_result"
    }
   ],
   "source": [
    "mapeado = dict(tuplas)\n",
    "mapeado"
   ]
  },
  {
   "cell_type": "markdown",
   "id": "b7e878c1157fc6e5",
   "metadata": {},
   "source": [
    "#### Valores por defecto\n"
   ]
  },
  {
   "cell_type": "code",
   "execution_count": 67,
   "id": "79f1a7b9aa72470f",
   "metadata": {
    "ExecuteTime": {
     "end_time": "2024-01-24T20:10:14.200842600Z",
     "start_time": "2024-01-24T20:10:14.144441800Z"
    }
   },
   "outputs": [],
   "source": [
    "palabras = ['apple', 'bat', 'bar', 'atom', 'book']\n",
    "\n",
    "por_letra = {}"
   ]
  },
  {
   "cell_type": "code",
   "execution_count": 68,
   "id": "87bc650e500bd1a4",
   "metadata": {
    "ExecuteTime": {
     "end_time": "2024-01-24T20:10:14.287549800Z",
     "start_time": "2024-01-24T20:10:14.195833600Z"
    }
   },
   "outputs": [],
   "source": [
    "for palabra in palabras:\n",
    "    letra = palabra[0]\n",
    "    if letra not in por_letra:\n",
    "        por_letra[letra] = [palabra]\n",
    "    else:\n",
    "        por_letra[letra].append(palabra)"
   ]
  },
  {
   "cell_type": "code",
   "execution_count": 69,
   "id": "8b6ce55c7faced7e",
   "metadata": {
    "ExecuteTime": {
     "end_time": "2024-01-24T20:10:14.320054600Z",
     "start_time": "2024-01-24T20:10:14.287549800Z"
    }
   },
   "outputs": [
    {
     "data": {
      "text/plain": "{'a': ['apple', 'atom'], 'b': ['bat', 'bar', 'book']}"
     },
     "execution_count": 69,
     "metadata": {},
     "output_type": "execute_result"
    }
   ],
   "source": [
    "por_letra"
   ]
  },
  {
   "cell_type": "code",
   "execution_count": 70,
   "id": "8b506d929279ffb",
   "metadata": {
    "ExecuteTime": {
     "end_time": "2024-01-24T20:10:14.377809200Z",
     "start_time": "2024-01-24T20:10:14.313309500Z"
    }
   },
   "outputs": [
    {
     "data": {
      "text/plain": "{'a': ['apple', 'atom'], 'b': ['bat', 'bar', 'book']}"
     },
     "execution_count": 70,
     "metadata": {},
     "output_type": "execute_result"
    }
   ],
   "source": [
    "# se puede usar el método `setdefault` para simplificar \n",
    "\n",
    "por_letra = {}\n",
    "\n",
    "for palabra in palabras:\n",
    "    letra = palabra[0]\n",
    "    por_letra.setdefault(letra, []).append(palabra)\n",
    "\n",
    "por_letra"
   ]
  },
  {
   "cell_type": "code",
   "execution_count": 71,
   "id": "f735e8031844b262",
   "metadata": {
    "ExecuteTime": {
     "end_time": "2024-01-24T20:10:14.404762500Z",
     "start_time": "2024-01-24T20:10:14.366697Z"
    }
   },
   "outputs": [
    {
     "data": {
      "text/plain": "defaultdict(list, {'a': ['apple', 'atom'], 'b': ['bat', 'bar', 'book']})"
     },
     "execution_count": 71,
     "metadata": {},
     "output_type": "execute_result"
    }
   ],
   "source": [
    "# se puede usar `defaultdict` del módulo `collections` para simplificar aún más\n",
    "\n",
    "from collections import defaultdict\n",
    "\n",
    "por_letra = defaultdict(list)\n",
    "\n",
    "for palabra in palabras:\n",
    "    por_letra[palabra[0]].append(palabra)\n",
    "    \n",
    "por_letra"
   ]
  },
  {
   "cell_type": "markdown",
   "id": "bd4d9f1f1e2457b2",
   "metadata": {},
   "source": [
    "#### Tipos validos de llaves de diccionario\n",
    "\n",
    "Los valores de un diccionario pueden ser de cualquier clase, las llaves tienen que ser generalmente objetos inmutables como escalares, tuplas. Tienen que tener **Hashability**. Se puede ver si un obejto es **hashable** con la función `hash`"
   ]
  },
  {
   "cell_type": "code",
   "execution_count": 72,
   "id": "f4d05ca626b64e32",
   "metadata": {
    "ExecuteTime": {
     "end_time": "2024-01-24T20:10:14.521529400Z",
     "start_time": "2024-01-24T20:10:14.405978Z"
    }
   },
   "outputs": [
    {
     "data": {
      "text/plain": "3252693385297671262"
     },
     "execution_count": 72,
     "metadata": {},
     "output_type": "execute_result"
    }
   ],
   "source": [
    "hash('string')"
   ]
  },
  {
   "cell_type": "code",
   "execution_count": 73,
   "id": "de0e50dc2c2f134f",
   "metadata": {
    "ExecuteTime": {
     "end_time": "2024-01-24T20:10:14.555881200Z",
     "start_time": "2024-01-24T20:10:14.494658300Z"
    }
   },
   "outputs": [
    {
     "data": {
      "text/plain": "-9209053662355515447"
     },
     "execution_count": 73,
     "metadata": {},
     "output_type": "execute_result"
    }
   ],
   "source": [
    "hash((1, 2, (2, 3)))"
   ]
  },
  {
   "cell_type": "code",
   "execution_count": 74,
   "id": "61c9c902e52eb984",
   "metadata": {
    "ExecuteTime": {
     "end_time": "2024-01-24T20:10:14.645193800Z",
     "start_time": "2024-01-24T20:10:14.534342100Z"
    }
   },
   "outputs": [
    {
     "ename": "TypeError",
     "evalue": "unhashable type: 'list'",
     "output_type": "error",
     "traceback": [
      "\u001B[1;31m---------------------------------------------------------------------------\u001B[0m",
      "\u001B[1;31mTypeError\u001B[0m                                 Traceback (most recent call last)",
      "Cell \u001B[1;32mIn[74], line 1\u001B[0m\n\u001B[1;32m----> 1\u001B[0m \u001B[38;5;28mhash\u001B[39m((\u001B[38;5;241m1\u001B[39m, \u001B[38;5;241m2\u001B[39m, [\u001B[38;5;241m2\u001B[39m, \u001B[38;5;241m3\u001B[39m]))\n",
      "\u001B[1;31mTypeError\u001B[0m: unhashable type: 'list'"
     ]
    }
   ],
   "source": [
    "hash((1, 2, [2, 3]))\n",
    "\n",
    "# Falla porque las listas son mutables."
   ]
  },
  {
   "cell_type": "code",
   "execution_count": 75,
   "id": "7be605a7fe8672e5",
   "metadata": {
    "ExecuteTime": {
     "end_time": "2024-01-24T20:10:14.683423Z",
     "start_time": "2024-01-24T20:10:14.647507600Z"
    }
   },
   "outputs": [
    {
     "data": {
      "text/plain": "{(1, 2, 3): 5}"
     },
     "execution_count": 75,
     "metadata": {},
     "output_type": "execute_result"
    }
   ],
   "source": [
    "# Para usar una lista como llave, se puede convertir a una tupla\n",
    "\n",
    "d = {}\n",
    "\n",
    "d[tuple([1, 2, 3])] = 5\n",
    "d"
   ]
  },
  {
   "cell_type": "markdown",
   "id": "2fa66e5d670d243c",
   "metadata": {},
   "source": [
    "### Conjuntos\n",
    "\n",
    "Un conjunto es una colección no ordenada de elementos únicos. Se puede crear con `set` o con `{}`."
   ]
  },
  {
   "cell_type": "code",
   "execution_count": 76,
   "id": "49ebbf50a43f4033",
   "metadata": {
    "ExecuteTime": {
     "end_time": "2024-01-24T20:10:14.754531Z",
     "start_time": "2024-01-24T20:10:14.672451400Z"
    }
   },
   "outputs": [
    {
     "data": {
      "text/plain": "{1, 2, 3}"
     },
     "execution_count": 76,
     "metadata": {},
     "output_type": "execute_result"
    }
   ],
   "source": [
    "set([2, 2, 2, 1, 3, 3])"
   ]
  },
  {
   "cell_type": "code",
   "execution_count": 77,
   "id": "ac492d759890be3c",
   "metadata": {
    "ExecuteTime": {
     "end_time": "2024-01-24T20:10:15.236721800Z",
     "start_time": "2024-01-24T20:10:14.693735200Z"
    }
   },
   "outputs": [
    {
     "data": {
      "text/plain": "{1, 2, 3}"
     },
     "execution_count": 77,
     "metadata": {},
     "output_type": "execute_result"
    }
   ],
   "source": [
    "{2, 2, 2, 1, 3, 3}"
   ]
  },
  {
   "cell_type": "markdown",
   "id": "416ef91e0c5920f5",
   "metadata": {},
   "source": [
    "Los conjuntos aceptan operaciones matemáticas como uniones, intersección, diferencia y diferencia simétricas, por ejemplo:"
   ]
  },
  {
   "cell_type": "code",
   "execution_count": 78,
   "id": "be40c67d5f8a1366",
   "metadata": {
    "ExecuteTime": {
     "end_time": "2024-01-24T20:10:15.356873100Z",
     "start_time": "2024-01-24T20:10:15.226881Z"
    }
   },
   "outputs": [
    {
     "data": {
      "text/plain": "{1, 2, 3, 4, 5, 6, 7, 8}"
     },
     "execution_count": 78,
     "metadata": {},
     "output_type": "execute_result"
    }
   ],
   "source": [
    "a = {1, 2, 3, 4, 5}\n",
    "b = {3, 4, 5, 6, 7, 8}\n",
    "\n",
    "a.union(b)"
   ]
  },
  {
   "cell_type": "code",
   "execution_count": 79,
   "id": "86cbbcd45269987f",
   "metadata": {
    "ExecuteTime": {
     "end_time": "2024-01-24T20:10:15.411180500Z",
     "start_time": "2024-01-24T20:10:15.359938200Z"
    }
   },
   "outputs": [
    {
     "data": {
      "text/plain": "{1, 2, 3, 4, 5, 6, 7, 8}"
     },
     "execution_count": 79,
     "metadata": {},
     "output_type": "execute_result"
    }
   ],
   "source": [
    "a | b"
   ]
  },
  {
   "cell_type": "code",
   "execution_count": 80,
   "id": "3090d693e5625c18",
   "metadata": {
    "ExecuteTime": {
     "end_time": "2024-01-24T20:10:15.493574600Z",
     "start_time": "2024-01-24T20:10:15.396625Z"
    }
   },
   "outputs": [
    {
     "data": {
      "text/plain": "{3, 4, 5}"
     },
     "execution_count": 80,
     "metadata": {},
     "output_type": "execute_result"
    }
   ],
   "source": [
    "a.intersection(b)"
   ]
  },
  {
   "cell_type": "code",
   "execution_count": 81,
   "id": "b0165ccdb4ddfe4",
   "metadata": {
    "ExecuteTime": {
     "end_time": "2024-01-24T20:10:15.547768500Z",
     "start_time": "2024-01-24T20:10:15.494582300Z"
    }
   },
   "outputs": [
    {
     "data": {
      "text/plain": "{3, 4, 5}"
     },
     "execution_count": 81,
     "metadata": {},
     "output_type": "execute_result"
    }
   ],
   "source": [
    "a & b"
   ]
  },
  {
   "cell_type": "code",
   "execution_count": 82,
   "id": "80f66c4bade181d2",
   "metadata": {
    "ExecuteTime": {
     "end_time": "2024-01-24T20:10:15.606052500Z",
     "start_time": "2024-01-24T20:10:15.536231200Z"
    }
   },
   "outputs": [
    {
     "data": {
      "text/plain": "['__and__',\n '__class__',\n '__class_getitem__',\n '__contains__',\n '__delattr__',\n '__dir__',\n '__doc__',\n '__eq__',\n '__format__',\n '__ge__',\n '__getattribute__',\n '__getstate__',\n '__gt__',\n '__hash__',\n '__iand__',\n '__init__',\n '__init_subclass__',\n '__ior__',\n '__isub__',\n '__iter__',\n '__ixor__',\n '__le__',\n '__len__',\n '__lt__',\n '__ne__',\n '__new__',\n '__or__',\n '__rand__',\n '__reduce__',\n '__reduce_ex__',\n '__repr__',\n '__ror__',\n '__rsub__',\n '__rxor__',\n '__setattr__',\n '__sizeof__',\n '__str__',\n '__sub__',\n '__subclasshook__',\n '__xor__',\n 'add',\n 'clear',\n 'copy',\n 'difference',\n 'difference_update',\n 'discard',\n 'intersection',\n 'intersection_update',\n 'isdisjoint',\n 'issubset',\n 'issuperset',\n 'pop',\n 'remove',\n 'symmetric_difference',\n 'symmetric_difference_update',\n 'union',\n 'update']"
     },
     "execution_count": 82,
     "metadata": {},
     "output_type": "execute_result"
    }
   ],
   "source": [
    "dir(set)"
   ]
  },
  {
   "cell_type": "markdown",
   "id": "ee36be9edf4b020f",
   "metadata": {},
   "source": [
    "Todas las operaciones lógicas de conjuntos tiene una contraparte que reemplaza los contenidos en el conjunto izquierdo con el resultado de la operación. Por ejemplo:"
   ]
  },
  {
   "cell_type": "code",
   "execution_count": 83,
   "id": "1053a2de5dae2d04",
   "metadata": {
    "ExecuteTime": {
     "end_time": "2024-01-24T20:10:15.662393800Z",
     "start_time": "2024-01-24T20:10:15.606052500Z"
    }
   },
   "outputs": [
    {
     "data": {
      "text/plain": "{1, 2, 3, 4, 5, 6, 7, 8}"
     },
     "execution_count": 83,
     "metadata": {},
     "output_type": "execute_result"
    }
   ],
   "source": [
    "c = a.copy()\n",
    "\n",
    "c |= b\n",
    "c"
   ]
  },
  {
   "cell_type": "code",
   "execution_count": 84,
   "id": "b3f2bc37290c9d11",
   "metadata": {
    "ExecuteTime": {
     "end_time": "2024-01-24T20:10:15.753898900Z",
     "start_time": "2024-01-24T20:10:15.656073300Z"
    }
   },
   "outputs": [
    {
     "data": {
      "text/plain": "{3, 4, 5}"
     },
     "execution_count": 84,
     "metadata": {},
     "output_type": "execute_result"
    }
   ],
   "source": [
    "d = a.copy()\n",
    "\n",
    "d &= b\n",
    "d"
   ]
  },
  {
   "cell_type": "markdown",
   "id": "2bfc3561ed6f04b4",
   "metadata": {},
   "source": [
    "Como las llaves de diccionario, los elementos del conjunto deben ser inmutables y **hashables**. Para guardar objetos mutables como listas en un conjunto se pueden convertir a tuplas."
   ]
  },
  {
   "cell_type": "code",
   "execution_count": 85,
   "id": "593c80b387dd9120",
   "metadata": {
    "ExecuteTime": {
     "end_time": "2024-01-24T20:10:15.816614800Z",
     "start_time": "2024-01-24T20:10:15.756632400Z"
    }
   },
   "outputs": [
    {
     "data": {
      "text/plain": "{(1, 2, 3, 4)}"
     },
     "execution_count": 85,
     "metadata": {},
     "output_type": "execute_result"
    }
   ],
   "source": [
    "data = [1, 2, 3, 4]\n",
    "conjunto = {tuple(data)}\n",
    "conjunto"
   ]
  },
  {
   "cell_type": "code",
   "execution_count": 86,
   "id": "a148b7ca003ae537",
   "metadata": {
    "ExecuteTime": {
     "end_time": "2024-01-24T20:10:15.880640200Z",
     "start_time": "2024-01-24T20:10:15.811047Z"
    }
   },
   "outputs": [
    {
     "data": {
      "text/plain": "True"
     },
     "execution_count": 86,
     "metadata": {},
     "output_type": "execute_result"
    }
   ],
   "source": [
    "# se puede verificar si un conjunto es subconjunto de otro\n",
    "\n",
    "a_conjunto = {1, 2, 3, 4, 5}\n",
    "\n",
    "{1, 2, 3}.issubset(a_conjunto)"
   ]
  },
  {
   "cell_type": "code",
   "execution_count": 87,
   "id": "6c8e864176cd43c",
   "metadata": {
    "ExecuteTime": {
     "end_time": "2024-01-24T20:10:15.931455100Z",
     "start_time": "2024-01-24T20:10:15.881640600Z"
    }
   },
   "outputs": [
    {
     "data": {
      "text/plain": "True"
     },
     "execution_count": 87,
     "metadata": {},
     "output_type": "execute_result"
    }
   ],
   "source": [
    "a_conjunto.issuperset({1, 2, 3})"
   ]
  },
  {
   "cell_type": "code",
   "execution_count": 88,
   "id": "5c9701d7ede2d721",
   "metadata": {
    "ExecuteTime": {
     "end_time": "2024-01-24T20:10:15.992982400Z",
     "start_time": "2024-01-24T20:10:15.926331800Z"
    }
   },
   "outputs": [
    {
     "data": {
      "text/plain": "True"
     },
     "execution_count": 88,
     "metadata": {},
     "output_type": "execute_result"
    }
   ],
   "source": [
    "{1, 2, 3} == {3, 2, 1}"
   ]
  },
  {
   "cell_type": "markdown",
   "id": "85803ad1210e3f46",
   "metadata": {},
   "source": [
    "### Funciones de secuencias incluidas\n",
    "\n",
    "#### Enumeración \n",
    " \n",
    "Cuando se quiere contar el índice de un elemento en una secuencia iterativa, se podría construir así:\n",
    "\n",
    " "
   ]
  },
  {
   "cell_type": "markdown",
   "id": "ce7fd420bac6e55d",
   "metadata": {},
   "source": [
    "indice = 0\n",
    "for valor in coleccion:\n",
    "    hacer algo con el valor\n",
    "    indice += 1"
   ]
  },
  {
   "cell_type": "markdown",
   "id": "8210a637b6b46ecc",
   "metadata": {},
   "source": [
    "Python tiene una función interna `enumerate` que devuelve una secuencia de tuplas (indice, valor)\n",
    "\n",
    "for indice, valor in enumerate(coleccion):\n",
    "    hacer algo con el valor"
   ]
  },
  {
   "cell_type": "markdown",
   "id": "fc7b364e9d6adaa6",
   "metadata": {},
   "source": [
    "#### Ordenar\n",
    "\n",
    "La función `sorted` devuelve una nueva lista ordenada \n"
   ]
  },
  {
   "cell_type": "code",
   "execution_count": 89,
   "id": "ac16632252529d6a",
   "metadata": {
    "ExecuteTime": {
     "end_time": "2024-01-24T20:10:16.040443900Z",
     "start_time": "2024-01-24T20:10:15.993980400Z"
    }
   },
   "outputs": [
    {
     "data": {
      "text/plain": "[0, 1, 2, 2, 3, 6, 7]"
     },
     "execution_count": 89,
     "metadata": {},
     "output_type": "execute_result"
    }
   ],
   "source": [
    "sorted([7, 1, 2, 6, 0, 3, 2])"
   ]
  },
  {
   "cell_type": "code",
   "execution_count": 90,
   "id": "79fe13aecc26ba78",
   "metadata": {
    "ExecuteTime": {
     "end_time": "2024-01-24T20:10:16.095883700Z",
     "start_time": "2024-01-24T20:10:16.028862100Z"
    }
   },
   "outputs": [
    {
     "data": {
      "text/plain": "[' ', 'M', 'V', 'a', 'a', 'e', 'e', 'g', 'o', 't']"
     },
     "execution_count": 90,
     "metadata": {},
     "output_type": "execute_result"
    }
   ],
   "source": [
    "sorted('Mateo Vega')"
   ]
  },
  {
   "cell_type": "markdown",
   "id": "647e90e3295fd386",
   "metadata": {},
   "source": [
    "#### Zip\n",
    "\n",
    "Zip empareja elementos de un numero de listas, tuplas u otras secuencias para crear una lista de tuplas"
   ]
  },
  {
   "cell_type": "code",
   "execution_count": 91,
   "id": "e598860e9a178a5",
   "metadata": {
    "ExecuteTime": {
     "end_time": "2024-01-24T20:10:16.141796Z",
     "start_time": "2024-01-24T20:10:16.096884300Z"
    }
   },
   "outputs": [
    {
     "data": {
      "text/plain": "[('foo', 'one'), ('bar', 'two'), ('baz', 'three')]"
     },
     "execution_count": 91,
     "metadata": {},
     "output_type": "execute_result"
    }
   ],
   "source": [
    "seq1 = ['foo', 'bar', 'baz']\n",
    "seq2 = ['one', 'two', 'three']\n",
    "\n",
    "zipped = zip(seq1, seq2)\n",
    "list(zipped)"
   ]
  },
  {
   "cell_type": "code",
   "execution_count": 92,
   "id": "41476e262ea1d617",
   "metadata": {
    "ExecuteTime": {
     "end_time": "2024-01-24T20:10:16.200271900Z",
     "start_time": "2024-01-24T20:10:16.133708900Z"
    }
   },
   "outputs": [
    {
     "data": {
      "text/plain": "[('foo', 'one', False), ('bar', 'two', True)]"
     },
     "execution_count": 92,
     "metadata": {},
     "output_type": "execute_result"
    }
   ],
   "source": [
    "# zip puede tomar numero arbitrario de secuencias, y el numero de elementos\n",
    "# producidos es determinado por la secuencia mas corta\n",
    "\n",
    "seq3 = [False, True]\n",
    "\n",
    "list(zip(seq1, seq2, seq3))"
   ]
  },
  {
   "cell_type": "code",
   "execution_count": 93,
   "id": "b674edf73ed8c35b",
   "metadata": {
    "ExecuteTime": {
     "end_time": "2024-01-24T20:10:16.240273700Z",
     "start_time": "2024-01-24T20:10:16.202272400Z"
    }
   },
   "outputs": [
    {
     "name": "stdout",
     "output_type": "stream",
     "text": [
      "0: foo, one\n",
      "1: bar, two\n",
      "2: baz, three\n"
     ]
    }
   ],
   "source": [
    "# un uso común de zip es iterar sobre multiples secuencias \n",
    "\n",
    "for index, (a, b) in enumerate(zip(seq1, seq2)):\n",
    "    print(f'{index}: {a}, {b}')"
   ]
  },
  {
   "cell_type": "markdown",
   "id": "a85eacde3caf13bd",
   "metadata": {},
   "source": [
    "#### Reversed\n",
    "\n",
    "itera sobre los elementos de una secuencia en orden inverso"
   ]
  },
  {
   "cell_type": "code",
   "execution_count": 94,
   "id": "8de5cc6d6e6a161a",
   "metadata": {
    "ExecuteTime": {
     "end_time": "2024-01-24T20:10:16.322043400Z",
     "start_time": "2024-01-24T20:10:16.235733500Z"
    }
   },
   "outputs": [
    {
     "data": {
      "text/plain": "[9, 8, 7, 6, 5, 4, 3, 2, 1, 0]"
     },
     "execution_count": 94,
     "metadata": {},
     "output_type": "execute_result"
    }
   ],
   "source": [
    "list(reversed(range(10)))"
   ]
  },
  {
   "cell_type": "code",
   "execution_count": 94,
   "id": "8815365af467dc9f",
   "metadata": {
    "ExecuteTime": {
     "end_time": "2024-01-24T20:10:16.349553100Z",
     "start_time": "2024-01-24T20:10:16.293035Z"
    }
   },
   "outputs": [],
   "source": []
  },
  {
   "cell_type": "markdown",
   "id": "72507041009731ee",
   "metadata": {},
   "source": [
    "### Listas, conjuntos y diccionarios comprensión\n",
    "\n",
    "Las comprensiones de listas permiten formar una nueva lista filtrando los elementos de una colección, transformando los elementos pasando el filtro en una expresión concisa tomando las forma:\n",
    "\n",
    "[expr for value in collection if condition]\n",
    "\n",
    "Pro ejemplo con una lista de cadenas podemos filtrar las cadenas con longitúd mayor a 2 y transformarlas a mayúsculas:"
   ]
  },
  {
   "cell_type": "code",
   "execution_count": 95,
   "id": "f42eb6c3f85dccba",
   "metadata": {
    "ExecuteTime": {
     "end_time": "2024-01-24T20:10:16.431587200Z",
     "start_time": "2024-01-24T20:10:16.350553600Z"
    }
   },
   "outputs": [
    {
     "data": {
      "text/plain": "['BAT', 'CAR', 'DOVE', 'PYTHON']"
     },
     "execution_count": 95,
     "metadata": {},
     "output_type": "execute_result"
    }
   ],
   "source": [
    "cadenas = ['a', 'as', 'bat', 'car', 'dove', 'python']\n",
    "\n",
    "[x.upper() for x in cadenas if len(x) > 2]"
   ]
  },
  {
   "cell_type": "markdown",
   "id": "4f50978ba702cc57",
   "metadata": {},
   "source": [
    "Una comprension de diccionario  se vería así:\n",
    "\n",
    "dict_comp = {key-expr : value-expr for value in collection if condition}\n",
    "\n",
    "Para un conjunto se vería así:\n",
    "\n",
    "set_comp = {expr for value in collection if condition}"
   ]
  },
  {
   "cell_type": "markdown",
   "id": "859c8b90033a5008",
   "metadata": {},
   "source": [
    "Supongamos que queremos un conjunto que contenga el tamaño de las cadenas"
   ]
  },
  {
   "cell_type": "code",
   "execution_count": 96,
   "id": "eab976b84121ddc8",
   "metadata": {
    "ExecuteTime": {
     "end_time": "2024-01-24T20:10:16.552875900Z",
     "start_time": "2024-01-24T20:10:16.422524800Z"
    }
   },
   "outputs": [
    {
     "data": {
      "text/plain": "{1, 2, 3, 4, 6}"
     },
     "execution_count": 96,
     "metadata": {},
     "output_type": "execute_result"
    }
   ],
   "source": [
    "tamanos = {len(x) for x in cadenas}\n",
    "tamanos"
   ]
  },
  {
   "cell_type": "code",
   "execution_count": 97,
   "id": "bbad73d3670b6df5",
   "metadata": {
    "ExecuteTime": {
     "end_time": "2024-01-24T20:10:16.655348400Z",
     "start_time": "2024-01-24T20:10:16.520273400Z"
    }
   },
   "outputs": [
    {
     "data": {
      "text/plain": "{1, 2, 3, 4, 6}"
     },
     "execution_count": 97,
     "metadata": {},
     "output_type": "execute_result"
    }
   ],
   "source": [
    "# Podemos crear un mapa de cadenas a sus ubicaciones en la lista\n",
    "\n",
    "set(map(len, cadenas))"
   ]
  },
  {
   "cell_type": "code",
   "execution_count": 98,
   "id": "2684c947bea16ac1",
   "metadata": {
    "ExecuteTime": {
     "end_time": "2024-01-24T20:10:16.717517Z",
     "start_time": "2024-01-24T20:10:16.657356400Z"
    }
   },
   "outputs": [
    {
     "data": {
      "text/plain": "{'a': 0, 'as': 1, 'bat': 2, 'car': 3, 'dove': 4, 'python': 5}"
     },
     "execution_count": 98,
     "metadata": {},
     "output_type": "execute_result"
    }
   ],
   "source": [
    "# Podemos crear un diccionario que mapee una cadena a su ubicación en la lista\n",
    "\n",
    "loc = {valor: index for index, valor in enumerate(cadenas)}\n",
    "loc"
   ]
  },
  {
   "cell_type": "markdown",
   "id": "c97e433a63e8db16",
   "metadata": {},
   "source": [
    "#### Anidamiento de comprensiones\n",
    "\n",
    "Supongamos que tenemos una lista de listas conteniendo nombres en español e inglés"
   ]
  },
  {
   "cell_type": "code",
   "execution_count": 99,
   "id": "e6c165496ae0cff1",
   "metadata": {
    "ExecuteTime": {
     "end_time": "2024-01-24T20:10:16.779437100Z",
     "start_time": "2024-01-24T20:10:16.707168600Z"
    }
   },
   "outputs": [],
   "source": [
    "data = [['John', 'Emily', 'Michael', 'Mary', 'Steven'],\n",
    "        ['Maria', 'Juan', 'Javier', 'Natalia', 'Pilar']]"
   ]
  },
  {
   "cell_type": "code",
   "execution_count": 100,
   "id": "bef346f2128a7067",
   "metadata": {
    "ExecuteTime": {
     "end_time": "2024-01-24T20:10:16.851862600Z",
     "start_time": "2024-01-24T20:10:16.781438200Z"
    }
   },
   "outputs": [
    {
     "data": {
      "text/plain": "['Maria', 'Natalia']"
     },
     "execution_count": 100,
     "metadata": {},
     "output_type": "execute_result"
    }
   ],
   "source": [
    "# queremos una sola lista que contenga todos los nombres con dos o mas 'a' en ellos\n",
    "\n",
    "resultado = [nombre for nombres in data for nombre in nombres\n",
    "             if nombre.count('a') >= 2]\n",
    "resultado"
   ]
  },
  {
   "cell_type": "code",
   "execution_count": 101,
   "id": "a2435702f0620d11",
   "metadata": {
    "ExecuteTime": {
     "end_time": "2024-01-24T20:10:16.905808400Z",
     "start_time": "2024-01-24T20:10:16.819740400Z"
    }
   },
   "outputs": [
    {
     "data": {
      "text/plain": "[1, 2, 3, 4, 5, 6, 7, 8, 9]"
     },
     "execution_count": 101,
     "metadata": {},
     "output_type": "execute_result"
    }
   ],
   "source": [
    "tuplas = [(1, 2, 3), (4, 5, 6), (7, 8, 9)]\n",
    "\n",
    "aplastada = [x for tup in tuplas for x in tup]\n",
    "aplastada"
   ]
  },
  {
   "cell_type": "code",
   "execution_count": 102,
   "id": "93d107db96f529d2",
   "metadata": {
    "ExecuteTime": {
     "end_time": "2024-01-24T20:10:16.966549500Z",
     "start_time": "2024-01-24T20:10:16.904788600Z"
    }
   },
   "outputs": [
    {
     "data": {
      "text/plain": "[1, 2, 3, 4, 5, 6, 7, 8, 9]"
     },
     "execution_count": 102,
     "metadata": {},
     "output_type": "execute_result"
    }
   ],
   "source": [
    "# es equivalente a\n",
    "\n",
    "aplastada = []\n",
    "\n",
    "for tup in tuplas:\n",
    "    for x in tup:\n",
    "        aplastada.append(x)\n",
    "\n",
    "aplastada"
   ]
  },
  {
   "cell_type": "markdown",
   "id": "44151eb2a1bdd020",
   "metadata": {},
   "source": [
    "### Funciones\n",
    "\n",
    "Las funciones se declaran con la palabra clave `def`"
   ]
  },
  {
   "cell_type": "code",
   "execution_count": 103,
   "id": "d8922a98eb6e792",
   "metadata": {
    "ExecuteTime": {
     "end_time": "2024-01-24T20:10:17.024182200Z",
     "start_time": "2024-01-24T20:10:16.956661500Z"
    }
   },
   "outputs": [],
   "source": [
    "def mi_funcion(x, y):\n",
    "    return x + y"
   ]
  },
  {
   "cell_type": "code",
   "execution_count": 104,
   "id": "4565fa95e90b9945",
   "metadata": {
    "ExecuteTime": {
     "end_time": "2024-01-24T20:10:17.067240800Z",
     "start_time": "2024-01-24T20:10:17.025194Z"
    }
   },
   "outputs": [
    {
     "data": {
      "text/plain": "3"
     },
     "execution_count": 104,
     "metadata": {},
     "output_type": "execute_result"
    }
   ],
   "source": [
    "mi_funcion(1, 2)"
   ]
  },
  {
   "cell_type": "code",
   "execution_count": 105,
   "id": "b805162418301d02",
   "metadata": {
    "ExecuteTime": {
     "end_time": "2024-01-24T20:10:17.115001400Z",
     "start_time": "2024-01-24T20:10:17.060716800Z"
    }
   },
   "outputs": [
    {
     "name": "stdout",
     "output_type": "stream",
     "text": [
      "hola\n",
      "None\n"
     ]
    }
   ],
   "source": [
    "# No hay problema con multiples returns o ninguno. Si no hay ningún return Python devuelve None\n",
    "\n",
    "def funcion_sin_return(x):\n",
    "    print(x)\n",
    "\n",
    "resultado = funcion_sin_return('hola')\n",
    "print(resultado)"
   ]
  },
  {
   "cell_type": "code",
   "execution_count": 106,
   "id": "737584b4850f59d1",
   "metadata": {
    "ExecuteTime": {
     "end_time": "2024-01-24T20:10:17.157136900Z",
     "start_time": "2024-01-24T20:10:17.116793600Z"
    }
   },
   "outputs": [],
   "source": [
    "# cada función puede tener argumentos posicionales y argumentos con nombre\n",
    "\n",
    "def mi_funcion(x, y, z = 1.5):\n",
    "    if z > 1: \n",
    "        return z * (x + y)\n",
    "    else:\n",
    "        return z / (x + y)"
   ]
  },
  {
   "cell_type": "code",
   "execution_count": 107,
   "id": "7474b1a9aa0a6c5c",
   "metadata": {
    "ExecuteTime": {
     "end_time": "2024-01-24T20:10:17.196554300Z",
     "start_time": "2024-01-24T20:10:17.148717500Z"
    }
   },
   "outputs": [
    {
     "data": {
      "text/plain": "0.06363636363636363"
     },
     "execution_count": 107,
     "metadata": {},
     "output_type": "execute_result"
    }
   ],
   "source": [
    "mi_funcion(5, 6, z = 0.7) # especificando el argumento con nombre"
   ]
  },
  {
   "cell_type": "code",
   "execution_count": 108,
   "id": "1a14c7aeb817cefb",
   "metadata": {
    "ExecuteTime": {
     "end_time": "2024-01-24T20:10:17.223941900Z",
     "start_time": "2024-01-24T20:10:17.187045200Z"
    }
   },
   "outputs": [
    {
     "data": {
      "text/plain": "35.49"
     },
     "execution_count": 108,
     "metadata": {},
     "output_type": "execute_result"
    }
   ],
   "source": [
    "mi_funcion(3.14, 7, 3.5) # sin especificar el argumento con nombre"
   ]
  },
  {
   "cell_type": "code",
   "execution_count": 109,
   "id": "a69049aaae30d501",
   "metadata": {
    "ExecuteTime": {
     "end_time": "2024-01-24T20:10:17.290213400Z",
     "start_time": "2024-01-24T20:10:17.218095800Z"
    }
   },
   "outputs": [
    {
     "data": {
      "text/plain": "45.0"
     },
     "execution_count": 109,
     "metadata": {},
     "output_type": "execute_result"
    }
   ],
   "source": [
    "mi_funcion(10, 20) # usando el valor por defecto"
   ]
  },
  {
   "cell_type": "markdown",
   "id": "8c32eae8885f630",
   "metadata": {},
   "source": [
    "La principal restricción de argumentos de las funciones es que el argumento con nombre debe seguir los argumentos posicionales."
   ]
  },
  {
   "cell_type": "markdown",
   "id": "a62b8ada8c2e383e",
   "metadata": {},
   "source": [
    "### Namespaces, scope y local functions\n",
    "\n",
    "Las funciones pueden acceder a variables creadas dentro de la función y a variables globales. Una forma alternativa de describir el alcance de la variable en Python es un **namespace**. Cualquier variable asignada dentro de una función es puesta en el **namespace local**. Por ejemplo:\n"
   ]
  },
  {
   "cell_type": "code",
   "outputs": [],
   "source": [
    "a = []\n",
    "\n",
    "def func():\n",
    "    for i in range(5):\n",
    "        a.append(i)"
   ],
   "metadata": {
    "collapsed": false,
    "ExecuteTime": {
     "end_time": "2024-01-24T20:17:50.094295500Z",
     "start_time": "2024-01-24T20:17:50.079330Z"
    }
   },
   "id": "94e46be2d8da9e46",
   "execution_count": 115
  },
  {
   "cell_type": "code",
   "outputs": [
    {
     "data": {
      "text/plain": "[0, 1, 2, 3, 4]"
     },
     "execution_count": 116,
     "metadata": {},
     "output_type": "execute_result"
    }
   ],
   "source": [
    "# cada llamada a func va a modificar a\n",
    "\n",
    "func()\n",
    "a"
   ],
   "metadata": {
    "collapsed": false,
    "ExecuteTime": {
     "end_time": "2024-01-24T20:17:52.057538400Z",
     "start_time": "2024-01-24T20:17:52.048738700Z"
    }
   },
   "id": "d024d276858b893",
   "execution_count": 116
  },
  {
   "cell_type": "code",
   "outputs": [
    {
     "data": {
      "text/plain": "[0, 1, 2, 3, 4, 0, 1, 2, 3, 4]"
     },
     "execution_count": 117,
     "metadata": {},
     "output_type": "execute_result"
    }
   ],
   "source": [
    "func()\n",
    "a"
   ],
   "metadata": {
    "collapsed": false,
    "ExecuteTime": {
     "end_time": "2024-01-24T20:17:59.402627300Z",
     "start_time": "2024-01-24T20:17:59.386905300Z"
    }
   },
   "id": "cf3549bcd205510c",
   "execution_count": 117
  },
  {
   "cell_type": "markdown",
   "source": [
    "#### Devolviendo multiples valores\n",
    "\n",
    "Las funciones pueden devolver multiples valores usando una tupla"
   ],
   "metadata": {
    "collapsed": false
   },
   "id": "f5e2351c5b7655c9"
  },
  {
   "cell_type": "code",
   "outputs": [],
   "source": [
    "def f():\n",
    "    a = 5\n",
    "    b = 6\n",
    "    c = 7\n",
    "    return a, b, c"
   ],
   "metadata": {
    "collapsed": false,
    "ExecuteTime": {
     "end_time": "2024-01-24T20:19:42.399466100Z",
     "start_time": "2024-01-24T20:19:42.386456Z"
    }
   },
   "id": "c80d9951d581b19a",
   "execution_count": 118
  },
  {
   "cell_type": "code",
   "outputs": [],
   "source": [
    "a, b, c = f()\n",
    "\n",
    "# Aquí se devuelve una tupla que se desempaca en las variables a, b, c"
   ],
   "metadata": {
    "collapsed": false,
    "ExecuteTime": {
     "end_time": "2024-01-24T20:19:47.820235100Z",
     "start_time": "2024-01-24T20:19:47.805943400Z"
    }
   },
   "id": "7d9b4e1f1be8877d",
   "execution_count": 119
  },
  {
   "cell_type": "code",
   "outputs": [],
   "source": [
    "# también se puede devolver un diccionario\n",
    "\n",
    "def f():\n",
    "    a = 5\n",
    "    b = 6\n",
    "    c = 7\n",
    "    return {'a': a, 'b': b, 'c': c}"
   ],
   "metadata": {
    "collapsed": false,
    "ExecuteTime": {
     "end_time": "2024-01-24T20:20:50.569290100Z",
     "start_time": "2024-01-24T20:20:50.555100400Z"
    }
   },
   "id": "ac1275e413bdb883",
   "execution_count": 120
  },
  {
   "cell_type": "markdown",
   "source": [
    "#### Funciones como objetos\n",
    "\n",
    "Ya que las funciones de python son objetos, muchos constructores de funciones son posibles.\n",
    "\n",
    "Por ejemplo, si necesitamos hacer muchas transformaciones en la siguiente lista de cadenas:"
   ],
   "metadata": {
    "collapsed": false
   },
   "id": "8f6fcd53f1a0ce2e"
  },
  {
   "cell_type": "code",
   "outputs": [],
   "source": [
    "estados = ['   Alabama ', 'Georgia!', 'Georgia', 'georgia', 'FlOrIda', 'south carolina##', 'West virginia?']"
   ],
   "metadata": {
    "collapsed": false,
    "ExecuteTime": {
     "end_time": "2024-01-24T20:25:16.628046500Z",
     "start_time": "2024-01-24T20:25:16.613373100Z"
    }
   },
   "id": "fb0c176da6c9283b",
   "execution_count": 121
  },
  {
   "cell_type": "code",
   "outputs": [
    {
     "data": {
      "text/plain": "['Alabama',\n 'Georgia',\n 'Georgia',\n 'Georgia',\n 'Florida',\n 'South Carolina',\n 'West Virginia']"
     },
     "execution_count": 122,
     "metadata": {},
     "output_type": "execute_result"
    }
   ],
   "source": [
    "import re\n",
    "\n",
    "def limpiar_cadenas(cadenas):\n",
    "    resultado = []\n",
    "    for valor in cadenas:\n",
    "        valor = valor.strip()\n",
    "        valor = re.sub('[!#?]', '', valor)\n",
    "        valor = valor.title()\n",
    "        resultado.append(valor)\n",
    "    return resultado\n",
    "\n",
    "limpiar_cadenas(estados)"
   ],
   "metadata": {
    "collapsed": false,
    "ExecuteTime": {
     "end_time": "2024-01-24T20:27:04.069480200Z",
     "start_time": "2024-01-24T20:27:04.053018400Z"
    }
   },
   "id": "3927935e3c55881",
   "execution_count": 122
  },
  {
   "cell_type": "code",
   "outputs": [
    {
     "data": {
      "text/plain": "['Alabama',\n 'Georgia',\n 'Georgia',\n 'Georgia',\n 'Florida',\n 'South Carolina',\n 'West Virginia']"
     },
     "execution_count": 123,
     "metadata": {},
     "output_type": "execute_result"
    }
   ],
   "source": [
    "# Otra forma de hacerlo es crear una lista de las operaciones necesarias\n",
    "\n",
    "def quitar_simbolos(valor):\n",
    "    return re.sub('[!#?]', '', valor)\n",
    "\n",
    "clean_ops = [str.strip, quitar_simbolos, str.title]\n",
    "\n",
    "def limpiar_cadenas(cadenas, operaciones):\n",
    "    resultado = []\n",
    "    for valor in cadenas:\n",
    "        for func in operaciones:\n",
    "            valor = func(valor)\n",
    "        resultado.append(valor)\n",
    "    return resultado\n",
    "\n",
    "limpiar_cadenas(estados, clean_ops)\n",
    "            "
   ],
   "metadata": {
    "collapsed": false,
    "ExecuteTime": {
     "end_time": "2024-01-24T20:29:52.341215800Z",
     "start_time": "2024-01-24T20:29:52.325717300Z"
    }
   },
   "id": "78aaec79b80bcef8",
   "execution_count": 123
  },
  {
   "cell_type": "markdown",
   "source": [
    "#### Funciones anónimas (lambda)\n",
    "\n",
    "Python soporta funciones llamadas **lambda** o **funciones anónimas**. Estas son funciones de una sola expresión que no se declaran con la palabra clave `def` sino con `lambda`. Estas funciones son restringidas a una sola expresión. Se escriben así:"
   ],
   "metadata": {
    "collapsed": false
   },
   "id": "591fac72c9dbed9a"
  },
  {
   "cell_type": "code",
   "outputs": [],
   "source": [
    "def funcion_corta():\n",
    "    return x * 2\n",
    "\n",
    "equiv = lambda x: x * 2"
   ],
   "metadata": {
    "collapsed": false,
    "ExecuteTime": {
     "end_time": "2024-01-24T20:31:36.356405100Z",
     "start_time": "2024-01-24T20:31:36.342777100Z"
    }
   },
   "id": "ab8b529f0b84bf2b",
   "execution_count": 124
  },
  {
   "cell_type": "code",
   "outputs": [
    {
     "data": {
      "text/plain": "[8, 0, 2, 10, 12]"
     },
     "execution_count": 125,
     "metadata": {},
     "output_type": "execute_result"
    }
   ],
   "source": [
    "# son mas cortas y rápidas de usar\n",
    "\n",
    "def aplicar_a_lista(alguna_lista, f):\n",
    "    return [f(x) for x in alguna_lista]\n",
    "\n",
    "numeros = [4, 0, 1, 5, 6]\n",
    "\n",
    "aplicar_a_lista(numeros, lambda x: x * 2)"
   ],
   "metadata": {
    "collapsed": false,
    "ExecuteTime": {
     "end_time": "2024-01-24T20:33:05.446148200Z",
     "start_time": "2024-01-24T20:33:05.430349500Z"
    }
   },
   "id": "67a47c99438a2029",
   "execution_count": 125
  },
  {
   "cell_type": "code",
   "outputs": [
    {
     "data": {
      "text/plain": "['aaaa', 'foo', 'abab', 'bar', 'card']"
     },
     "execution_count": 126,
     "metadata": {},
     "output_type": "execute_result"
    }
   ],
   "source": [
    "# se quiere ordenar una lista de cadenas por le numero de letras distintas en cada cadena\n",
    "\n",
    "cadenas = ['foo', 'card', 'bar', 'aaaa', 'abab']\n",
    "\n",
    "cadenas.sort(key = lambda x: len(set(x)))\n",
    "cadenas"
   ],
   "metadata": {
    "collapsed": false,
    "ExecuteTime": {
     "end_time": "2024-01-24T20:34:36.346936300Z",
     "start_time": "2024-01-24T20:34:36.330794600Z"
    }
   },
   "id": "fb7262b48e5bf117",
   "execution_count": 126
  },
  {
   "cell_type": "markdown",
   "source": [
    "#### Generadores \n",
    "\n",
    "Muchos objetos soportan iteración, esto se logra con el protocolo de iteración de Python. Por ejemplo iterar sobre un diccionario produce las llaves:"
   ],
   "metadata": {
    "collapsed": false
   },
   "id": "621d6b8f01e18b67"
  },
  {
   "cell_type": "code",
   "outputs": [
    {
     "name": "stdout",
     "output_type": "stream",
     "text": [
      "a\n",
      "b\n",
      "c\n"
     ]
    }
   ],
   "source": [
    "diccionario = {'a': 1, 'b': 2, 'c': 3}\n",
    "\n",
    "for key in diccionario:\n",
    "    print(key)"
   ],
   "metadata": {
    "collapsed": false,
    "ExecuteTime": {
     "end_time": "2024-01-24T20:37:30.722264400Z",
     "start_time": "2024-01-24T20:37:30.706495400Z"
    }
   },
   "id": "53c1f16230cf413e",
   "execution_count": 127
  },
  {
   "cell_type": "code",
   "outputs": [
    {
     "data": {
      "text/plain": "<dict_keyiterator at 0x1b0afc74ef0>"
     },
     "execution_count": 128,
     "metadata": {},
     "output_type": "execute_result"
    }
   ],
   "source": [
    "# cuando se escribe for key in diccionario, Python interpreta que se quiere iterar sobre las llaves del diccionario y crea un iterador\n",
    "\n",
    "dict_iterador = iter(diccionario)\n",
    "dict_iterador"
   ],
   "metadata": {
    "collapsed": false,
    "ExecuteTime": {
     "end_time": "2024-01-24T20:38:47.039811200Z",
     "start_time": "2024-01-24T20:38:47.001826600Z"
    }
   },
   "id": "9dda1ac9827cf886",
   "execution_count": 128
  },
  {
   "cell_type": "markdown",
   "source": [
    "Un iterador es un objeto que produce objetos al interpretador de python cuando se usan en un contexto como un **loop**. La mayoría de métodos que esperan una lista o un objeto parecido a lista tambien aceptan un objeto iterable."
   ],
   "metadata": {
    "collapsed": false
   },
   "id": "75489a2cab118cbd"
  },
  {
   "cell_type": "code",
   "outputs": [
    {
     "data": {
      "text/plain": "['a', 'b', 'c']"
     },
     "execution_count": 129,
     "metadata": {},
     "output_type": "execute_result"
    }
   ],
   "source": [
    "list(dict_iterador)"
   ],
   "metadata": {
    "collapsed": false,
    "ExecuteTime": {
     "end_time": "2024-01-24T20:41:46.577078400Z",
     "start_time": "2024-01-24T20:41:46.561782300Z"
    }
   },
   "id": "b4bc96fbab1958e9",
   "execution_count": 129
  },
  {
   "cell_type": "markdown",
   "source": [
    "Un generador es una forma conveniente de construir un objeto iterable. Los generadores puede devolver una secuencia de multiples valores pausando y resumiendo la ejecución cada vez que el generador es usado. Para crear un generador se usa la palabra clave `yield` en vez de `return` en una función."
   ],
   "metadata": {
    "collapsed": false
   },
   "id": "d24e683a6982297a"
  },
  {
   "cell_type": "code",
   "outputs": [],
   "source": [
    "def cuadrados(n = 10):\n",
    "    print(f'Generando cuadrados de 1 a {n ** 2}')\n",
    "    for i in range(1, n + 1):\n",
    "        yield i ** 2"
   ],
   "metadata": {
    "collapsed": false,
    "ExecuteTime": {
     "end_time": "2024-01-24T20:44:09.282834300Z",
     "start_time": "2024-01-24T20:44:09.265956200Z"
    }
   },
   "id": "3e87aef4fc3ca47a",
   "execution_count": 130
  },
  {
   "cell_type": "code",
   "outputs": [
    {
     "data": {
      "text/plain": "<generator object cuadrados at 0x000001B0AFC4A420>"
     },
     "execution_count": 131,
     "metadata": {},
     "output_type": "execute_result"
    }
   ],
   "source": [
    "# cuando se llama la función, no se ejecuta el código, se crea un objeto generador\n",
    "\n",
    "gen = cuadrados()\n",
    "gen"
   ],
   "metadata": {
    "collapsed": false,
    "ExecuteTime": {
     "end_time": "2024-01-24T20:44:23.499466100Z",
     "start_time": "2024-01-24T20:44:23.482266200Z"
    }
   },
   "id": "696b5afe3b15536e",
   "execution_count": 131
  },
  {
   "cell_type": "code",
   "outputs": [
    {
     "name": "stdout",
     "output_type": "stream",
     "text": [
      "Generando cuadrados de 1 a 100\n",
      "1 4 9 16 25 36 49 64 81 100 "
     ]
    }
   ],
   "source": [
    "# Hasta que se pidan los elementos se empieza a generar el código\n",
    "\n",
    "for x in gen:\n",
    "    print(x, end = ' ')\n"
   ],
   "metadata": {
    "collapsed": false,
    "ExecuteTime": {
     "end_time": "2024-01-24T20:45:09.364687900Z",
     "start_time": "2024-01-24T20:45:09.347906800Z"
    }
   },
   "id": "bfb80cfbe27678f0",
   "execution_count": 132
  },
  {
   "cell_type": "markdown",
   "source": [
    "#### Generadores expresión\n",
    "\n",
    "Son análogas a las listas, diccionarios, conjuntos de comprensión. Para crear uno, encierra lo que sería una lista comprensión entre paréntesis"
   ],
   "metadata": {
    "collapsed": false
   },
   "id": "6f00f76259c80982"
  },
  {
   "cell_type": "code",
   "outputs": [
    {
     "data": {
      "text/plain": "<generator object <genexpr> at 0x000001B0AFCC42B0>"
     },
     "execution_count": 133,
     "metadata": {},
     "output_type": "execute_result"
    }
   ],
   "source": [
    "gen = (x ** 2 for x in range(100))\n",
    "gen"
   ],
   "metadata": {
    "collapsed": false,
    "ExecuteTime": {
     "end_time": "2024-01-24T20:46:41.011592Z",
     "start_time": "2024-01-24T20:46:40.994928500Z"
    }
   },
   "id": "12313c6cede43c54",
   "execution_count": 133
  },
  {
   "cell_type": "code",
   "outputs": [
    {
     "data": {
      "text/plain": "328350"
     },
     "execution_count": 134,
     "metadata": {},
     "output_type": "execute_result"
    }
   ],
   "source": [
    "# se pueden usar en lugar de las listas de comprensión como funciones de argumentos\n",
    "\n",
    "sum(x ** 2 for x in range(100))"
   ],
   "metadata": {
    "collapsed": false,
    "ExecuteTime": {
     "end_time": "2024-01-24T20:47:32.620909Z",
     "start_time": "2024-01-24T20:47:32.605128700Z"
    }
   },
   "id": "3d6b5eaf42a54e8e",
   "execution_count": 134
  },
  {
   "cell_type": "code",
   "outputs": [
    {
     "data": {
      "text/plain": "{0: 0, 1: 1, 2: 4, 3: 9, 4: 16}"
     },
     "execution_count": 135,
     "metadata": {},
     "output_type": "execute_result"
    }
   ],
   "source": [
    "dict((i, i ** 2) for i in range(5))"
   ],
   "metadata": {
    "collapsed": false,
    "ExecuteTime": {
     "end_time": "2024-01-24T20:48:01.984259200Z",
     "start_time": "2024-01-24T20:48:01.966310Z"
    }
   },
   "id": "6ba7a287e33bd8f0",
   "execution_count": 135
  },
  {
   "cell_type": "markdown",
   "source": [
    "### Modulo itertools\n",
    "\n",
    "La librería itertools tiene una colección de generadores para muchos algoritmos. Por ejemplo `groupby`"
   ],
   "metadata": {
    "collapsed": false
   },
   "id": "be564ca44bc571d1"
  },
  {
   "cell_type": "code",
   "outputs": [
    {
     "name": "stdout",
     "output_type": "stream",
     "text": [
      "A ['Alan', 'Adam']\n",
      "W ['Wes', 'Will']\n",
      "A ['Albert']\n",
      "S ['Steven']\n"
     ]
    }
   ],
   "source": [
    "import itertools \n",
    "\n",
    "def primera_letra(x):\n",
    "    return x[0]\n",
    "\n",
    "nombres = ['Alan', 'Adam', 'Wes', 'Will', 'Albert', 'Steven']\n",
    "\n",
    "for letra, nombres in itertools.groupby(nombres, primera_letra):\n",
    "    print(letra, list(nombres))"
   ],
   "metadata": {
    "collapsed": false,
    "ExecuteTime": {
     "end_time": "2024-01-24T20:50:01.610720800Z",
     "start_time": "2024-01-24T20:50:01.594719300Z"
    }
   },
   "id": "b3852cf75a786523",
   "execution_count": 136
  },
  {
   "cell_type": "markdown",
   "source": [
    "Ver la página para otras funciones útiles de itertools como `combinations`, `permutations`, `product` y `combinations_with_replacement`.\n",
    "\n",
    "[itertools](https://docs.python.org/3/library/itertools.html)"
   ],
   "metadata": {
    "collapsed": false
   },
   "id": "e3b96c39ae71a608"
  },
  {
   "cell_type": "markdown",
   "source": [
    "### Manejo de errores\n",
    "\n",
    "Supongamos que queremos una versión de `float` que falle dandonos el arugmento en lugar de error"
   ],
   "metadata": {
    "collapsed": false
   },
   "id": "5de1164996f93709"
  },
  {
   "cell_type": "code",
   "outputs": [
    {
     "ename": "ValueError",
     "evalue": "could not convert string to float: 'algo'",
     "output_type": "error",
     "traceback": [
      "\u001B[1;31m---------------------------------------------------------------------------\u001B[0m",
      "\u001B[1;31mValueError\u001B[0m                                Traceback (most recent call last)",
      "Cell \u001B[1;32mIn[142], line 1\u001B[0m\n\u001B[1;32m----> 1\u001B[0m \u001B[38;5;28mfloat\u001B[39m(\u001B[38;5;124m'\u001B[39m\u001B[38;5;124malgo\u001B[39m\u001B[38;5;124m'\u001B[39m)\n",
      "\u001B[1;31mValueError\u001B[0m: could not convert string to float: 'algo'"
     ]
    }
   ],
   "source": [
    "float('algo')"
   ],
   "metadata": {
    "collapsed": false,
    "ExecuteTime": {
     "end_time": "2024-01-24T21:02:28.867963900Z",
     "start_time": "2024-01-24T21:02:28.847783200Z"
    }
   },
   "id": "9749c55af7f0d9d5",
   "execution_count": 142
  },
  {
   "cell_type": "code",
   "outputs": [],
   "source": [
    "# para saltarnos el error ValueError, podemos escribir una función que maneje el error\n",
    "def intentar_float(x):\n",
    "    try:\n",
    "        return float(x)\n",
    "    except:\n",
    "        return x"
   ],
   "metadata": {
    "collapsed": false,
    "ExecuteTime": {
     "end_time": "2024-01-24T21:01:15.968926100Z",
     "start_time": "2024-01-24T21:01:15.950052200Z"
    }
   },
   "id": "1aca62d8e31987f1",
   "execution_count": 137
  },
  {
   "cell_type": "code",
   "outputs": [
    {
     "data": {
      "text/plain": "1.2344"
     },
     "execution_count": 138,
     "metadata": {},
     "output_type": "execute_result"
    }
   ],
   "source": [
    "intentar_float(1.2344)"
   ],
   "metadata": {
    "collapsed": false,
    "ExecuteTime": {
     "end_time": "2024-01-24T21:01:23.672357400Z",
     "start_time": "2024-01-24T21:01:23.655098200Z"
    }
   },
   "id": "2cc5be8366707a7f",
   "execution_count": 138
  },
  {
   "cell_type": "code",
   "outputs": [
    {
     "data": {
      "text/plain": "'algún string'"
     },
     "execution_count": 139,
     "metadata": {},
     "output_type": "execute_result"
    }
   ],
   "source": [
    "intentar_float('algún string')"
   ],
   "metadata": {
    "collapsed": false,
    "ExecuteTime": {
     "end_time": "2024-01-24T21:01:28.784123300Z",
     "start_time": "2024-01-24T21:01:28.766136100Z"
    }
   },
   "id": "3793148625a9dedd",
   "execution_count": 139
  },
  {
   "cell_type": "code",
   "outputs": [
    {
     "ename": "TypeError",
     "evalue": "float() argument must be a string or a real number, not 'tuple'",
     "output_type": "error",
     "traceback": [
      "\u001B[1;31m---------------------------------------------------------------------------\u001B[0m",
      "\u001B[1;31mTypeError\u001B[0m                                 Traceback (most recent call last)",
      "Cell \u001B[1;32mIn[141], line 3\u001B[0m\n\u001B[0;32m      1\u001B[0m \u001B[38;5;66;03m# hay otro tipos de errores\u001B[39;00m\n\u001B[1;32m----> 3\u001B[0m \u001B[38;5;28mfloat\u001B[39m((\u001B[38;5;241m1\u001B[39m, \u001B[38;5;241m2\u001B[39m))\n",
      "\u001B[1;31mTypeError\u001B[0m: float() argument must be a string or a real number, not 'tuple'"
     ]
    }
   ],
   "source": [
    "# hay otro tipos de errores\n",
    "\n",
    "float((1, 2))"
   ],
   "metadata": {
    "collapsed": false,
    "ExecuteTime": {
     "end_time": "2024-01-24T21:01:55.239491300Z",
     "start_time": "2024-01-24T21:01:55.220487500Z"
    }
   },
   "id": "5356d9b82b14025a",
   "execution_count": 141
  },
  {
   "cell_type": "code",
   "outputs": [],
   "source": [
    "# Aquí tenemos TypeError, solo queremos suprimir ValueError ya que TypeError muestra un bug en el programa\n",
    "\n",
    "def intentar_float(x):\n",
    "    try:\n",
    "        return float(x)\n",
    "    except ValueError:\n",
    "        return x"
   ],
   "metadata": {
    "collapsed": false,
    "ExecuteTime": {
     "end_time": "2024-01-24T21:06:33.032046300Z",
     "start_time": "2024-01-24T21:06:33.014157700Z"
    }
   },
   "id": "b17b1e2cc903d9e4",
   "execution_count": 143
  },
  {
   "cell_type": "code",
   "outputs": [
    {
     "ename": "TypeError",
     "evalue": "float() argument must be a string or a real number, not 'tuple'",
     "output_type": "error",
     "traceback": [
      "\u001B[1;31m---------------------------------------------------------------------------\u001B[0m",
      "\u001B[1;31mTypeError\u001B[0m                                 Traceback (most recent call last)",
      "Cell \u001B[1;32mIn[145], line 1\u001B[0m\n\u001B[1;32m----> 1\u001B[0m intentar_float((\u001B[38;5;241m1\u001B[39m, \u001B[38;5;241m2\u001B[39m))\n",
      "Cell \u001B[1;32mIn[143], line 5\u001B[0m, in \u001B[0;36mintentar_float\u001B[1;34m(x)\u001B[0m\n\u001B[0;32m      3\u001B[0m \u001B[38;5;28;01mdef\u001B[39;00m \u001B[38;5;21mintentar_float\u001B[39m(x):\n\u001B[0;32m      4\u001B[0m     \u001B[38;5;28;01mtry\u001B[39;00m:\n\u001B[1;32m----> 5\u001B[0m         \u001B[38;5;28;01mreturn\u001B[39;00m \u001B[38;5;28mfloat\u001B[39m(x)\n\u001B[0;32m      6\u001B[0m     \u001B[38;5;28;01mexcept\u001B[39;00m \u001B[38;5;167;01mValueError\u001B[39;00m:\n\u001B[0;32m      7\u001B[0m         \u001B[38;5;28;01mreturn\u001B[39;00m x\n",
      "\u001B[1;31mTypeError\u001B[0m: float() argument must be a string or a real number, not 'tuple'"
     ]
    }
   ],
   "source": [
    "intentar_float((1, 2))"
   ],
   "metadata": {
    "collapsed": false,
    "ExecuteTime": {
     "end_time": "2024-01-24T21:08:10.068250Z",
     "start_time": "2024-01-24T21:08:10.031274600Z"
    }
   },
   "id": "845194806faa5b9a",
   "execution_count": 145
  },
  {
   "cell_type": "code",
   "outputs": [],
   "source": [
    "# se pueden atrapar varias excepciones \n",
    "\n",
    "def intentar_float(x):\n",
    "    try:\n",
    "        return float(x)\n",
    "    except (TypeError, ValueError):\n",
    "        return x"
   ],
   "metadata": {
    "collapsed": false,
    "ExecuteTime": {
     "end_time": "2024-01-24T21:09:34.563993700Z",
     "start_time": "2024-01-24T21:09:34.545187400Z"
    }
   },
   "id": "3b4f82af56d7295e",
   "execution_count": 147
  },
  {
   "cell_type": "code",
   "outputs": [
    {
     "data": {
      "text/plain": "(1, 2)"
     },
     "execution_count": 148,
     "metadata": {},
     "output_type": "execute_result"
    }
   ],
   "source": [
    "intentar_float((1, 2))"
   ],
   "metadata": {
    "collapsed": false,
    "ExecuteTime": {
     "end_time": "2024-01-24T21:09:38.391148200Z",
     "start_time": "2024-01-24T21:09:38.371195900Z"
    }
   },
   "id": "3e2d1bea5e3dfae9",
   "execution_count": 148
  },
  {
   "cell_type": "code",
   "outputs": [
    {
     "ename": "NameError",
     "evalue": "name 'path' is not defined",
     "output_type": "error",
     "traceback": [
      "\u001B[1;31m---------------------------------------------------------------------------\u001B[0m",
      "\u001B[1;31mNameError\u001B[0m                                 Traceback (most recent call last)",
      "Cell \u001B[1;32mIn[149], line 3\u001B[0m\n\u001B[0;32m      1\u001B[0m \u001B[38;5;66;03m# en algunos casos no se quiere suprimir la excepción. Se quiere ejecutar algún código sin importar si la función falla o no\u001B[39;00m\n\u001B[1;32m----> 3\u001B[0m f \u001B[38;5;241m=\u001B[39m \u001B[38;5;28mopen\u001B[39m(path, mode \u001B[38;5;241m=\u001B[39m \u001B[38;5;124m'\u001B[39m\u001B[38;5;124mw\u001B[39m\u001B[38;5;124m'\u001B[39m)\n\u001B[0;32m      5\u001B[0m \u001B[38;5;28;01mtry\u001B[39;00m:\n\u001B[0;32m      6\u001B[0m     write_to_file(f)\n",
      "\u001B[1;31mNameError\u001B[0m: name 'path' is not defined"
     ]
    }
   ],
   "source": [
    "# en algunos casos no se quiere suprimir la excepción. Se quiere ejecutar algún código sin importar si la función falla o no, para esto se usa `finally`\n",
    "\n",
    "# f = open(path, mode = 'w')\n",
    "\n",
    "# try:\n",
    "  # write_to_file(f)\n",
    "# finally:\n",
    "  # f.close()"
   ],
   "metadata": {
    "collapsed": false,
    "ExecuteTime": {
     "end_time": "2024-01-24T21:11:17.722366600Z",
     "start_time": "2024-01-24T21:11:17.701197900Z"
    }
   },
   "id": "f65b87ba4954333a",
   "execution_count": 149
  },
  {
   "cell_type": "markdown",
   "source": [
    "#### Archivos y el sistema operativo\n",
    "\n",
    "Para abrir un archivo se usa la función `open` con una dirección relativa o absoluta al archivo y la encodificación (opcional)"
   ],
   "metadata": {
    "collapsed": false
   },
   "id": "af57da85fe26ebfe"
  },
  {
   "cell_type": "code",
   "outputs": [],
   "source": [
    "path = 'examples/segismundo.txt'\n",
    "f = open(path, encoding = 'utf-8')"
   ],
   "metadata": {
    "collapsed": false,
    "ExecuteTime": {
     "end_time": "2024-01-24T21:18:40.209905900Z",
     "start_time": "2024-01-24T21:18:40.191136Z"
    }
   },
   "id": "38adacbb687f1c54",
   "execution_count": 151
  },
  {
   "cell_type": "markdown",
   "source": [
    "Por default se encuentra en modo lectura `'r'`. Podemos tratar de leer el contenido del archivo con el método `read`"
   ],
   "metadata": {
    "collapsed": false
   },
   "id": "d9920f1abf1d9c5"
  },
  {
   "cell_type": "code",
   "outputs": [
    {
     "name": "stdout",
     "output_type": "stream",
     "text": [
      "Sueña el rico en su riqueza,\n",
      "\n",
      "que más cuidados le ofrece;\n",
      "\n",
      "\n",
      "\n",
      "sueña el pobre que padece\n",
      "\n",
      "su miseria y su pobreza;\n",
      "\n",
      "\n",
      "\n",
      "sueña el que a medrar empieza,\n",
      "\n",
      "sueña el que afana y pretende,\n",
      "\n",
      "sueña el que agravia y ofende,\n",
      "\n",
      "\n",
      "\n",
      "y en el mundo, en conclusión,\n",
      "\n",
      "todos sueñan lo que son,\n",
      "\n",
      "aunque ninguno lo entiende.\n"
     ]
    }
   ],
   "source": [
    "for line in f:\n",
    "    print(line)"
   ],
   "metadata": {
    "collapsed": false,
    "ExecuteTime": {
     "end_time": "2024-01-24T21:19:16.448997600Z",
     "start_time": "2024-01-24T21:19:16.430589100Z"
    }
   },
   "id": "1f440e410b0a16c2",
   "execution_count": 152
  },
  {
   "cell_type": "code",
   "outputs": [
    {
     "data": {
      "text/plain": "['Sueña el rico en su riqueza,',\n 'que más cuidados le ofrece;',\n '',\n 'sueña el pobre que padece',\n 'su miseria y su pobreza;',\n '',\n 'sueña el que a medrar empieza,',\n 'sueña el que afana y pretende,',\n 'sueña el que agravia y ofende,',\n '',\n 'y en el mundo, en conclusión,',\n 'todos sueñan lo que son,',\n 'aunque ninguno lo entiende.',\n '']"
     },
     "execution_count": 153,
     "metadata": {},
     "output_type": "execute_result"
    }
   ],
   "source": [
    "lines = [x.rstrip() for x in open(path, encoding = 'utf-8')]\n",
    "lines"
   ],
   "metadata": {
    "collapsed": false,
    "ExecuteTime": {
     "end_time": "2024-01-24T21:19:53.510669500Z",
     "start_time": "2024-01-24T21:19:53.490845900Z"
    }
   },
   "id": "492b5c9bdcfdff44",
   "execution_count": 153
  },
  {
   "cell_type": "code",
   "outputs": [],
   "source": [
    "# cuando se termina de usar el archivo se debe cerrar\n",
    "\n",
    "f.close()"
   ],
   "metadata": {
    "collapsed": false,
    "ExecuteTime": {
     "end_time": "2024-01-24T21:20:19.145510400Z",
     "start_time": "2024-01-24T21:20:19.126625400Z"
    }
   },
   "id": "77c86a94271a7e6e",
   "execution_count": 154
  },
  {
   "cell_type": "code",
   "outputs": [],
   "source": [
    "# una forma más limpia de abrir un archivo es usando `with`\n",
    "\n",
    "with open(path, encoding = 'utf-8') as f:\n",
    "    lines = [x.rstrip() for x in f]\n",
    "    \n",
    "# esto cierra automáticamente el archivo cuando se termina de usar"
   ],
   "metadata": {
    "collapsed": false,
    "ExecuteTime": {
     "end_time": "2024-01-24T21:26:55.146798600Z",
     "start_time": "2024-01-24T21:26:55.126798500Z"
    }
   },
   "id": "2cbe868e0d33e163",
   "execution_count": 159
  },
  {
   "cell_type": "code",
   "outputs": [
    {
     "data": {
      "text/plain": "'Sueña el r'"
     },
     "execution_count": 161,
     "metadata": {},
     "output_type": "execute_result"
    }
   ],
   "source": [
    "# Para estos archivos algunos de los metodos comunes son read, seek y tell.\n",
    "# read devuelve un numero de caracteres del archivo\n",
    "\n",
    "f1 = open(path, encoding = 'utf-8')\n",
    "\n",
    "f1.read(10)"
   ],
   "metadata": {
    "collapsed": false,
    "ExecuteTime": {
     "end_time": "2024-01-24T21:27:21.188220800Z",
     "start_time": "2024-01-24T21:27:21.165830600Z"
    }
   },
   "id": "9d4b7a1ee93fa2c0",
   "execution_count": 161
  },
  {
   "cell_type": "code",
   "outputs": [
    {
     "data": {
      "text/plain": "b'Sue\\xc3\\xb1a el '"
     },
     "execution_count": 163,
     "metadata": {},
     "output_type": "execute_result"
    }
   ],
   "source": [
    "f2 = open(path, mode = 'rb') # modo binario\n",
    "\n",
    "f2.read(10)"
   ],
   "metadata": {
    "collapsed": false,
    "ExecuteTime": {
     "end_time": "2024-01-24T21:27:57.402612500Z",
     "start_time": "2024-01-24T21:27:57.362717100Z"
    }
   },
   "id": "cc7143dfb117897c",
   "execution_count": 163
  },
  {
   "cell_type": "code",
   "outputs": [
    {
     "data": {
      "text/plain": "11"
     },
     "execution_count": 164,
     "metadata": {},
     "output_type": "execute_result"
    }
   ],
   "source": [
    "# tell te da la ubicación actual del archivo\n",
    "\n",
    "f1.tell() # tomamos 11 bytes para decodificarlo"
   ],
   "metadata": {
    "collapsed": false,
    "ExecuteTime": {
     "end_time": "2024-01-24T21:28:22.443778400Z",
     "start_time": "2024-01-24T21:28:22.424047800Z"
    }
   },
   "id": "3f76398436b79f13",
   "execution_count": 164
  },
  {
   "cell_type": "code",
   "outputs": [
    {
     "data": {
      "text/plain": "10"
     },
     "execution_count": 165,
     "metadata": {},
     "output_type": "execute_result"
    }
   ],
   "source": [
    "f2.tell()"
   ],
   "metadata": {
    "collapsed": false,
    "ExecuteTime": {
     "end_time": "2024-01-24T21:28:27.604268200Z",
     "start_time": "2024-01-24T21:28:27.578170900Z"
    }
   },
   "id": "8d8ad30071e6c1",
   "execution_count": 165
  },
  {
   "cell_type": "code",
   "outputs": [
    {
     "data": {
      "text/plain": "'utf-8'"
     },
     "execution_count": 166,
     "metadata": {},
     "output_type": "execute_result"
    }
   ],
   "source": [
    "# podemos observar el encodign defalut con sys\n",
    "\n",
    "import sys\n",
    "\n",
    "sys.getdefaultencoding()"
   ],
   "metadata": {
    "collapsed": false,
    "ExecuteTime": {
     "end_time": "2024-01-24T21:29:33.993976200Z",
     "start_time": "2024-01-24T21:29:33.974123Z"
    }
   },
   "id": "3f436e75d95dcaf4",
   "execution_count": 166
  },
  {
   "cell_type": "code",
   "outputs": [
    {
     "data": {
      "text/plain": "3"
     },
     "execution_count": 167,
     "metadata": {},
     "output_type": "execute_result"
    }
   ],
   "source": [
    "# seek cambia la ubicación del archivo a la ubicación indicada\n",
    "\n",
    "f1.seek(3)"
   ],
   "metadata": {
    "collapsed": false,
    "ExecuteTime": {
     "end_time": "2024-01-24T21:29:54.560741200Z",
     "start_time": "2024-01-24T21:29:54.541592800Z"
    }
   },
   "id": "f5e073c73d2fa4b5",
   "execution_count": 167
  },
  {
   "cell_type": "code",
   "outputs": [
    {
     "data": {
      "text/plain": "'ñ'"
     },
     "execution_count": 168,
     "metadata": {},
     "output_type": "execute_result"
    }
   ],
   "source": [
    "f1.read(1)"
   ],
   "metadata": {
    "collapsed": false,
    "ExecuteTime": {
     "end_time": "2024-01-24T21:30:03.256127200Z",
     "start_time": "2024-01-24T21:30:03.236020Z"
    }
   },
   "id": "55403c3b6a972bef",
   "execution_count": 168
  },
  {
   "cell_type": "code",
   "outputs": [
    {
     "data": {
      "text/plain": "5"
     },
     "execution_count": 169,
     "metadata": {},
     "output_type": "execute_result"
    }
   ],
   "source": [
    "f1.tell()"
   ],
   "metadata": {
    "collapsed": false,
    "ExecuteTime": {
     "end_time": "2024-01-24T21:30:12.436034500Z",
     "start_time": "2024-01-24T21:30:12.414465500Z"
    }
   },
   "id": "3cc7dbfaa533bca1",
   "execution_count": 169
  },
  {
   "cell_type": "code",
   "outputs": [],
   "source": [
    "# recordar cerrar los archivos\n",
    "\n",
    "f1.close()\n",
    "f2.close()"
   ],
   "metadata": {
    "collapsed": false,
    "ExecuteTime": {
     "end_time": "2024-01-24T21:30:28.706802500Z",
     "start_time": "2024-01-24T21:30:28.685979400Z"
    }
   },
   "id": "244f441a9010474",
   "execution_count": 170
  },
  {
   "cell_type": "code",
   "outputs": [
    {
     "data": {
      "text/plain": "'examples/segismundo.txt'"
     },
     "execution_count": 171,
     "metadata": {},
     "output_type": "execute_result"
    }
   ],
   "source": [
    "# para escribir en el archivo, se usa el modo 'w' y los métodos write o writelines. Por ejemplo, podemos crear una versión de segismundo \n",
    "# sin espacios blancos\n",
    "\n",
    "path"
   ],
   "metadata": {
    "collapsed": false,
    "ExecuteTime": {
     "end_time": "2024-01-24T21:31:56.357168600Z",
     "start_time": "2024-01-24T21:31:56.336181400Z"
    }
   },
   "id": "a816651e75a5e229",
   "execution_count": 171
  },
  {
   "cell_type": "code",
   "outputs": [],
   "source": [
    "with open('tmp.txt', mode = 'w') as handle:\n",
    "    handle.writelines(x for x in open(path, encoding = 'utf-8') if len(x) > 1)"
   ],
   "metadata": {
    "collapsed": false,
    "ExecuteTime": {
     "end_time": "2024-01-24T21:32:59.985952100Z",
     "start_time": "2024-01-24T21:32:59.965801400Z"
    }
   },
   "id": "4c57a200fb3cea0",
   "execution_count": 172
  },
  {
   "cell_type": "code",
   "outputs": [
    {
     "data": {
      "text/plain": "['Sueña el rico en su riqueza,\\n',\n 'que más cuidados le ofrece;\\n',\n 'sueña el pobre que padece\\n',\n 'su miseria y su pobreza;\\n',\n 'sueña el que a medrar empieza,\\n',\n 'sueña el que afana y pretende,\\n',\n 'sueña el que agravia y ofende,\\n',\n 'y en el mundo, en conclusión,\\n',\n 'todos sueñan lo que son,\\n',\n 'aunque ninguno lo entiende.\\n']"
     },
     "execution_count": 175,
     "metadata": {},
     "output_type": "execute_result"
    }
   ],
   "source": [
    "with open('tmp.txt') as f:\n",
    "    lines = f.readlines()\n",
    "\n",
    "lines"
   ],
   "metadata": {
    "collapsed": false,
    "ExecuteTime": {
     "end_time": "2024-01-24T21:33:41.719301600Z",
     "start_time": "2024-01-24T21:33:41.692087300Z"
    }
   },
   "id": "3ef0fdbcd7f505dc",
   "execution_count": 175
  }
 ],
 "metadata": {
  "kernelspec": {
   "display_name": "Python 3 (ipykernel)",
   "language": "python",
   "name": "python3"
  },
  "language_info": {
   "codemirror_mode": {
    "name": "ipython",
    "version": 3
   },
   "file_extension": ".py",
   "mimetype": "text/x-python",
   "name": "python",
   "nbconvert_exporter": "python",
   "pygments_lexer": "ipython3",
   "version": "3.11.5"
  }
 },
 "nbformat": 4,
 "nbformat_minor": 5
}
