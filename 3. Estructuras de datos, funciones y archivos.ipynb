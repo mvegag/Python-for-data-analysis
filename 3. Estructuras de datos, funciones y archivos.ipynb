{
 "cells": [
  {
   "cell_type": "code",
   "outputs": [],
   "source": [
    "import numpy as np\n",
    "import pandas as pd\n",
    "pd.options.display.max_columns = 20\n",
    "pd.options.display.max_rows = 20\n",
    "pd.options.display.max_colwidth = 80\n",
    "np.set_printoptions(precision=4, suppress=True)"
   ],
   "metadata": {
    "collapsed": false
   },
   "id": "initial_id",
   "execution_count": 11
  },
  {
   "cell_type": "markdown",
   "source": [
    "## Estructuras de datos y secuencias\n",
    "\n",
    "### Tuplas\n",
    "\n",
    "Una tupla es una secuencia de objetos de Python inmutable y de longitud fija. Se pueden crear así:"
   ],
   "metadata": {
    "collapsed": false
   },
   "id": "31185c33b0dbb567"
  },
  {
   "cell_type": "code",
   "outputs": [
    {
     "data": {
      "text/plain": "(4, 5, 6)"
     },
     "execution_count": 12,
     "metadata": {},
     "output_type": "execute_result"
    }
   ],
   "source": [
    "tup = (4, 5, 6)\n",
    "tup"
   ],
   "metadata": {
    "collapsed": false,
    "ExecuteTime": {
     "end_time": "2024-01-23T21:28:58.444087500Z",
     "start_time": "2024-01-23T21:28:58.392516500Z"
    }
   },
   "id": "aa61c126031879da",
   "execution_count": 12
  },
  {
   "cell_type": "code",
   "outputs": [
    {
     "data": {
      "text/plain": "(4, 5, 6)"
     },
     "execution_count": 13,
     "metadata": {},
     "output_type": "execute_result"
    }
   ],
   "source": [
    "# Los paréntesis pueden ser omitidos\n",
    "\n",
    "tup = 4, 5, 6\n",
    "tup"
   ],
   "metadata": {
    "collapsed": false,
    "ExecuteTime": {
     "end_time": "2024-01-23T21:28:58.471757100Z",
     "start_time": "2024-01-23T21:28:58.439824500Z"
    }
   },
   "id": "550792ecf159748e",
   "execution_count": 13
  },
  {
   "cell_type": "code",
   "outputs": [
    {
     "data": {
      "text/plain": "(4, 0, 2)"
     },
     "execution_count": 14,
     "metadata": {},
     "output_type": "execute_result"
    }
   ],
   "source": [
    "# Se puede convertir una secuencia o un iterador a una tupla invocando una tupla\n",
    "\n",
    "tuple([4, 0, 2])"
   ],
   "metadata": {
    "collapsed": false,
    "ExecuteTime": {
     "end_time": "2024-01-23T21:28:58.486904600Z",
     "start_time": "2024-01-23T21:28:58.475288800Z"
    }
   },
   "id": "576d5e3d9395acb2",
   "execution_count": 14
  },
  {
   "cell_type": "code",
   "outputs": [
    {
     "data": {
      "text/plain": "('C', 'a', 'd', 'e', 'n', 'a')"
     },
     "execution_count": 15,
     "metadata": {},
     "output_type": "execute_result"
    }
   ],
   "source": [
    "tup = tuple('Cadena')\n",
    "tup"
   ],
   "metadata": {
    "collapsed": false,
    "ExecuteTime": {
     "end_time": "2024-01-23T21:28:58.506984600Z",
     "start_time": "2024-01-23T21:28:58.490005500Z"
    }
   },
   "id": "4cfba43137e6009a",
   "execution_count": 15
  },
  {
   "cell_type": "code",
   "outputs": [
    {
     "data": {
      "text/plain": "'C'"
     },
     "execution_count": 16,
     "metadata": {},
     "output_type": "execute_result"
    }
   ],
   "source": [
    "# Se puede acceder a los elementos de la tupla con los corchetes []\n",
    "\n",
    "tup[0]"
   ],
   "metadata": {
    "collapsed": false,
    "ExecuteTime": {
     "end_time": "2024-01-23T21:28:58.565615Z",
     "start_time": "2024-01-23T21:28:58.502372100Z"
    }
   },
   "id": "94be2c53cc47ecdf",
   "execution_count": 16
  },
  {
   "cell_type": "code",
   "outputs": [
    {
     "data": {
      "text/plain": "((4, 5, 6), (7, 8))"
     },
     "execution_count": 17,
     "metadata": {},
     "output_type": "execute_result"
    }
   ],
   "source": [
    "# Tuplas con expresiones más complicadas deberían ser creadas con paréntesis \n",
    "\n",
    "tup_nested = (4, 5, 6), (7, 8)\n",
    "tup_nested"
   ],
   "metadata": {
    "collapsed": false,
    "ExecuteTime": {
     "end_time": "2024-01-23T21:28:58.583123300Z",
     "start_time": "2024-01-23T21:28:58.558644Z"
    }
   },
   "id": "e614e5c3ef4f0f43",
   "execution_count": 17
  },
  {
   "cell_type": "code",
   "outputs": [
    {
     "data": {
      "text/plain": "(4, 5, 6)"
     },
     "execution_count": 18,
     "metadata": {},
     "output_type": "execute_result"
    }
   ],
   "source": [
    "tup_nested[0]"
   ],
   "metadata": {
    "collapsed": false,
    "ExecuteTime": {
     "end_time": "2024-01-23T21:28:58.629502400Z",
     "start_time": "2024-01-23T21:28:58.586707100Z"
    }
   },
   "id": "26c517bb352658c1",
   "execution_count": 18
  },
  {
   "cell_type": "code",
   "outputs": [
    {
     "data": {
      "text/plain": "(7, 8)"
     },
     "execution_count": 19,
     "metadata": {},
     "output_type": "execute_result"
    }
   ],
   "source": [
    "tup_nested[1]"
   ],
   "metadata": {
    "collapsed": false,
    "ExecuteTime": {
     "end_time": "2024-01-23T21:28:58.632095Z",
     "start_time": "2024-01-23T21:28:58.592736600Z"
    }
   },
   "id": "800ba5181c59a985",
   "execution_count": 19
  },
  {
   "cell_type": "code",
   "outputs": [
    {
     "ename": "TypeError",
     "evalue": "'tuple' object does not support item assignment",
     "output_type": "error",
     "traceback": [
      "\u001B[1;31m---------------------------------------------------------------------------\u001B[0m",
      "\u001B[1;31mTypeError\u001B[0m                                 Traceback (most recent call last)",
      "Cell \u001B[1;32mIn[20], line 4\u001B[0m\n\u001B[0;32m      1\u001B[0m \u001B[38;5;66;03m# Los objetos guardados en un tupla pueden ser mutables, pero una vez la tupla es creada no es posible modificar qué objeto es guardado en qué posición\u001B[39;00m\n\u001B[0;32m      3\u001B[0m tup \u001B[38;5;241m=\u001B[39m \u001B[38;5;28mtuple\u001B[39m([\u001B[38;5;124m'\u001B[39m\u001B[38;5;124mfoo\u001B[39m\u001B[38;5;124m'\u001B[39m, [\u001B[38;5;241m1\u001B[39m, \u001B[38;5;241m2\u001B[39m], \u001B[38;5;28;01mTrue\u001B[39;00m])\n\u001B[1;32m----> 4\u001B[0m tup[\u001B[38;5;241m2\u001B[39m] \u001B[38;5;241m=\u001B[39m \u001B[38;5;28;01mFalse\u001B[39;00m\n",
      "\u001B[1;31mTypeError\u001B[0m: 'tuple' object does not support item assignment"
     ]
    }
   ],
   "source": [
    "# Los objetos guardados en un tupla pueden ser mutables, pero una vez la tupla es creada no es posible modificar qué objeto es guardado en qué posición\n",
    "\n",
    "tup = tuple(['foo', [1, 2], True])\n",
    "tup[2] = False"
   ],
   "metadata": {
    "collapsed": false,
    "ExecuteTime": {
     "end_time": "2024-01-23T21:28:58.709486200Z",
     "start_time": "2024-01-23T21:28:58.634160900Z"
    }
   },
   "id": "aeac999aaadb63b5",
   "execution_count": 20
  },
  {
   "cell_type": "code",
   "outputs": [
    {
     "data": {
      "text/plain": "('foo', [1, 2, 3], True)"
     },
     "execution_count": 21,
     "metadata": {},
     "output_type": "execute_result"
    }
   ],
   "source": [
    "# Si el objeto dentro la tupla es mutable, como una lista, se puede modificar\n",
    "\n",
    "tup[1].append(3)\n",
    "tup"
   ],
   "metadata": {
    "collapsed": false,
    "ExecuteTime": {
     "end_time": "2024-01-23T21:28:58.746999500Z",
     "start_time": "2024-01-23T21:28:58.713619800Z"
    }
   },
   "id": "90370116622909b1",
   "execution_count": 21
  },
  {
   "cell_type": "code",
   "outputs": [
    {
     "data": {
      "text/plain": "(4, None, 'foo', 6, 0, 'bar')"
     },
     "execution_count": 22,
     "metadata": {},
     "output_type": "execute_result"
    }
   ],
   "source": [
    "# Se pueden concatenar tuplas usando el operador + \n",
    "\n",
    "(4, None, 'foo') + (6, 0) + ('bar', )"
   ],
   "metadata": {
    "collapsed": false,
    "ExecuteTime": {
     "end_time": "2024-01-23T21:28:58.751768300Z",
     "start_time": "2024-01-23T21:28:58.731205200Z"
    }
   },
   "id": "de12236e29b67060",
   "execution_count": 22
  },
  {
   "cell_type": "code",
   "outputs": [
    {
     "data": {
      "text/plain": "('foo', 'bar', 'foo', 'bar', 'foo', 'bar', 'foo', 'bar')"
     },
     "execution_count": 23,
     "metadata": {},
     "output_type": "execute_result"
    }
   ],
   "source": [
    "# Multiplicar una tupla por un entero, concatena tantas copias de la tupla\n",
    "\n",
    "('foo', 'bar') * 4"
   ],
   "metadata": {
    "collapsed": false,
    "ExecuteTime": {
     "end_time": "2024-01-23T21:28:58.831465300Z",
     "start_time": "2024-01-23T21:28:58.753768100Z"
    }
   },
   "id": "6ee99999fdde3a83",
   "execution_count": 23
  },
  {
   "cell_type": "markdown",
   "source": [
    "#### Desempaquetar tuplas\n",
    "\n",
    "Python desempaqueta el valor de una tupla en variables separadas por comas"
   ],
   "metadata": {
    "collapsed": false
   },
   "id": "7676464d8b9098c5"
  },
  {
   "cell_type": "code",
   "outputs": [
    {
     "data": {
      "text/plain": "5"
     },
     "execution_count": 24,
     "metadata": {},
     "output_type": "execute_result"
    }
   ],
   "source": [
    "tup = (4, 5, 6)\n",
    "a, b, c = tup\n",
    "b"
   ],
   "metadata": {
    "collapsed": false,
    "ExecuteTime": {
     "end_time": "2024-01-23T21:28:58.876535500Z",
     "start_time": "2024-01-23T21:28:58.833541Z"
    }
   },
   "id": "d38e11d1b6c96f5b",
   "execution_count": 24
  },
  {
   "cell_type": "code",
   "outputs": [
    {
     "data": {
      "text/plain": "7"
     },
     "execution_count": 25,
     "metadata": {},
     "output_type": "execute_result"
    }
   ],
   "source": [
    "# Las tuplas anidadas también pueden ser desempaquetadas\n",
    "\n",
    "tup = 4, 5, (6, 7)\n",
    "a, b, (c, d) = tup\n",
    "d"
   ],
   "metadata": {
    "collapsed": false,
    "ExecuteTime": {
     "end_time": "2024-01-23T21:28:58.890258800Z",
     "start_time": "2024-01-23T21:28:58.879779300Z"
    }
   },
   "id": "87f3a0db3008b1ca",
   "execution_count": 25
  },
  {
   "cell_type": "code",
   "outputs": [
    {
     "name": "stdout",
     "output_type": "stream",
     "text": [
      "a = 1, b = 2, c = 3\n",
      "a = 4, b = 5, c = 6\n",
      "a = 7, b = 8, c = 9\n"
     ]
    }
   ],
   "source": [
    "seq = [(1, 2, 3), (4, 5, 6), (7, 8, 9)]\n",
    "\n",
    "for a, b, c in seq:\n",
    "    print(f'a = {a}, b = {b}, c = {c}')\n"
   ],
   "metadata": {
    "collapsed": false,
    "ExecuteTime": {
     "end_time": "2024-01-23T21:28:58.899833700Z",
     "start_time": "2024-01-23T21:28:58.892595500Z"
    }
   },
   "id": "1b3bd34eb6043ad2",
   "execution_count": 26
  },
  {
   "cell_type": "code",
   "outputs": [
    {
     "data": {
      "text/plain": "(1, 2, [3, 4, 5])"
     },
     "execution_count": 27,
     "metadata": {},
     "output_type": "execute_result"
    }
   ],
   "source": [
    "# También se pueden sacar algunos elementos del resto de la tupla con *\n",
    "\n",
    "valores = 1, 2, 3, 4, 5\n",
    "\n",
    "a, b, *_ = valores\n",
    "\n",
    "a, b, _ # se usa _ para indicar valores no deseados"
   ],
   "metadata": {
    "collapsed": false,
    "ExecuteTime": {
     "end_time": "2024-01-23T21:28:58.952443900Z",
     "start_time": "2024-01-23T21:28:58.903013800Z"
    }
   },
   "id": "8efd32dd29063c4b",
   "execution_count": 27
  },
  {
   "cell_type": "markdown",
   "source": [
    "### Métodos de las tuplas\n",
    "\n",
    "Ya que no se pueden modificar las tuplas no tienen muchos métodos. Uno de los métodos es count\n",
    "\n"
   ],
   "metadata": {
    "collapsed": false
   },
   "id": "ad30584c0c8a85d2"
  },
  {
   "cell_type": "code",
   "outputs": [
    {
     "data": {
      "text/plain": "4"
     },
     "execution_count": 28,
     "metadata": {},
     "output_type": "execute_result"
    }
   ],
   "source": [
    "a = (1, 2, 2, 2, 3, 4, 2)\n",
    "\n",
    "a.count(2)"
   ],
   "metadata": {
    "collapsed": false,
    "ExecuteTime": {
     "end_time": "2024-01-23T21:28:58.992909900Z",
     "start_time": "2024-01-23T21:28:58.955487500Z"
    }
   },
   "id": "efc47f8e39377d57",
   "execution_count": 28
  },
  {
   "cell_type": "markdown",
   "source": [
    "### Listas \n",
    "\n",
    "Las listas tienen una longitúd variable y su contenido puede ser modificado. Las listas son mutables y se pueden crear con corchetes [] o con la función list"
   ],
   "metadata": {
    "collapsed": false
   },
   "id": "3ce5f0007a12c950"
  },
  {
   "cell_type": "code",
   "outputs": [
    {
     "data": {
      "text/plain": "['foo', 'hola', 'baz']"
     },
     "execution_count": 29,
     "metadata": {},
     "output_type": "execute_result"
    }
   ],
   "source": [
    "a_list = [2, 3, 7, None]\n",
    "\n",
    "tup = ('foo', 'bar', 'baz')\n",
    "\n",
    "b_list = list(tup)\n",
    "\n",
    "b_list[1] = 'hola'\n",
    "b_list"
   ],
   "metadata": {
    "collapsed": false,
    "ExecuteTime": {
     "end_time": "2024-01-23T21:28:59.024478800Z",
     "start_time": "2024-01-23T21:28:58.995911100Z"
    }
   },
   "id": "50c92935f3a5533d",
   "execution_count": 29
  },
  {
   "cell_type": "code",
   "outputs": [
    {
     "data": {
      "text/plain": "[0, 1, 2, 3, 4, 5, 6, 7, 8, 9]"
     },
     "execution_count": 30,
     "metadata": {},
     "output_type": "execute_result"
    }
   ],
   "source": [
    "# se puede usar list\n",
    "\n",
    "gen = range(10)\n",
    "\n",
    "list(gen)"
   ],
   "metadata": {
    "collapsed": false,
    "ExecuteTime": {
     "end_time": "2024-01-23T21:28:59.052186200Z",
     "start_time": "2024-01-23T21:28:59.026495Z"
    }
   },
   "id": "dd400982ee4083ee",
   "execution_count": 30
  },
  {
   "cell_type": "markdown",
   "source": [
    "### Añadir y eliminar elementos\n",
    "\n",
    "Se puede agregar elementos al final con el método append"
   ],
   "metadata": {
    "collapsed": false
   },
   "id": "9bc64ba8c3f6ea58"
  },
  {
   "cell_type": "code",
   "outputs": [
    {
     "data": {
      "text/plain": "['foo', 'hola', 'baz', 'enano']"
     },
     "execution_count": 31,
     "metadata": {},
     "output_type": "execute_result"
    }
   ],
   "source": [
    "b_list.append('enano')\n",
    "b_list"
   ],
   "metadata": {
    "collapsed": false,
    "ExecuteTime": {
     "end_time": "2024-01-23T21:28:59.088537700Z",
     "start_time": "2024-01-23T21:28:59.055248200Z"
    }
   },
   "id": "41f6c976956cb653",
   "execution_count": 31
  },
  {
   "cell_type": "code",
   "outputs": [
    {
     "data": {
      "text/plain": "['foo', 'rojo', 'hola', 'baz', 'enano']"
     },
     "execution_count": 32,
     "metadata": {},
     "output_type": "execute_result"
    }
   ],
   "source": [
    "# se puede usar insert para insertar en una ubicación específica\n",
    "\n",
    "b_list.insert(1, 'rojo')\n",
    "b_list"
   ],
   "metadata": {
    "collapsed": false,
    "ExecuteTime": {
     "end_time": "2024-01-23T21:28:59.089537900Z",
     "start_time": "2024-01-23T21:28:59.060806400Z"
    }
   },
   "id": "49c2e98aaad0d12a",
   "execution_count": 32
  },
  {
   "cell_type": "code",
   "outputs": [
    {
     "data": {
      "text/plain": "'hola'"
     },
     "execution_count": 33,
     "metadata": {},
     "output_type": "execute_result"
    }
   ],
   "source": [
    "# el contrario de insert es pop, elimina y devuelve un elemento en un indice \n",
    "\n",
    "b_list.pop(2)"
   ],
   "metadata": {
    "collapsed": false,
    "ExecuteTime": {
     "end_time": "2024-01-23T21:29:43.181166700Z",
     "start_time": "2024-01-23T21:29:43.170313400Z"
    }
   },
   "id": "5a59ba1afb48b1f3",
   "execution_count": 33
  },
  {
   "cell_type": "code",
   "outputs": [
    {
     "data": {
      "text/plain": "['foo', 'rojo', 'baz', 'enano']"
     },
     "execution_count": 34,
     "metadata": {},
     "output_type": "execute_result"
    }
   ],
   "source": [
    "b_list"
   ],
   "metadata": {
    "collapsed": false,
    "ExecuteTime": {
     "end_time": "2024-01-23T21:30:42.134284900Z",
     "start_time": "2024-01-23T21:30:42.127966600Z"
    }
   },
   "id": "d0b135d094a7cda7",
   "execution_count": 34
  },
  {
   "cell_type": "code",
   "outputs": [
    {
     "data": {
      "text/plain": "['foo', 'rojo', 'baz', 'enano', 'foo']"
     },
     "execution_count": 35,
     "metadata": {},
     "output_type": "execute_result"
    }
   ],
   "source": [
    "# se pueden eliminar elementos por su valor con remove, encuentra el primer elemento con el valor y lo elimina\n",
    "\n",
    "b_list.append('foo')\n",
    "b_list"
   ],
   "metadata": {
    "collapsed": false,
    "ExecuteTime": {
     "end_time": "2024-01-23T21:32:07.248511Z",
     "start_time": "2024-01-23T21:32:07.244057800Z"
    }
   },
   "id": "7dda0a0d091461d3",
   "execution_count": 35
  },
  {
   "cell_type": "code",
   "outputs": [
    {
     "data": {
      "text/plain": "['rojo', 'baz', 'enano', 'foo']"
     },
     "execution_count": 36,
     "metadata": {},
     "output_type": "execute_result"
    }
   ],
   "source": [
    "b_list.remove('foo')\n",
    "b_list"
   ],
   "metadata": {
    "collapsed": false,
    "ExecuteTime": {
     "end_time": "2024-01-23T21:32:23.369134100Z",
     "start_time": "2024-01-23T21:32:23.357602800Z"
    }
   },
   "id": "a9c402c1a584745",
   "execution_count": 36
  },
  {
   "cell_type": "code",
   "outputs": [
    {
     "data": {
      "text/plain": "True"
     },
     "execution_count": 37,
     "metadata": {},
     "output_type": "execute_result"
    }
   ],
   "source": [
    "# verificar si una lista contiene un valor \n",
    "\n",
    "'baz' in b_list"
   ],
   "metadata": {
    "collapsed": false,
    "ExecuteTime": {
     "end_time": "2024-01-23T21:33:20.399886400Z",
     "start_time": "2024-01-23T21:33:20.394179800Z"
    }
   },
   "id": "557fb2c1ded8ec0b",
   "execution_count": 37
  },
  {
   "cell_type": "code",
   "outputs": [
    {
     "data": {
      "text/plain": "False"
     },
     "execution_count": 38,
     "metadata": {},
     "output_type": "execute_result"
    }
   ],
   "source": [
    "'baz' not in b_list"
   ],
   "metadata": {
    "collapsed": false,
    "ExecuteTime": {
     "end_time": "2024-01-23T21:33:34.793739400Z",
     "start_time": "2024-01-23T21:33:34.788805300Z"
    }
   },
   "id": "12a25c95f65f0026",
   "execution_count": 38
  },
  {
   "cell_type": "markdown",
   "source": [
    "#### Concatenar y combinar listas\n",
    "\n",
    "Igual que las tuplas, agregar dos listas con + las concatena\n"
   ],
   "metadata": {
    "collapsed": false
   },
   "id": "75e79accd12bcf10"
  },
  {
   "cell_type": "code",
   "outputs": [
    {
     "data": {
      "text/plain": "[4, None, 'foo', 7, 8, (2, 3)]"
     },
     "execution_count": 39,
     "metadata": {},
     "output_type": "execute_result"
    }
   ],
   "source": [
    "[4, None, 'foo'] + [7, 8, (2, 3)]"
   ],
   "metadata": {
    "collapsed": false,
    "ExecuteTime": {
     "end_time": "2024-01-23T21:36:03.914567600Z",
     "start_time": "2024-01-23T21:36:03.909469900Z"
    }
   },
   "id": "a162dd21b068f55c",
   "execution_count": 39
  },
  {
   "cell_type": "code",
   "outputs": [
    {
     "data": {
      "text/plain": "[4, 'None', 'foo', 7, 8, (2, 3)]"
     },
     "execution_count": 40,
     "metadata": {},
     "output_type": "execute_result"
    }
   ],
   "source": [
    "# si ya hay una lista definida , se pueden agregar multiples elementos usando el metodo extend\n",
    "\n",
    "x = [4, 'None', 'foo']\n",
    "\n",
    "x.extend([7, 8, (2, 3)])\n",
    "x"
   ],
   "metadata": {
    "collapsed": false,
    "ExecuteTime": {
     "end_time": "2024-01-23T21:44:28.487857900Z",
     "start_time": "2024-01-23T21:44:28.484631200Z"
    }
   },
   "id": "b9d50f04e0e9b460",
   "execution_count": 40
  },
  {
   "cell_type": "markdown",
   "source": [
    "La concatenación por adición es una operación costosa. Usando extend es más eficiente.\n",
    "\n",
    "#### Ordenando\n",
    "\n",
    "Se puede ordenar una lista en el lugar llamando la función `sort`"
   ],
   "metadata": {
    "collapsed": false
   },
   "id": "b2a2f78c0cf1597e"
  },
  {
   "cell_type": "code",
   "outputs": [
    {
     "data": {
      "text/plain": "[1, 2, 3, 5, 7]"
     },
     "execution_count": 41,
     "metadata": {},
     "output_type": "execute_result"
    }
   ],
   "source": [
    "a = [7, 2, 5, 1, 3]\n",
    "a.sort()\n",
    "a"
   ],
   "metadata": {
    "collapsed": false,
    "ExecuteTime": {
     "end_time": "2024-01-23T21:48:13.235988300Z",
     "start_time": "2024-01-23T21:48:13.232483700Z"
    }
   },
   "id": "4a4addb8a3ecfc1",
   "execution_count": 41
  },
  {
   "cell_type": "code",
   "outputs": [
    {
     "data": {
      "text/plain": "['He', 'saw', 'six', 'small', 'foxes']"
     },
     "execution_count": 42,
     "metadata": {},
     "output_type": "execute_result"
    }
   ],
   "source": [
    "# sort tiene un argumento key, permite pasar una llave secundaria de ordenamiento\n",
    "\n",
    "b = ['saw', 'small', 'He', 'foxes', 'six']\n",
    "b.sort(key = len)\n",
    "b"
   ],
   "metadata": {
    "collapsed": false,
    "ExecuteTime": {
     "end_time": "2024-01-23T22:06:25.769541400Z",
     "start_time": "2024-01-23T22:06:25.764683400Z"
    }
   },
   "id": "a9ca96a81ba98ce8",
   "execution_count": 42
  },
  {
   "cell_type": "markdown",
   "source": [
    "#### Slicing \n",
    "\n",
    "Se usa para seleccionar secciones de secuencias usando la notación **slice**, la cual consiste en su forma básica en **comienzo:final** "
   ],
   "metadata": {
    "collapsed": false
   },
   "id": "930bcc158be6a0d5"
  },
  {
   "cell_type": "code",
   "outputs": [
    {
     "data": {
      "text/plain": "[2, 3, 7, 5]"
     },
     "execution_count": 43,
     "metadata": {},
     "output_type": "execute_result"
    }
   ],
   "source": [
    "seq = [7, 2, 3, 7, 5, 6, 0, 1]\n",
    "seq[1:5]"
   ],
   "metadata": {
    "collapsed": false,
    "ExecuteTime": {
     "end_time": "2024-01-23T22:08:18.696570100Z",
     "start_time": "2024-01-23T22:08:18.691804Z"
    }
   },
   "id": "1b9077d5da6b15fd",
   "execution_count": 43
  },
  {
   "cell_type": "code",
   "outputs": [
    {
     "data": {
      "text/plain": "[7, 2, 3, 6, 3, 6, 0, 1]"
     },
     "execution_count": 45,
     "metadata": {},
     "output_type": "execute_result"
    }
   ],
   "source": [
    "# se pueden asignar con una secuencia\n",
    "\n",
    "seq[3:5] = [6, 3]\n",
    "seq"
   ],
   "metadata": {
    "collapsed": false,
    "ExecuteTime": {
     "end_time": "2024-01-23T22:09:01.467234Z",
     "start_time": "2024-01-23T22:09:01.459893200Z"
    }
   },
   "id": "d282fa9fd880be10",
   "execution_count": 45
  },
  {
   "cell_type": "markdown",
   "source": [
    "El elemento inicial de un **slice** es incluido pero el elemento final no. El comienzo como el final pueden ser omitidos."
   ],
   "metadata": {
    "collapsed": false
   },
   "id": "fee6f1b855b216ab"
  },
  {
   "cell_type": "code",
   "outputs": [
    {
     "data": {
      "text/plain": "[7, 2, 3, 6, 3]"
     },
     "execution_count": 46,
     "metadata": {},
     "output_type": "execute_result"
    }
   ],
   "source": [
    "seq[:5]"
   ],
   "metadata": {
    "collapsed": false,
    "ExecuteTime": {
     "end_time": "2024-01-23T22:10:33.636467500Z",
     "start_time": "2024-01-23T22:10:33.630267600Z"
    }
   },
   "id": "fd223b217de41ab1",
   "execution_count": 46
  },
  {
   "cell_type": "code",
   "outputs": [
    {
     "data": {
      "text/plain": "[6, 3, 6, 0, 1]"
     },
     "execution_count": 47,
     "metadata": {},
     "output_type": "execute_result"
    }
   ],
   "source": [
    "seq[3:]"
   ],
   "metadata": {
    "collapsed": false,
    "ExecuteTime": {
     "end_time": "2024-01-23T22:10:52.825186100Z",
     "start_time": "2024-01-23T22:10:52.820319800Z"
    }
   },
   "id": "321c05c5296e279",
   "execution_count": 47
  },
  {
   "cell_type": "code",
   "outputs": [
    {
     "data": {
      "text/plain": "[3, 6, 0, 1]"
     },
     "execution_count": 48,
     "metadata": {},
     "output_type": "execute_result"
    }
   ],
   "source": [
    "# un indice negativo desliza la secuencia desde el final\n",
    "\n",
    "seq[-4:]"
   ],
   "metadata": {
    "collapsed": false,
    "ExecuteTime": {
     "end_time": "2024-01-23T22:25:06.614578200Z",
     "start_time": "2024-01-23T22:25:06.609646100Z"
    }
   },
   "id": "89f574e85dd50b25",
   "execution_count": 48
  },
  {
   "cell_type": "code",
   "outputs": [
    {
     "data": {
      "text/plain": "[3, 6, 3, 6]"
     },
     "execution_count": 49,
     "metadata": {},
     "output_type": "execute_result"
    }
   ],
   "source": [
    "seq[-6:-2]"
   ],
   "metadata": {
    "collapsed": false,
    "ExecuteTime": {
     "end_time": "2024-01-23T22:25:44.770824500Z",
     "start_time": "2024-01-23T22:25:44.766813100Z"
    }
   },
   "id": "476427533174d43a",
   "execution_count": 49
  },
  {
   "cell_type": "code",
   "outputs": [
    {
     "data": {
      "text/plain": "[7, 3, 3, 0]"
     },
     "execution_count": 50,
     "metadata": {},
     "output_type": "execute_result"
    }
   ],
   "source": [
    "# se puede tomar otro paso luego del segundo dos puntos para tomar elementos con saltos\n",
    "\n",
    "seq[::2]"
   ],
   "metadata": {
    "collapsed": false,
    "ExecuteTime": {
     "end_time": "2024-01-23T22:35:23.288641200Z",
     "start_time": "2024-01-23T22:35:23.283137Z"
    }
   },
   "id": "c67c1caef53f6147",
   "execution_count": 50
  },
  {
   "cell_type": "code",
   "outputs": [
    {
     "data": {
      "text/plain": "[1, 0, 6, 3, 6, 3, 2, 7]"
     },
     "execution_count": 51,
     "metadata": {},
     "output_type": "execute_result"
    }
   ],
   "source": [
    "# poner -1 como paso, invierte la lista \n",
    "\n",
    "seq[::-1]"
   ],
   "metadata": {
    "collapsed": false,
    "ExecuteTime": {
     "end_time": "2024-01-23T22:35:56.120366300Z",
     "start_time": "2024-01-23T22:35:56.112238Z"
    }
   },
   "id": "47b4210f251777ba",
   "execution_count": 51
  },
  {
   "cell_type": "markdown",
   "source": [
    "### Diccionario\n",
    "\n",
    "Un diccionario es una colección de pares llaves - valor donde ambos son objetos de python. Cada llave se asocia con un valor para que este se pueda recuperar, insertar, modificar o eliminar dada una llave particular. Se pueden crear con paréntesis {} o con `dict`."
   ],
   "metadata": {
    "collapsed": false
   },
   "id": "b77cdec516934bd0"
  },
  {
   "cell_type": "code",
   "outputs": [],
   "source": [
    "dic_vacio = {}"
   ],
   "metadata": {
    "collapsed": false,
    "ExecuteTime": {
     "end_time": "2024-01-23T22:38:12.009104Z",
     "start_time": "2024-01-23T22:38:12.004557900Z"
    }
   },
   "id": "9382f5bc9027fba8",
   "execution_count": 52
  },
  {
   "cell_type": "code",
   "outputs": [
    {
     "data": {
      "text/plain": "{'a': 'algún valor', 'b': [1, 2, 3, 4]}"
     },
     "execution_count": 53,
     "metadata": {},
     "output_type": "execute_result"
    }
   ],
   "source": [
    "d1 = {'a': 'algún valor', 'b': [1, 2, 3, 4]}\n",
    "d1"
   ],
   "metadata": {
    "collapsed": false,
    "ExecuteTime": {
     "end_time": "2024-01-23T22:38:40.828874800Z",
     "start_time": "2024-01-23T22:38:40.824018900Z"
    }
   },
   "id": "b5e3952062cbceae",
   "execution_count": 53
  },
  {
   "cell_type": "code",
   "outputs": [
    {
     "data": {
      "text/plain": "{'a': 'algún valor', 'b': [1, 2, 3, 4], 7: 'un entero'}"
     },
     "execution_count": 54,
     "metadata": {},
     "output_type": "execute_result"
    }
   ],
   "source": [
    "# se pueden acceder a los elementos usando la misma notación de una lista o tupla\n",
    "\n",
    "d1[7] = 'un entero'\n",
    "d1"
   ],
   "metadata": {
    "collapsed": false,
    "ExecuteTime": {
     "end_time": "2024-01-23T22:39:27.208888400Z",
     "start_time": "2024-01-23T22:39:27.204383100Z"
    }
   },
   "id": "8125c569666407fe",
   "execution_count": 54
  },
  {
   "cell_type": "code",
   "outputs": [
    {
     "data": {
      "text/plain": "[1, 2, 3, 4]"
     },
     "execution_count": 55,
     "metadata": {},
     "output_type": "execute_result"
    }
   ],
   "source": [
    "d1['b']"
   ],
   "metadata": {
    "collapsed": false,
    "ExecuteTime": {
     "end_time": "2024-01-23T22:39:48.463978100Z",
     "start_time": "2024-01-23T22:39:48.458205500Z"
    }
   },
   "id": "1b6dbaa4dfc70b64",
   "execution_count": 55
  },
  {
   "cell_type": "code",
   "outputs": [
    {
     "data": {
      "text/plain": "True"
     },
     "execution_count": 56,
     "metadata": {},
     "output_type": "execute_result"
    }
   ],
   "source": [
    "# se puede verificar si el diccionario contiene una llave usando `in`\n",
    "\n",
    "'b' in d1"
   ],
   "metadata": {
    "collapsed": false,
    "ExecuteTime": {
     "end_time": "2024-01-23T22:40:31.340151400Z",
     "start_time": "2024-01-23T22:40:31.335299600Z"
    }
   },
   "id": "83f340f784433e54",
   "execution_count": 56
  },
  {
   "cell_type": "code",
   "outputs": [
    {
     "data": {
      "text/plain": "{'a': 'algún valor',\n 'b': [1, 2, 3, 4],\n 7: 'un entero',\n 'dummy': 'otro valor',\n 5: 'algun valor'}"
     },
     "execution_count": 61,
     "metadata": {},
     "output_type": "execute_result"
    }
   ],
   "source": [
    "# se pueden eliminar valores usando `del` o el método `pop`\n",
    "\n",
    "d1[5] = 'algun valor'\n",
    "d1"
   ],
   "metadata": {
    "collapsed": false,
    "ExecuteTime": {
     "end_time": "2024-01-23T22:41:48.587426400Z",
     "start_time": "2024-01-23T22:41:48.584285700Z"
    }
   },
   "id": "1846fd75068d37c3",
   "execution_count": 61
  },
  {
   "cell_type": "code",
   "outputs": [
    {
     "data": {
      "text/plain": "{'a': 'algún valor',\n 'b': [1, 2, 3, 4],\n 7: 'un entero',\n 5: 'algun valor',\n 'dummy': 'otro valor'}"
     },
     "execution_count": 58,
     "metadata": {},
     "output_type": "execute_result"
    }
   ],
   "source": [
    "d1['dummy'] = 'otro valor'\n",
    "d1"
   ],
   "metadata": {
    "collapsed": false,
    "ExecuteTime": {
     "end_time": "2024-01-23T22:41:32.449750200Z",
     "start_time": "2024-01-23T22:41:32.444494300Z"
    }
   },
   "id": "51a3402e196c326f",
   "execution_count": 58
  },
  {
   "cell_type": "code",
   "outputs": [
    {
     "data": {
      "text/plain": "{'a': 'algún valor', 'b': [1, 2, 3, 4], 7: 'un entero', 'dummy': 'otro valor'}"
     },
     "execution_count": 62,
     "metadata": {},
     "output_type": "execute_result"
    }
   ],
   "source": [
    "del d1[5]\n",
    "d1"
   ],
   "metadata": {
    "collapsed": false,
    "ExecuteTime": {
     "end_time": "2024-01-23T22:41:50.440889600Z",
     "start_time": "2024-01-23T22:41:50.435054900Z"
    }
   },
   "id": "75a31e2d599274cc",
   "execution_count": 62
  },
  {
   "cell_type": "code",
   "outputs": [
    {
     "data": {
      "text/plain": "'otro valor'"
     },
     "execution_count": 63,
     "metadata": {},
     "output_type": "execute_result"
    }
   ],
   "source": [
    "ret = d1.pop('dummy')\n",
    "ret"
   ],
   "metadata": {
    "collapsed": false,
    "ExecuteTime": {
     "end_time": "2024-01-23T22:42:06.047482400Z",
     "start_time": "2024-01-23T22:42:06.042260600Z"
    }
   },
   "id": "ff9e64f6d718a995",
   "execution_count": 63
  },
  {
   "cell_type": "code",
   "outputs": [
    {
     "data": {
      "text/plain": "{'a': 'algún valor', 'b': [1, 2, 3, 4], 7: 'un entero'}"
     },
     "execution_count": 64,
     "metadata": {},
     "output_type": "execute_result"
    }
   ],
   "source": [
    "d1"
   ],
   "metadata": {
    "collapsed": false,
    "ExecuteTime": {
     "end_time": "2024-01-23T22:42:10.393631900Z",
     "start_time": "2024-01-23T22:42:10.385965400Z"
    }
   },
   "id": "69f589f3f9c03ce7",
   "execution_count": 64
  },
  {
   "cell_type": "markdown",
   "source": [
    "Los métodos `keys`, `values` dan iteradores de las llaves y valores del diccionario."
   ],
   "metadata": {
    "collapsed": false
   },
   "id": "c2e923d78b3d2bd2"
  },
  {
   "cell_type": "code",
   "outputs": [
    {
     "data": {
      "text/plain": "['a', 'b', 7]"
     },
     "execution_count": 65,
     "metadata": {},
     "output_type": "execute_result"
    }
   ],
   "source": [
    "list(d1.keys())"
   ],
   "metadata": {
    "collapsed": false,
    "ExecuteTime": {
     "end_time": "2024-01-23T22:43:31.239670400Z",
     "start_time": "2024-01-23T22:43:31.235102300Z"
    }
   },
   "id": "2a4cae0686ee0f24",
   "execution_count": 65
  },
  {
   "cell_type": "code",
   "outputs": [
    {
     "data": {
      "text/plain": "['algún valor', [1, 2, 3, 4], 'un entero']"
     },
     "execution_count": 66,
     "metadata": {},
     "output_type": "execute_result"
    }
   ],
   "source": [
    "list(d1.values())"
   ],
   "metadata": {
    "collapsed": false,
    "ExecuteTime": {
     "end_time": "2024-01-23T22:43:43.889156800Z",
     "start_time": "2024-01-23T22:43:43.882733800Z"
    }
   },
   "id": "60d4278593095184",
   "execution_count": 66
  },
  {
   "cell_type": "code",
   "outputs": [
    {
     "data": {
      "text/plain": "[('a', 'algún valor'), ('b', 'foo'), (7, 'un entero'), ('c', 12)]"
     },
     "execution_count": 68,
     "metadata": {},
     "output_type": "execute_result"
    }
   ],
   "source": [
    "list(d1.items())"
   ],
   "metadata": {
    "collapsed": false,
    "ExecuteTime": {
     "end_time": "2024-01-23T22:44:57.791420700Z",
     "start_time": "2024-01-23T22:44:57.783364900Z"
    }
   },
   "id": "46adbcce7531033a",
   "execution_count": 68
  },
  {
   "cell_type": "code",
   "outputs": [
    {
     "data": {
      "text/plain": "{'a': 'algún valor', 'b': 'foo', 7: 'un entero', 'c': 12}"
     },
     "execution_count": 67,
     "metadata": {},
     "output_type": "execute_result"
    }
   ],
   "source": [
    "# se pueden combinar diccionarios usando el método `update`\n",
    "\n",
    "d1.update({'b': 'foo', 'c': 12})\n",
    "d1\n",
    "\n",
    "# reemplaza los valores de las llaves a actualizar"
   ],
   "metadata": {
    "collapsed": false,
    "ExecuteTime": {
     "end_time": "2024-01-23T22:44:31.783305200Z",
     "start_time": "2024-01-23T22:44:31.775994100Z"
    }
   },
   "id": "efc9f0f8e8bfac51",
   "execution_count": 67
  },
  {
   "cell_type": "markdown",
   "source": [
    "#### Creando diccionarios desde secuencias\n",
    "\n",
    "Se puede crear un diccionario desde dos secuencias usando `zip`"
   ],
   "metadata": {
    "collapsed": false
   },
   "id": "b1053ec87085b92c"
  },
  {
   "cell_type": "code",
   "outputs": [
    {
     "data": {
      "text/plain": "<zip at 0x1d49b3cf180>"
     },
     "execution_count": 70,
     "metadata": {},
     "output_type": "execute_result"
    }
   ],
   "source": [
    "# un diccionario es una colección de 2 tuplas, dict acepta una lista de 2 tuplas\n",
    "\n",
    "tuplas = zip(range(5), reversed(range(5)))\n",
    "tuplas"
   ],
   "metadata": {
    "collapsed": false,
    "ExecuteTime": {
     "end_time": "2024-01-23T22:49:12.604698500Z",
     "start_time": "2024-01-23T22:49:12.598966700Z"
    }
   },
   "id": "1bc655dae6f55422",
   "execution_count": 70
  },
  {
   "cell_type": "code",
   "outputs": [
    {
     "data": {
      "text/plain": "{0: 4, 1: 3, 2: 2, 3: 1, 4: 0}"
     },
     "execution_count": 71,
     "metadata": {},
     "output_type": "execute_result"
    }
   ],
   "source": [
    "mapeado = dict(tuplas)\n",
    "mapeado"
   ],
   "metadata": {
    "collapsed": false,
    "ExecuteTime": {
     "end_time": "2024-01-23T22:49:25.712269900Z",
     "start_time": "2024-01-23T22:49:25.705942Z"
    }
   },
   "id": "dd2c2aebb3d611dc",
   "execution_count": 71
  },
  {
   "cell_type": "markdown",
   "source": [
    "#### Valores por defecto\n"
   ],
   "metadata": {
    "collapsed": false
   },
   "id": "b7e878c1157fc6e5"
  },
  {
   "cell_type": "code",
   "outputs": [],
   "source": [
    "palabras = ['apple', 'bat', 'bar', 'atom', 'book']\n",
    "\n",
    "por_letra = {}"
   ],
   "metadata": {
    "collapsed": false,
    "ExecuteTime": {
     "end_time": "2024-01-23T22:50:59.639569800Z",
     "start_time": "2024-01-23T22:50:59.633065Z"
    }
   },
   "id": "79f1a7b9aa72470f",
   "execution_count": 72
  },
  {
   "cell_type": "code",
   "outputs": [],
   "source": [
    "for palabra in palabras:\n",
    "    letra = palabra[0]\n",
    "    if letra not in por_letra:\n",
    "        por_letra[letra] = [palabra]\n",
    "    else:\n",
    "        por_letra[letra].append(palabra)"
   ],
   "metadata": {
    "collapsed": false,
    "ExecuteTime": {
     "end_time": "2024-01-23T22:52:36.256631300Z",
     "start_time": "2024-01-23T22:52:36.251027100Z"
    }
   },
   "id": "87bc650e500bd1a4",
   "execution_count": 73
  },
  {
   "cell_type": "code",
   "outputs": [
    {
     "data": {
      "text/plain": "{'a': ['apple', 'atom'], 'b': ['bat', 'bar', 'book']}"
     },
     "execution_count": 74,
     "metadata": {},
     "output_type": "execute_result"
    }
   ],
   "source": [
    "por_letra"
   ],
   "metadata": {
    "collapsed": false,
    "ExecuteTime": {
     "end_time": "2024-01-23T22:52:43.521459300Z",
     "start_time": "2024-01-23T22:52:43.516046800Z"
    }
   },
   "id": "8b6ce55c7faced7e",
   "execution_count": 74
  },
  {
   "cell_type": "code",
   "outputs": [
    {
     "data": {
      "text/plain": "{'a': ['apple', 'atom'], 'b': ['bat', 'bar', 'book']}"
     },
     "execution_count": 75,
     "metadata": {},
     "output_type": "execute_result"
    }
   ],
   "source": [
    "# se puede usar el método `setdefault` para simplificar \n",
    "\n",
    "por_letra = {}\n",
    "\n",
    "for palabra in palabras:\n",
    "    letra = palabra[0]\n",
    "    por_letra.setdefault(letra, []).append(palabra)\n",
    "\n",
    "por_letra"
   ],
   "metadata": {
    "collapsed": false,
    "ExecuteTime": {
     "end_time": "2024-01-24T02:24:53.595131Z",
     "start_time": "2024-01-24T02:24:53.588960100Z"
    }
   },
   "id": "8b506d929279ffb",
   "execution_count": 75
  },
  {
   "cell_type": "code",
   "outputs": [
    {
     "data": {
      "text/plain": "defaultdict(list, {'a': ['apple', 'atom'], 'b': ['bat', 'bar', 'book']})"
     },
     "execution_count": 76,
     "metadata": {},
     "output_type": "execute_result"
    }
   ],
   "source": [
    "# se puede usar `defaultdict` del módulo `collections` para simplificar aún más\n",
    "\n",
    "from collections import defaultdict\n",
    "\n",
    "por_letra = defaultdict(list)\n",
    "\n",
    "for palabra in palabras:\n",
    "    por_letra[palabra[0]].append(palabra)\n",
    "    \n",
    "por_letra"
   ],
   "metadata": {
    "collapsed": false,
    "ExecuteTime": {
     "end_time": "2024-01-24T02:27:19.714964800Z",
     "start_time": "2024-01-24T02:27:19.708890Z"
    }
   },
   "id": "f735e8031844b262",
   "execution_count": 76
  },
  {
   "cell_type": "markdown",
   "source": [
    "#### Tipos validos de llaves de diccionario\n",
    "\n",
    "Los valores de un diccionario pueden ser de cualquier clase, las llaves tienen que ser generalmente objetos inmutables como escalares, tuplas. Tienen que tener **Hashability**. Se puede ver si un obejto es **hashable** con la función `hash`"
   ],
   "metadata": {
    "collapsed": false
   },
   "id": "bd4d9f1f1e2457b2"
  },
  {
   "cell_type": "code",
   "outputs": [
    {
     "data": {
      "text/plain": "750235713355704883"
     },
     "execution_count": 77,
     "metadata": {},
     "output_type": "execute_result"
    }
   ],
   "source": [
    "hash('string')"
   ],
   "metadata": {
    "collapsed": false,
    "ExecuteTime": {
     "end_time": "2024-01-24T02:29:31.125982600Z",
     "start_time": "2024-01-24T02:29:31.119838700Z"
    }
   },
   "id": "f4d05ca626b64e32",
   "execution_count": 77
  },
  {
   "cell_type": "code",
   "outputs": [
    {
     "data": {
      "text/plain": "-9209053662355515447"
     },
     "execution_count": 79,
     "metadata": {},
     "output_type": "execute_result"
    }
   ],
   "source": [
    "hash((1, 2, (2, 3)))"
   ],
   "metadata": {
    "collapsed": false,
    "ExecuteTime": {
     "end_time": "2024-01-24T02:29:59.829893900Z",
     "start_time": "2024-01-24T02:29:59.822980600Z"
    }
   },
   "id": "de0e50dc2c2f134f",
   "execution_count": 79
  },
  {
   "cell_type": "code",
   "outputs": [
    {
     "ename": "TypeError",
     "evalue": "unhashable type: 'list'",
     "output_type": "error",
     "traceback": [
      "\u001B[1;31m---------------------------------------------------------------------------\u001B[0m",
      "\u001B[1;31mTypeError\u001B[0m                                 Traceback (most recent call last)",
      "Cell \u001B[1;32mIn[81], line 1\u001B[0m\n\u001B[1;32m----> 1\u001B[0m \u001B[38;5;28mhash\u001B[39m((\u001B[38;5;241m1\u001B[39m, \u001B[38;5;241m2\u001B[39m, [\u001B[38;5;241m2\u001B[39m, \u001B[38;5;241m3\u001B[39m]))\n",
      "\u001B[1;31mTypeError\u001B[0m: unhashable type: 'list'"
     ]
    }
   ],
   "source": [
    "hash((1, 2, [2, 3]))\n",
    "\n",
    "# Falla porque las listas son mutables."
   ],
   "metadata": {
    "collapsed": false,
    "ExecuteTime": {
     "end_time": "2024-01-24T02:30:29.895531800Z",
     "start_time": "2024-01-24T02:30:29.885244Z"
    }
   },
   "id": "61c9c902e52eb984",
   "execution_count": 81
  },
  {
   "cell_type": "code",
   "outputs": [
    {
     "data": {
      "text/plain": "{(1, 2, 3): 5}"
     },
     "execution_count": 82,
     "metadata": {},
     "output_type": "execute_result"
    }
   ],
   "source": [
    "# Para usar una lista como llave, se puede convertir a una tupla\n",
    "\n",
    "d = {}\n",
    "\n",
    "d[tuple([1, 2, 3])] = 5\n",
    "d"
   ],
   "metadata": {
    "collapsed": false,
    "ExecuteTime": {
     "end_time": "2024-01-24T02:31:11.434654Z",
     "start_time": "2024-01-24T02:31:11.427276500Z"
    }
   },
   "id": "7be605a7fe8672e5",
   "execution_count": 82
  },
  {
   "cell_type": "markdown",
   "source": [
    "### Conjuntos\n",
    "\n",
    "Un conjunto es una colección no ordenada de elementos únicos. Se puede crear con `set` o con `{}`."
   ],
   "metadata": {
    "collapsed": false
   },
   "id": "2fa66e5d670d243c"
  },
  {
   "cell_type": "code",
   "outputs": [
    {
     "data": {
      "text/plain": "{1, 2, 3}"
     },
     "execution_count": 83,
     "metadata": {},
     "output_type": "execute_result"
    }
   ],
   "source": [
    "set([2, 2, 2, 1, 3, 3])"
   ],
   "metadata": {
    "collapsed": false,
    "ExecuteTime": {
     "end_time": "2024-01-24T02:32:25.395225300Z",
     "start_time": "2024-01-24T02:32:25.389574200Z"
    }
   },
   "id": "49ebbf50a43f4033",
   "execution_count": 83
  },
  {
   "cell_type": "code",
   "outputs": [
    {
     "data": {
      "text/plain": "{1, 2, 3}"
     },
     "execution_count": 84,
     "metadata": {},
     "output_type": "execute_result"
    }
   ],
   "source": [
    "{2, 2, 2, 1, 3, 3}"
   ],
   "metadata": {
    "collapsed": false,
    "ExecuteTime": {
     "end_time": "2024-01-24T02:32:33.528335200Z",
     "start_time": "2024-01-24T02:32:33.520976600Z"
    }
   },
   "id": "ac492d759890be3c",
   "execution_count": 84
  },
  {
   "cell_type": "markdown",
   "source": [
    "Los conjuntos aceptan operaciones matemáticas como uniones, intersección, diferencia y diferencia simétricas, por ejemplo:"
   ],
   "metadata": {
    "collapsed": false
   },
   "id": "416ef91e0c5920f5"
  },
  {
   "cell_type": "code",
   "outputs": [
    {
     "data": {
      "text/plain": "{1, 2, 3, 4, 5, 6, 7, 8}"
     },
     "execution_count": 85,
     "metadata": {},
     "output_type": "execute_result"
    }
   ],
   "source": [
    "a = {1, 2, 3, 4, 5}\n",
    "b = {3, 4, 5, 6, 7, 8}\n",
    "\n",
    "a.union(b)"
   ],
   "metadata": {
    "collapsed": false,
    "ExecuteTime": {
     "end_time": "2024-01-24T02:33:26.043610200Z",
     "start_time": "2024-01-24T02:33:26.036665500Z"
    }
   },
   "id": "be40c67d5f8a1366",
   "execution_count": 85
  },
  {
   "cell_type": "code",
   "outputs": [
    {
     "data": {
      "text/plain": "{1, 2, 3, 4, 5, 6, 7, 8}"
     },
     "execution_count": 86,
     "metadata": {},
     "output_type": "execute_result"
    }
   ],
   "source": [
    "a | b"
   ],
   "metadata": {
    "collapsed": false,
    "ExecuteTime": {
     "end_time": "2024-01-24T02:33:36.027708600Z",
     "start_time": "2024-01-24T02:33:36.022132300Z"
    }
   },
   "id": "86cbbcd45269987f",
   "execution_count": 86
  },
  {
   "cell_type": "code",
   "outputs": [
    {
     "data": {
      "text/plain": "{3, 4, 5}"
     },
     "execution_count": 87,
     "metadata": {},
     "output_type": "execute_result"
    }
   ],
   "source": [
    "a.intersection(b)"
   ],
   "metadata": {
    "collapsed": false,
    "ExecuteTime": {
     "end_time": "2024-01-24T02:34:18.054663900Z",
     "start_time": "2024-01-24T02:34:18.047138Z"
    }
   },
   "id": "3090d693e5625c18",
   "execution_count": 87
  },
  {
   "cell_type": "code",
   "outputs": [
    {
     "data": {
      "text/plain": "{3, 4, 5}"
     },
     "execution_count": 88,
     "metadata": {},
     "output_type": "execute_result"
    }
   ],
   "source": [
    "a & b"
   ],
   "metadata": {
    "collapsed": false,
    "ExecuteTime": {
     "end_time": "2024-01-24T02:34:25.178154100Z",
     "start_time": "2024-01-24T02:34:25.170626900Z"
    }
   },
   "id": "b0165ccdb4ddfe4",
   "execution_count": 88
  },
  {
   "cell_type": "code",
   "outputs": [
    {
     "data": {
      "text/plain": "['__and__',\n '__class__',\n '__class_getitem__',\n '__contains__',\n '__delattr__',\n '__dir__',\n '__doc__',\n '__eq__',\n '__format__',\n '__ge__',\n '__getattribute__',\n '__getstate__',\n '__gt__',\n '__hash__',\n '__iand__',\n '__init__',\n '__init_subclass__',\n '__ior__',\n '__isub__',\n '__iter__',\n '__ixor__',\n '__le__',\n '__len__',\n '__lt__',\n '__ne__',\n '__new__',\n '__or__',\n '__rand__',\n '__reduce__',\n '__reduce_ex__',\n '__repr__',\n '__ror__',\n '__rsub__',\n '__rxor__',\n '__setattr__',\n '__sizeof__',\n '__str__',\n '__sub__',\n '__subclasshook__',\n '__xor__',\n 'add',\n 'clear',\n 'copy',\n 'difference',\n 'difference_update',\n 'discard',\n 'intersection',\n 'intersection_update',\n 'isdisjoint',\n 'issubset',\n 'issuperset',\n 'pop',\n 'remove',\n 'symmetric_difference',\n 'symmetric_difference_update',\n 'union',\n 'update']"
     },
     "execution_count": 89,
     "metadata": {},
     "output_type": "execute_result"
    }
   ],
   "source": [
    "dir(set)"
   ],
   "metadata": {
    "collapsed": false,
    "ExecuteTime": {
     "end_time": "2024-01-24T02:37:25.071643700Z",
     "start_time": "2024-01-24T02:37:25.061126100Z"
    }
   },
   "id": "80f66c4bade181d2",
   "execution_count": 89
  },
  {
   "cell_type": "markdown",
   "source": [
    "Todas las operaciones lógicas de conjuntos tiene una contraparte que reemplaza los contenidos en el conjunto izquierdo con el resultado de la operación. Por ejemplo:"
   ],
   "metadata": {
    "collapsed": false
   },
   "id": "ee36be9edf4b020f"
  },
  {
   "cell_type": "code",
   "outputs": [
    {
     "data": {
      "text/plain": "{1, 2, 3, 4, 5, 6, 7, 8}"
     },
     "execution_count": 90,
     "metadata": {},
     "output_type": "execute_result"
    }
   ],
   "source": [
    "c = a.copy()\n",
    "\n",
    "c |= b\n",
    "c"
   ],
   "metadata": {
    "collapsed": false,
    "ExecuteTime": {
     "end_time": "2024-01-24T02:40:27.800580700Z",
     "start_time": "2024-01-24T02:40:27.793155900Z"
    }
   },
   "id": "1053a2de5dae2d04",
   "execution_count": 90
  },
  {
   "cell_type": "code",
   "outputs": [
    {
     "data": {
      "text/plain": "{3, 4, 5}"
     },
     "execution_count": 91,
     "metadata": {},
     "output_type": "execute_result"
    }
   ],
   "source": [
    "d = a.copy()\n",
    "\n",
    "d &= b\n",
    "d"
   ],
   "metadata": {
    "collapsed": false,
    "ExecuteTime": {
     "end_time": "2024-01-24T02:40:46.772910900Z",
     "start_time": "2024-01-24T02:40:46.765893300Z"
    }
   },
   "id": "b3f2bc37290c9d11",
   "execution_count": 91
  },
  {
   "cell_type": "markdown",
   "source": [
    "Como las llaves de diccionario, los elementos del conjunto deben ser inmutables y **hashables**. Para guardar objetos mutables como listas en un conjunto se pueden convertir a tuplas."
   ],
   "metadata": {
    "collapsed": false
   },
   "id": "2bfc3561ed6f04b4"
  },
  {
   "cell_type": "code",
   "outputs": [
    {
     "data": {
      "text/plain": "{(1, 2, 3, 4)}"
     },
     "execution_count": 92,
     "metadata": {},
     "output_type": "execute_result"
    }
   ],
   "source": [
    "data = [1, 2, 3, 4]\n",
    "conjunto = {tuple(data)}\n",
    "conjunto"
   ],
   "metadata": {
    "collapsed": false,
    "ExecuteTime": {
     "end_time": "2024-01-24T02:43:48.520699100Z",
     "start_time": "2024-01-24T02:43:48.510326Z"
    }
   },
   "id": "593c80b387dd9120",
   "execution_count": 92
  },
  {
   "cell_type": "code",
   "outputs": [
    {
     "data": {
      "text/plain": "True"
     },
     "execution_count": 93,
     "metadata": {},
     "output_type": "execute_result"
    }
   ],
   "source": [
    "# se puede verificar si un conjunto es subconjunto de otro\n",
    "\n",
    "a_conjunto = {1, 2, 3, 4, 5}\n",
    "\n",
    "{1, 2, 3}.issubset(a_conjunto)"
   ],
   "metadata": {
    "collapsed": false,
    "ExecuteTime": {
     "end_time": "2024-01-24T02:44:55.670572100Z",
     "start_time": "2024-01-24T02:44:55.661801300Z"
    }
   },
   "id": "a148b7ca003ae537",
   "execution_count": 93
  },
  {
   "cell_type": "code",
   "outputs": [
    {
     "data": {
      "text/plain": "True"
     },
     "execution_count": 94,
     "metadata": {},
     "output_type": "execute_result"
    }
   ],
   "source": [
    "a_conjunto.issuperset({1, 2, 3})"
   ],
   "metadata": {
    "collapsed": false,
    "ExecuteTime": {
     "end_time": "2024-01-24T02:45:23.245019600Z",
     "start_time": "2024-01-24T02:45:23.234435200Z"
    }
   },
   "id": "6c8e864176cd43c",
   "execution_count": 94
  },
  {
   "cell_type": "code",
   "outputs": [
    {
     "data": {
      "text/plain": "True"
     },
     "execution_count": 95,
     "metadata": {},
     "output_type": "execute_result"
    }
   ],
   "source": [
    "{1, 2, 3} == {3, 2, 1}"
   ],
   "metadata": {
    "collapsed": false,
    "ExecuteTime": {
     "end_time": "2024-01-24T02:45:38.417535200Z",
     "start_time": "2024-01-24T02:45:38.408604300Z"
    }
   },
   "id": "5c9701d7ede2d721",
   "execution_count": 95
  },
  {
   "cell_type": "markdown",
   "source": [
    "### Funciones de secuencias incluidas\n",
    "\n",
    "#### Enumeración \n",
    " \n",
    "Cuando se quiere contar el índice de un elemento en una secuencia iterativa, se podría construir así:\n",
    "\n",
    " "
   ],
   "metadata": {
    "collapsed": false
   },
   "id": "85803ad1210e3f46"
  },
  {
   "cell_type": "code",
   "outputs": [],
   "source": [
    "# indice = 0\n",
    "# for valor in coleccion:\n",
    "    # hacer algo con el valor\n",
    "    # indice += 1"
   ],
   "metadata": {
    "collapsed": false
   },
   "id": "6b089ba6ee914b03",
   "execution_count": 125
  },
  {
   "cell_type": "code",
   "outputs": [],
   "source": [
    "# Python tiene una función interna `enumerate` que devuelve una secuencia de tuplas (indice, valor)\n",
    "\n",
    "# for indice, valor in enumerate(coleccion):\n",
    "    # hacer algo con el valor"
   ],
   "metadata": {
    "collapsed": false
   },
   "id": "8dd49d6be882b286"
  },
  {
   "cell_type": "markdown",
   "source": [
    "#### Ordenar\n",
    "\n",
    "La función `sorted` devuelve una nueva lista ordenada \n"
   ],
   "metadata": {
    "collapsed": false
   },
   "id": "fc7b364e9d6adaa6"
  },
  {
   "cell_type": "code",
   "outputs": [
    {
     "data": {
      "text/plain": "[0, 1, 2, 2, 3, 6, 7]"
     },
     "execution_count": 98,
     "metadata": {},
     "output_type": "execute_result"
    }
   ],
   "source": [
    "sorted([7, 1, 2, 6, 0, 3, 2])"
   ],
   "metadata": {
    "collapsed": false,
    "ExecuteTime": {
     "end_time": "2024-01-24T02:50:10.127344100Z",
     "start_time": "2024-01-24T02:50:10.117270Z"
    }
   },
   "id": "ac16632252529d6a",
   "execution_count": 98
  },
  {
   "cell_type": "code",
   "outputs": [
    {
     "data": {
      "text/plain": "[' ', 'M', 'V', 'a', 'a', 'e', 'e', 'g', 'o', 't']"
     },
     "execution_count": 99,
     "metadata": {},
     "output_type": "execute_result"
    }
   ],
   "source": [
    "sorted('Mateo Vega')"
   ],
   "metadata": {
    "collapsed": false,
    "ExecuteTime": {
     "end_time": "2024-01-24T02:50:23.918100900Z",
     "start_time": "2024-01-24T02:50:23.880151400Z"
    }
   },
   "id": "79fe13aecc26ba78",
   "execution_count": 99
  },
  {
   "cell_type": "markdown",
   "source": [
    "#### Zip\n",
    "\n",
    "Zip empareja elementos de un numero de listas, tuplas u otras secuencias para crear una lista de tuplas"
   ],
   "metadata": {
    "collapsed": false
   },
   "id": "647e90e3295fd386"
  },
  {
   "cell_type": "code",
   "outputs": [
    {
     "data": {
      "text/plain": "[('foo', 'one'), ('bar', 'two'), ('baz', 'three')]"
     },
     "execution_count": 100,
     "metadata": {},
     "output_type": "execute_result"
    }
   ],
   "source": [
    "seq1 = ['foo', 'bar', 'baz']\n",
    "seq2 = ['one', 'two', 'three']\n",
    "\n",
    "zipped = zip(seq1, seq2)\n",
    "list(zipped)"
   ],
   "metadata": {
    "collapsed": false,
    "ExecuteTime": {
     "end_time": "2024-01-24T02:51:36.844674900Z",
     "start_time": "2024-01-24T02:51:36.832318600Z"
    }
   },
   "id": "e598860e9a178a5",
   "execution_count": 100
  },
  {
   "cell_type": "code",
   "outputs": [
    {
     "data": {
      "text/plain": "[('foo', 'one', False), ('bar', 'two', True)]"
     },
     "execution_count": 101,
     "metadata": {},
     "output_type": "execute_result"
    }
   ],
   "source": [
    "# zip puede tomar numero arbitrario de secuencias, y el numero de elementos\n",
    "# producidos es determinado por la secuencia mas corta\n",
    "\n",
    "seq3 = [False, True]\n",
    "\n",
    "list(zip(seq1, seq2, seq3))"
   ],
   "metadata": {
    "collapsed": false,
    "ExecuteTime": {
     "end_time": "2024-01-24T02:55:43.980782200Z",
     "start_time": "2024-01-24T02:55:43.967192900Z"
    }
   },
   "id": "41476e262ea1d617",
   "execution_count": 101
  },
  {
   "cell_type": "code",
   "outputs": [
    {
     "name": "stdout",
     "output_type": "stream",
     "text": [
      "0: foo, one\n",
      "1: bar, two\n",
      "2: baz, three\n"
     ]
    }
   ],
   "source": [
    "# un uso común de zip es iterar sobre multiples secuencias \n",
    "\n",
    "for index, (a, b) in enumerate(zip(seq1, seq2)):\n",
    "    print(f'{index}: {a}, {b}')"
   ],
   "metadata": {
    "collapsed": false,
    "ExecuteTime": {
     "end_time": "2024-01-24T02:57:04.013814100Z",
     "start_time": "2024-01-24T02:57:04.001796100Z"
    }
   },
   "id": "b674edf73ed8c35b",
   "execution_count": 102
  },
  {
   "cell_type": "markdown",
   "source": [
    "#### Reversed\n",
    "\n",
    "itera sobre los elementos de una secuencia en orden inverso"
   ],
   "metadata": {
    "collapsed": false
   },
   "id": "a85eacde3caf13bd"
  },
  {
   "cell_type": "code",
   "outputs": [
    {
     "data": {
      "text/plain": "[9, 8, 7, 6, 5, 4, 3, 2, 1, 0]"
     },
     "execution_count": 103,
     "metadata": {},
     "output_type": "execute_result"
    }
   ],
   "source": [
    "list(reversed(range(10)))"
   ],
   "metadata": {
    "collapsed": false,
    "ExecuteTime": {
     "end_time": "2024-01-24T02:58:02.041396900Z",
     "start_time": "2024-01-24T02:58:02.025475900Z"
    }
   },
   "id": "8de5cc6d6e6a161a",
   "execution_count": 103
  },
  {
   "cell_type": "code",
   "outputs": [],
   "source": [],
   "metadata": {
    "collapsed": false
   },
   "id": "8815365af467dc9f"
  },
  {
   "cell_type": "markdown",
   "source": [
    "### Listas, conjuntos y diccionarios comprensión\n",
    "\n",
    "Las comprensiones de listas permiten formar una nueva lista filtrando los elementos de una colección, transformando los elementos pasando el filtro en una expresión concisa tomando las forma:\n",
    "\n",
    "[expr for value in collection if condition]\n",
    "\n",
    "Pro ejemplo con una lista de cadenas podemos filtrar las cadenas con longitúd mayor a 2 y transformarlas a mayúsculas:"
   ],
   "metadata": {
    "collapsed": false
   },
   "id": "72507041009731ee"
  },
  {
   "cell_type": "code",
   "outputs": [
    {
     "data": {
      "text/plain": "['BAT', 'CAR', 'DOVE', 'PYTHON']"
     },
     "execution_count": 104,
     "metadata": {},
     "output_type": "execute_result"
    }
   ],
   "source": [
    "cadenas = ['a', 'as', 'bat', 'car', 'dove', 'python']\n",
    "\n",
    "[x.upper() for x in cadenas if len(x) > 2]"
   ],
   "metadata": {
    "collapsed": false,
    "ExecuteTime": {
     "end_time": "2024-01-24T03:01:34.259580900Z",
     "start_time": "2024-01-24T03:01:34.247615500Z"
    }
   },
   "id": "f42eb6c3f85dccba",
   "execution_count": 104
  },
  {
   "cell_type": "markdown",
   "source": [
    "Una comprension de diccionario  se vería así:\n",
    "\n",
    "dict_comp = {key-expr : value-expr for value in collection if condition}\n",
    "\n",
    "Para un conjunto se vería así:\n",
    "\n",
    "set_comp = {expr for value in collection if condition}"
   ],
   "metadata": {
    "collapsed": false
   },
   "id": "4f50978ba702cc57"
  },
  {
   "cell_type": "markdown",
   "source": [
    "Supongamos que queremos un conjunto que contenga el tamaño de las cadenas"
   ],
   "metadata": {
    "collapsed": false
   },
   "id": "859c8b90033a5008"
  },
  {
   "cell_type": "code",
   "outputs": [
    {
     "data": {
      "text/plain": "{1, 2, 3, 4, 6}"
     },
     "execution_count": 105,
     "metadata": {},
     "output_type": "execute_result"
    }
   ],
   "source": [
    "tamanos = {len(x) for x in cadenas}\n",
    "tamanos"
   ],
   "metadata": {
    "collapsed": false,
    "ExecuteTime": {
     "end_time": "2024-01-24T03:04:33.536959500Z",
     "start_time": "2024-01-24T03:04:33.522857800Z"
    }
   },
   "id": "eab976b84121ddc8",
   "execution_count": 105
  },
  {
   "cell_type": "code",
   "outputs": [
    {
     "data": {
      "text/plain": "{1, 2, 3, 4, 6}"
     },
     "execution_count": 106,
     "metadata": {},
     "output_type": "execute_result"
    }
   ],
   "source": [
    "# Podemos crear un mapa de cadenas a sus ubicaciones en la lista\n",
    "\n",
    "set(map(len, cadenas))"
   ],
   "metadata": {
    "collapsed": false,
    "ExecuteTime": {
     "end_time": "2024-01-24T03:04:55.957697900Z",
     "start_time": "2024-01-24T03:04:55.944640700Z"
    }
   },
   "id": "bbad73d3670b6df5",
   "execution_count": 106
  },
  {
   "cell_type": "code",
   "outputs": [
    {
     "data": {
      "text/plain": "{'a': 0, 'as': 1, 'bat': 2, 'car': 3, 'dove': 4, 'python': 5}"
     },
     "execution_count": 107,
     "metadata": {},
     "output_type": "execute_result"
    }
   ],
   "source": [
    "# Podemos crear un diccionario que mapee una cadena a su ubicación en la lista\n",
    "\n",
    "loc = {valor: index for index, valor in enumerate(cadenas)}\n",
    "loc"
   ],
   "metadata": {
    "collapsed": false,
    "ExecuteTime": {
     "end_time": "2024-01-24T03:06:17.884849900Z",
     "start_time": "2024-01-24T03:06:17.873143700Z"
    }
   },
   "id": "2684c947bea16ac1",
   "execution_count": 107
  },
  {
   "cell_type": "markdown",
   "source": [
    "#### Anidamiento de comprensiones\n",
    "\n",
    "Supongamos que tenemos una lista de listas conteniendo nombres en español e inglés"
   ],
   "metadata": {
    "collapsed": false
   },
   "id": "c97e433a63e8db16"
  },
  {
   "cell_type": "code",
   "outputs": [],
   "source": [
    "data = [['John', 'Emily', 'Michael', 'Mary', 'Steven'],\n",
    "        ['Maria', 'Juan', 'Javier', 'Natalia', 'Pilar']]"
   ],
   "metadata": {
    "collapsed": false,
    "ExecuteTime": {
     "end_time": "2024-01-24T03:08:59.970997100Z",
     "start_time": "2024-01-24T03:08:59.958464100Z"
    }
   },
   "id": "e6c165496ae0cff1",
   "execution_count": 109
  },
  {
   "cell_type": "code",
   "outputs": [
    {
     "data": {
      "text/plain": "['Maria', 'Natalia']"
     },
     "execution_count": 111,
     "metadata": {},
     "output_type": "execute_result"
    }
   ],
   "source": [
    "# queremos un sola lista que contenga todos los nombres con dos o mas 'a' en ellos\n",
    "\n",
    "resultado = [nombre for nombres in data for nombre in nombres\n",
    "             if nombre.count('a') >= 2]\n",
    "resultado"
   ],
   "metadata": {
    "collapsed": false,
    "ExecuteTime": {
     "end_time": "2024-01-24T03:09:05.330538900Z",
     "start_time": "2024-01-24T03:09:05.302998Z"
    }
   },
   "id": "bef346f2128a7067",
   "execution_count": 111
  },
  {
   "cell_type": "code",
   "outputs": [
    {
     "data": {
      "text/plain": "[1, 2, 3, 4, 5, 6, 7, 8, 9]"
     },
     "execution_count": 112,
     "metadata": {},
     "output_type": "execute_result"
    }
   ],
   "source": [
    "tuplas = [(1, 2, 3), (4, 5, 6), (7, 8, 9)]\n",
    "\n",
    "aplastada = [x for tup in tuplas for x in tup]\n",
    "aplastada"
   ],
   "metadata": {
    "collapsed": false,
    "ExecuteTime": {
     "end_time": "2024-01-24T03:11:07.526170200Z",
     "start_time": "2024-01-24T03:11:07.512894600Z"
    }
   },
   "id": "a2435702f0620d11",
   "execution_count": 112
  },
  {
   "cell_type": "code",
   "outputs": [
    {
     "data": {
      "text/plain": "[1, 2, 3, 4, 5, 6, 7, 8, 9]"
     },
     "execution_count": 114,
     "metadata": {},
     "output_type": "execute_result"
    }
   ],
   "source": [
    "# es equivalente a\n",
    "\n",
    "aplastada = []\n",
    "\n",
    "for tup in tuplas:\n",
    "    for x in tup:\n",
    "        aplastada.append(x)\n",
    "\n",
    "aplastada"
   ],
   "metadata": {
    "collapsed": false,
    "ExecuteTime": {
     "end_time": "2024-01-24T03:11:39.463729700Z",
     "start_time": "2024-01-24T03:11:39.450398900Z"
    }
   },
   "id": "93d107db96f529d2",
   "execution_count": 114
  },
  {
   "cell_type": "markdown",
   "source": [
    "### Funciones\n",
    "\n",
    "Las funciones se declaran con la palabra clave `def`"
   ],
   "metadata": {
    "collapsed": false
   },
   "id": "44151eb2a1bdd020"
  },
  {
   "cell_type": "code",
   "outputs": [],
   "source": [
    "def mi_funcion(x, y):\n",
    "    return x + y"
   ],
   "metadata": {
    "collapsed": false,
    "ExecuteTime": {
     "end_time": "2024-01-24T03:13:29.130531600Z",
     "start_time": "2024-01-24T03:13:29.117972200Z"
    }
   },
   "id": "d8922a98eb6e792",
   "execution_count": 115
  },
  {
   "cell_type": "code",
   "outputs": [
    {
     "data": {
      "text/plain": "3"
     },
     "execution_count": 116,
     "metadata": {},
     "output_type": "execute_result"
    }
   ],
   "source": [
    "mi_funcion(1, 2)"
   ],
   "metadata": {
    "collapsed": false,
    "ExecuteTime": {
     "end_time": "2024-01-24T03:13:34.153179300Z",
     "start_time": "2024-01-24T03:13:34.139147900Z"
    }
   },
   "id": "4565fa95e90b9945",
   "execution_count": 116
  },
  {
   "cell_type": "code",
   "outputs": [
    {
     "name": "stdout",
     "output_type": "stream",
     "text": [
      "hola\n",
      "None\n"
     ]
    }
   ],
   "source": [
    "# No hay problema con multiples returns o ninguno. Si no hay ningún return Python devuelve None\n",
    "\n",
    "def funcion_sin_return(x):\n",
    "    print(x)\n",
    "\n",
    "resultado = funcion_sin_return('hola')\n",
    "print(resultado)"
   ],
   "metadata": {
    "collapsed": false,
    "ExecuteTime": {
     "end_time": "2024-01-24T03:15:22.899777700Z",
     "start_time": "2024-01-24T03:15:22.887145Z"
    }
   },
   "id": "b805162418301d02",
   "execution_count": 118
  },
  {
   "cell_type": "code",
   "outputs": [],
   "source": [
    "# cada función puede tener argumentos posicionales y argumentos con nombre\n",
    "\n",
    "def mi_funcion(x, y, z = 1.5):\n",
    "    if z > 1: \n",
    "        return z * (x + y)\n",
    "    else:\n",
    "        return z / (x + y)"
   ],
   "metadata": {
    "collapsed": false,
    "ExecuteTime": {
     "end_time": "2024-01-24T03:17:32.973396300Z",
     "start_time": "2024-01-24T03:17:32.959287800Z"
    }
   },
   "id": "737584b4850f59d1",
   "execution_count": 119
  },
  {
   "cell_type": "code",
   "outputs": [
    {
     "data": {
      "text/plain": "0.06363636363636363"
     },
     "execution_count": 121,
     "metadata": {},
     "output_type": "execute_result"
    }
   ],
   "source": [
    "mi_funcion(5, 6, z = 0.7) # especificando el argumento con nombre"
   ],
   "metadata": {
    "collapsed": false,
    "ExecuteTime": {
     "end_time": "2024-01-24T03:18:21.107706400Z",
     "start_time": "2024-01-24T03:18:21.082270300Z"
    }
   },
   "id": "7474b1a9aa0a6c5c",
   "execution_count": 121
  },
  {
   "cell_type": "code",
   "outputs": [
    {
     "data": {
      "text/plain": "35.49"
     },
     "execution_count": 122,
     "metadata": {},
     "output_type": "execute_result"
    }
   ],
   "source": [
    "mi_funcion(3.14, 7, 3.5) # sin especificar el argumento con nombre"
   ],
   "metadata": {
    "collapsed": false,
    "ExecuteTime": {
     "end_time": "2024-01-24T03:18:24.097847600Z",
     "start_time": "2024-01-24T03:18:24.073489400Z"
    }
   },
   "id": "1a14c7aeb817cefb",
   "execution_count": 122
  },
  {
   "cell_type": "code",
   "outputs": [
    {
     "data": {
      "text/plain": "45.0"
     },
     "execution_count": 123,
     "metadata": {},
     "output_type": "execute_result"
    }
   ],
   "source": [
    "mi_funcion(10, 20) # usando el valor por defecto"
   ],
   "metadata": {
    "collapsed": false,
    "ExecuteTime": {
     "end_time": "2024-01-24T03:18:33.224040700Z",
     "start_time": "2024-01-24T03:18:33.207961Z"
    }
   },
   "id": "a69049aaae30d501",
   "execution_count": 123
  },
  {
   "cell_type": "markdown",
   "source": [
    "La principal restricción de argumentos de las funciones es que el argumento con nombre debe seguir los argumentos posicionales."
   ],
   "metadata": {
    "collapsed": false
   },
   "id": "8c32eae8885f630"
  },
  {
   "cell_type": "markdown",
   "source": [
    "### Namespaces, scope y local functions\n",
    "\n"
   ],
   "metadata": {
    "collapsed": false
   },
   "id": "a62b8ada8c2e383e"
  }
 ],
 "metadata": {
  "kernelspec": {
   "display_name": "Python 3",
   "language": "python",
   "name": "python3"
  },
  "language_info": {
   "codemirror_mode": {
    "name": "ipython",
    "version": 2
   },
   "file_extension": ".py",
   "mimetype": "text/x-python",
   "name": "python",
   "nbconvert_exporter": "python",
   "pygments_lexer": "ipython2",
   "version": "2.7.6"
  }
 },
 "nbformat": 4,
 "nbformat_minor": 5
}
