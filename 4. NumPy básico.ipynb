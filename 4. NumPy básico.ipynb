{
 "cells": [
  {
   "cell_type": "code",
   "outputs": [],
   "source": [
    "import numpy as np\n",
    "import pandas as pd\n",
    "pd.options.display.max_columns = 20\n",
    "pd.options.display.max_rows = 20\n",
    "pd.options.display.max_colwidth = 80\n",
    "np.set_printoptions(precision=4, suppress=True)"
   ],
   "metadata": {
    "collapsed": false,
    "ExecuteTime": {
     "end_time": "2024-01-29T22:40:18.666792100Z",
     "start_time": "2024-01-29T22:40:18.663730200Z"
    }
   },
   "id": "4f630c818bd8d72c",
   "execution_count": 20
  },
  {
   "cell_type": "markdown",
   "source": [
    "## Arreglos y computación vectorizada\n",
    "\n",
    "Numpy permite hacer computación numérica de forma eficiente, evita escribir loops para operaciones numéricas, algebra lineal, algorítmos como ordenar, únicos y operaciones de conjuntos, estadísticas descriptivas eficientes, manipulación de datos relacional, entre otros."
   ],
   "metadata": {
    "collapsed": false
   },
   "id": "fb297a87c8473af2"
  },
  {
   "cell_type": "code",
   "execution_count": 2,
   "id": "initial_id",
   "metadata": {
    "collapsed": true,
    "ExecuteTime": {
     "end_time": "2024-01-29T22:25:38.576158800Z",
     "start_time": "2024-01-29T22:25:31.539942900Z"
    }
   },
   "outputs": [
    {
     "name": "stdout",
     "output_type": "stream",
     "text": [
      "795 µs ± 29.8 µs per loop (mean ± std. dev. of 7 runs, 1,000 loops each)\n"
     ]
    }
   ],
   "source": [
    "import numpy as np\n",
    "\n",
    "arr = np.arange(1_000_000)\n",
    "lista = list(range(1_000_000))\n",
    "\n",
    "%timeit arr2 = arr * 2"
   ]
  },
  {
   "cell_type": "code",
   "outputs": [
    {
     "name": "stdout",
     "output_type": "stream",
     "text": [
      "46.8 ms ± 628 µs per loop (mean ± std. dev. of 7 runs, 10 loops each)\n"
     ]
    }
   ],
   "source": [
    "%timeit lista2 = [x * 2 for x in lista]"
   ],
   "metadata": {
    "collapsed": false,
    "ExecuteTime": {
     "end_time": "2024-01-29T22:26:12.579553500Z",
     "start_time": "2024-01-29T22:26:08.764599900Z"
    }
   },
   "id": "fcb857ba68c5fa9d",
   "execution_count": 4
  },
  {
   "cell_type": "markdown",
   "source": [
    "## Un objeto de arreglo multidimensional\n",
    "\n",
    "Una de las principales características es el objeto arreglo N-dimensional, un contenedor rápido y flexible para conjuntos de datos grandes en Python. Los arreglos permiten hacer operaciones matemáticas en bloques completos usando una sintaxis similar a las operaciones entre escalares."
   ],
   "metadata": {
    "collapsed": false
   },
   "id": "df9ed3c411ce6761"
  },
  {
   "cell_type": "code",
   "outputs": [
    {
     "data": {
      "text/plain": "array([[ 1.5, -0.1,  3. ],\n       [ 0. , -3. ,  6.5]])"
     },
     "execution_count": 5,
     "metadata": {},
     "output_type": "execute_result"
    }
   ],
   "source": [
    "data = np.array([[1.5, -0.1, 3], [0, -3, 6.5]])\n",
    "data"
   ],
   "metadata": {
    "collapsed": false,
    "ExecuteTime": {
     "end_time": "2024-01-29T22:28:59.460166400Z",
     "start_time": "2024-01-29T22:28:59.451849600Z"
    }
   },
   "id": "e736ca44c1cabcc3",
   "execution_count": 5
  },
  {
   "cell_type": "code",
   "outputs": [
    {
     "data": {
      "text/plain": "array([[ 15.,  -1.,  30.],\n       [  0., -30.,  65.]])"
     },
     "execution_count": 6,
     "metadata": {},
     "output_type": "execute_result"
    }
   ],
   "source": [
    "data * 10"
   ],
   "metadata": {
    "collapsed": false,
    "ExecuteTime": {
     "end_time": "2024-01-29T22:29:11.574953500Z",
     "start_time": "2024-01-29T22:29:11.567163900Z"
    }
   },
   "id": "daba49107ec96e98",
   "execution_count": 6
  },
  {
   "cell_type": "code",
   "outputs": [
    {
     "data": {
      "text/plain": "array([[ 3. , -0.2,  6. ],\n       [ 0. , -6. , 13. ]])"
     },
     "execution_count": 7,
     "metadata": {},
     "output_type": "execute_result"
    }
   ],
   "source": [
    "data + data"
   ],
   "metadata": {
    "collapsed": false,
    "ExecuteTime": {
     "end_time": "2024-01-29T22:29:21.470611600Z",
     "start_time": "2024-01-29T22:29:21.467465300Z"
    }
   },
   "id": "a611b1332e301cc9",
   "execution_count": 7
  },
  {
   "cell_type": "markdown",
   "source": [
    "Un **ndarray** es un contenedor multidimensional para datos homogéneos. Todo arreglo debe tener forma, una tupla indicando el tamaño de la dimensión; y un **dtype** describiendo el tipo de datos del arreglo."
   ],
   "metadata": {
    "collapsed": false
   },
   "id": "a5032bac5019c31"
  },
  {
   "cell_type": "code",
   "outputs": [
    {
     "data": {
      "text/plain": "(2, 3)"
     },
     "execution_count": 8,
     "metadata": {},
     "output_type": "execute_result"
    }
   ],
   "source": [
    "data.shape"
   ],
   "metadata": {
    "collapsed": false,
    "ExecuteTime": {
     "end_time": "2024-01-29T22:31:30.111813500Z",
     "start_time": "2024-01-29T22:31:30.103308200Z"
    }
   },
   "id": "de79aee45ed951d1",
   "execution_count": 8
  },
  {
   "cell_type": "code",
   "outputs": [
    {
     "data": {
      "text/plain": "dtype('float64')"
     },
     "execution_count": 9,
     "metadata": {},
     "output_type": "execute_result"
    }
   ],
   "source": [
    "data.dtype"
   ],
   "metadata": {
    "collapsed": false,
    "ExecuteTime": {
     "end_time": "2024-01-29T22:31:38.040380400Z",
     "start_time": "2024-01-29T22:31:38.037333Z"
    }
   },
   "id": "afd26b35a6696124",
   "execution_count": 9
  },
  {
   "cell_type": "markdown",
   "source": [
    "### Creando ndarrays\n",
    "\n",
    "La forma más fácil es usar la función `array`. Acepta cualquier objeto de tipo secuencia y produce un array de numpy"
   ],
   "metadata": {
    "collapsed": false
   },
   "id": "3a3bfbac6458286e"
  },
  {
   "cell_type": "code",
   "outputs": [
    {
     "data": {
      "text/plain": "array([6. , 7.5, 8. , 0. , 1. ])"
     },
     "execution_count": 10,
     "metadata": {},
     "output_type": "execute_result"
    }
   ],
   "source": [
    "data1 = [6, 7.5, 8, 0, 1]\n",
    "\n",
    "arr1 = np.array(data1)\n",
    "arr1"
   ],
   "metadata": {
    "collapsed": false,
    "ExecuteTime": {
     "end_time": "2024-01-29T22:33:33.711925900Z",
     "start_time": "2024-01-29T22:33:33.706530400Z"
    }
   },
   "id": "50e77403e4966fdf",
   "execution_count": 10
  },
  {
   "cell_type": "code",
   "outputs": [
    {
     "data": {
      "text/plain": "array([[1, 2, 3, 4],\n       [5, 6, 7, 8]])"
     },
     "execution_count": 11,
     "metadata": {},
     "output_type": "execute_result"
    }
   ],
   "source": [
    "# las secuencias anidadas se convierten en arrays multidimensionales\n",
    "\n",
    "data2 = [[1, 2, 3, 4], [5, 6, 7, 8]]\n",
    "\n",
    "arr2 = np.array(data2)\n",
    "arr2"
   ],
   "metadata": {
    "collapsed": false,
    "ExecuteTime": {
     "end_time": "2024-01-29T22:34:53.433164200Z",
     "start_time": "2024-01-29T22:34:53.427032Z"
    }
   },
   "id": "942bfe8a21f7393c",
   "execution_count": 11
  },
  {
   "cell_type": "code",
   "outputs": [
    {
     "data": {
      "text/plain": "2"
     },
     "execution_count": 12,
     "metadata": {},
     "output_type": "execute_result"
    }
   ],
   "source": [
    "# tiene dos dimensiones\n",
    "\n",
    "arr2.ndim"
   ],
   "metadata": {
    "collapsed": false,
    "ExecuteTime": {
     "end_time": "2024-01-29T22:35:25.146519600Z",
     "start_time": "2024-01-29T22:35:25.143481Z"
    }
   },
   "id": "4bc274a88b3c3f3d",
   "execution_count": 12
  },
  {
   "cell_type": "code",
   "outputs": [
    {
     "data": {
      "text/plain": "(2, 4)"
     },
     "execution_count": 13,
     "metadata": {},
     "output_type": "execute_result"
    }
   ],
   "source": [
    "arr2.shape"
   ],
   "metadata": {
    "collapsed": false,
    "ExecuteTime": {
     "end_time": "2024-01-29T22:35:29.718693100Z",
     "start_time": "2024-01-29T22:35:29.715807400Z"
    }
   },
   "id": "168813c348590ee4",
   "execution_count": 13
  },
  {
   "cell_type": "code",
   "outputs": [
    {
     "data": {
      "text/plain": "dtype('float64')"
     },
     "execution_count": 14,
     "metadata": {},
     "output_type": "execute_result"
    }
   ],
   "source": [
    "# el tipo de datos es almacenado en un objeto de metadatos \n",
    "\n",
    "arr1.dtype"
   ],
   "metadata": {
    "collapsed": false,
    "ExecuteTime": {
     "end_time": "2024-01-29T22:36:27.235385900Z",
     "start_time": "2024-01-29T22:36:27.231977400Z"
    }
   },
   "id": "9f6de14a5f6e38b3",
   "execution_count": 14
  },
  {
   "cell_type": "code",
   "outputs": [
    {
     "data": {
      "text/plain": "dtype('int32')"
     },
     "execution_count": 15,
     "metadata": {},
     "output_type": "execute_result"
    }
   ],
   "source": [
    "arr2.dtype"
   ],
   "metadata": {
    "collapsed": false,
    "ExecuteTime": {
     "end_time": "2024-01-29T22:36:32.111962100Z",
     "start_time": "2024-01-29T22:36:32.109032100Z"
    }
   },
   "id": "937864a212cda86",
   "execution_count": 15
  },
  {
   "cell_type": "markdown",
   "source": [
    "Hay más opciones para crear un arreglo, por ejemplo `numpy.zeros`, `numpy.ones` crean un arreglo de 0's y 1's con un valor dado de longitúd o forma. `numpy.empty` crea un arreglo sin inicializar sus valores a algún valor en particular."
   ],
   "metadata": {
    "collapsed": false
   },
   "id": "1fed1f8acfb15688"
  },
  {
   "cell_type": "code",
   "outputs": [
    {
     "data": {
      "text/plain": "array([0., 0., 0., 0., 0., 0., 0., 0., 0., 0.])"
     },
     "execution_count": 16,
     "metadata": {},
     "output_type": "execute_result"
    }
   ],
   "source": [
    "np.zeros(10)"
   ],
   "metadata": {
    "collapsed": false,
    "ExecuteTime": {
     "end_time": "2024-01-29T22:38:05.599661200Z",
     "start_time": "2024-01-29T22:38:05.593550100Z"
    }
   },
   "id": "a81ed64eca78aae7",
   "execution_count": 16
  },
  {
   "cell_type": "code",
   "outputs": [
    {
     "data": {
      "text/plain": "array([[0., 0., 0., 0., 0., 0.],\n       [0., 0., 0., 0., 0., 0.],\n       [0., 0., 0., 0., 0., 0.]])"
     },
     "execution_count": 17,
     "metadata": {},
     "output_type": "execute_result"
    }
   ],
   "source": [
    "np.zeros((3, 6))"
   ],
   "metadata": {
    "collapsed": false,
    "ExecuteTime": {
     "end_time": "2024-01-29T22:38:17.096589500Z",
     "start_time": "2024-01-29T22:38:17.093282200Z"
    }
   },
   "id": "188b575e80f7dad8",
   "execution_count": 17
  },
  {
   "cell_type": "code",
   "outputs": [
    {
     "data": {
      "text/plain": "array([[[1.2662e-311, 3.1620e-322],\n        [0.0000e+000, 0.0000e+000],\n        [6.3660e-314, 2.5258e-052]],\n\n       [[7.6023e-042, 2.6204e+180],\n        [2.7427e-057, 1.6865e-051],\n        [3.3464e-061, 9.9657e-043]]])"
     },
     "execution_count": 22,
     "metadata": {},
     "output_type": "execute_result"
    }
   ],
   "source": [
    "np.empty((2, 3, 2))\n",
    "\n",
    "# estos son valores basura cercanos a cero, no son cero"
   ],
   "metadata": {
    "collapsed": false,
    "ExecuteTime": {
     "end_time": "2024-01-29T22:40:27.438350800Z",
     "start_time": "2024-01-29T22:40:27.435146Z"
    }
   },
   "id": "9953ba880a16d98a",
   "execution_count": 22
  },
  {
   "cell_type": "code",
   "outputs": [
    {
     "data": {
      "text/plain": "array([ 0,  1,  2,  3,  4,  5,  6,  7,  8,  9, 10, 11, 12, 13, 14])"
     },
     "execution_count": 21,
     "metadata": {},
     "output_type": "execute_result"
    }
   ],
   "source": [
    "# np.arange es una versión de arreglo de la función range\n",
    "\n",
    "np.arange(15)"
   ],
   "metadata": {
    "collapsed": false,
    "ExecuteTime": {
     "end_time": "2024-01-29T22:40:22.479577300Z",
     "start_time": "2024-01-29T22:40:22.475168Z"
    }
   },
   "id": "43410879ccee7903",
   "execution_count": 21
  },
  {
   "cell_type": "markdown",
   "source": [
    "Hay otras funciones como `array`, `asarray`, `arange`, `ones`, `ones_like`, `zeros`, `zeros_like`, `empty`, `empty_like`, `full`, `full_like`, `eye`, `identity`"
   ],
   "metadata": {
    "collapsed": false
   },
   "id": "711e1ae69b1425b1"
  },
  {
   "cell_type": "markdown",
   "source": [
    "### Tipos de datos para ndarrays\n",
    "\n",
    "Se puede especificar el tipo de dato"
   ],
   "metadata": {
    "collapsed": false
   },
   "id": "288152c36a74bf50"
  },
  {
   "cell_type": "code",
   "outputs": [
    {
     "data": {
      "text/plain": "dtype('float64')"
     },
     "execution_count": 23,
     "metadata": {},
     "output_type": "execute_result"
    }
   ],
   "source": [
    "arr1 = np.array([1, 2, 3], dtype = np.float64)\n",
    "arr2 = np.array([1, 2, 3], dtype = np.float32)\n",
    "\n",
    "arr1.dtype"
   ],
   "metadata": {
    "collapsed": false,
    "ExecuteTime": {
     "end_time": "2024-01-29T22:44:47.339236600Z",
     "start_time": "2024-01-29T22:44:47.332754Z"
    }
   },
   "id": "327f5c6a59d683b9",
   "execution_count": 23
  },
  {
   "cell_type": "code",
   "outputs": [
    {
     "data": {
      "text/plain": "dtype('float32')"
     },
     "execution_count": 24,
     "metadata": {},
     "output_type": "execute_result"
    }
   ],
   "source": [
    "arr2.dtype"
   ],
   "metadata": {
    "collapsed": false,
    "ExecuteTime": {
     "end_time": "2024-01-29T22:44:52.897404700Z",
     "start_time": "2024-01-29T22:44:52.893913Z"
    }
   },
   "id": "e62aa66ee72933dc",
   "execution_count": 24
  },
  {
   "cell_type": "code",
   "outputs": [
    {
     "data": {
      "text/plain": "dtype('int32')"
     },
     "execution_count": 25,
     "metadata": {},
     "output_type": "execute_result"
    }
   ],
   "source": [
    "# se puede convertir explícitamente una arreglo de un tipo de dato a otro\n",
    "\n",
    "arr = np.array([1, 2, 3, 4, 5])\n",
    "arr.dtype"
   ],
   "metadata": {
    "collapsed": false,
    "ExecuteTime": {
     "end_time": "2024-01-29T22:47:25.842655700Z",
     "start_time": "2024-01-29T22:47:25.838780900Z"
    }
   },
   "id": "188a1d4718ebc59f",
   "execution_count": 25
  },
  {
   "cell_type": "code",
   "outputs": [
    {
     "data": {
      "text/plain": "array([1., 2., 3., 4., 5.])"
     },
     "execution_count": 26,
     "metadata": {},
     "output_type": "execute_result"
    }
   ],
   "source": [
    "float_arr = arr.astype(np.float64)\n",
    "float_arr"
   ],
   "metadata": {
    "collapsed": false,
    "ExecuteTime": {
     "end_time": "2024-01-29T22:47:46.737802Z",
     "start_time": "2024-01-29T22:47:46.734240600Z"
    }
   },
   "id": "505dcc71b712df8b",
   "execution_count": 26
  },
  {
   "cell_type": "code",
   "outputs": [
    {
     "data": {
      "text/plain": "dtype('float64')"
     },
     "execution_count": 28,
     "metadata": {},
     "output_type": "execute_result"
    }
   ],
   "source": [
    "float_arr.dtype\n",
    "\n",
    "# se transformaron los enteros a floats"
   ],
   "metadata": {
    "collapsed": false,
    "ExecuteTime": {
     "end_time": "2024-01-29T22:48:23.178296900Z",
     "start_time": "2024-01-29T22:48:23.173796100Z"
    }
   },
   "id": "7c946f07ac32c18a",
   "execution_count": 28
  },
  {
   "cell_type": "code",
   "outputs": [
    {
     "data": {
      "text/plain": "array([ 3.7, -1.2, -2.6,  0.5, 12.9, 10.1])"
     },
     "execution_count": 29,
     "metadata": {},
     "output_type": "execute_result"
    }
   ],
   "source": [
    "# si transformo decimales a enteros los decimales se borran\n",
    "\n",
    "arr = np.array([3.7, -1.2, -2.6, 0.5, 12.9, 10.1])\n",
    "arr"
   ],
   "metadata": {
    "collapsed": false,
    "ExecuteTime": {
     "end_time": "2024-01-29T22:49:17.260017700Z",
     "start_time": "2024-01-29T22:49:17.256488900Z"
    }
   },
   "id": "92b6a7e6aece9853",
   "execution_count": 29
  },
  {
   "cell_type": "code",
   "outputs": [
    {
     "data": {
      "text/plain": "array([ 3, -1, -2,  0, 12, 10])"
     },
     "execution_count": 30,
     "metadata": {},
     "output_type": "execute_result"
    }
   ],
   "source": [
    "arr.astype(np.int32)"
   ],
   "metadata": {
    "collapsed": false,
    "ExecuteTime": {
     "end_time": "2024-01-29T22:49:33.105283600Z",
     "start_time": "2024-01-29T22:49:33.100782900Z"
    }
   },
   "id": "4ff346d6158ea9ba",
   "execution_count": 30
  },
  {
   "cell_type": "code",
   "outputs": [
    {
     "data": {
      "text/plain": "array([ 1.25, -9.6 , 42.  ])"
     },
     "execution_count": 31,
     "metadata": {},
     "output_type": "execute_result"
    }
   ],
   "source": [
    "# si se tienen cadenas con números se pueden convertir a números\n",
    "\n",
    "cadenas_num = np.array(['1.25', '-9.6', '42'], dtype = np.string_)\n",
    "cadenas_num.astype(float)"
   ],
   "metadata": {
    "collapsed": false,
    "ExecuteTime": {
     "end_time": "2024-01-29T22:51:07.919568200Z",
     "start_time": "2024-01-29T22:51:07.915173400Z"
    }
   },
   "id": "885fd0fb1b29e072",
   "execution_count": 31
  },
  {
   "cell_type": "markdown",
   "source": [
    "### Aritmética con arreglos Numpy\n",
    "\n",
    "Los arreglos son importantes porque permiten expresar operaciones en datos sin escribir loops, esto se llama **vectorización**"
   ],
   "metadata": {
    "collapsed": false
   },
   "id": "4f3ddcae1599894d"
  },
  {
   "cell_type": "code",
   "outputs": [
    {
     "data": {
      "text/plain": "array([[1., 2., 3.],\n       [4., 5., 6.]])"
     },
     "execution_count": 33,
     "metadata": {},
     "output_type": "execute_result"
    }
   ],
   "source": [
    "arr = np.array([[1., 2., 3.],\n",
    "               [4., 5., 6.]])\n",
    "arr"
   ],
   "metadata": {
    "collapsed": false,
    "ExecuteTime": {
     "end_time": "2024-01-29T22:57:28.531832700Z",
     "start_time": "2024-01-29T22:57:28.527765700Z"
    }
   },
   "id": "22dc1e7ef1e06b21",
   "execution_count": 33
  },
  {
   "cell_type": "code",
   "outputs": [
    {
     "data": {
      "text/plain": "array([[ 1.,  4.,  9.],\n       [16., 25., 36.]])"
     },
     "execution_count": 34,
     "metadata": {},
     "output_type": "execute_result"
    }
   ],
   "source": [
    "arr * arr"
   ],
   "metadata": {
    "collapsed": false,
    "ExecuteTime": {
     "end_time": "2024-01-29T22:57:35.935454700Z",
     "start_time": "2024-01-29T22:57:35.927423700Z"
    }
   },
   "id": "73f9fdfee55de78b",
   "execution_count": 34
  },
  {
   "cell_type": "code",
   "outputs": [
    {
     "data": {
      "text/plain": "array([[0., 0., 0.],\n       [0., 0., 0.]])"
     },
     "execution_count": 35,
     "metadata": {},
     "output_type": "execute_result"
    }
   ],
   "source": [
    "arr - arr"
   ],
   "metadata": {
    "collapsed": false,
    "ExecuteTime": {
     "end_time": "2024-01-29T22:57:47.192736600Z",
     "start_time": "2024-01-29T22:57:47.188423300Z"
    }
   },
   "id": "e3e4ae791dbafe3f",
   "execution_count": 35
  },
  {
   "cell_type": "code",
   "outputs": [
    {
     "data": {
      "text/plain": "array([[1.    , 0.5   , 0.3333],\n       [0.25  , 0.2   , 0.1667]])"
     },
     "execution_count": 36,
     "metadata": {},
     "output_type": "execute_result"
    }
   ],
   "source": [
    "1 / arr"
   ],
   "metadata": {
    "collapsed": false,
    "ExecuteTime": {
     "end_time": "2024-01-29T22:58:01.734296900Z",
     "start_time": "2024-01-29T22:58:01.730494800Z"
    }
   },
   "id": "900678f27bc27666",
   "execution_count": 36
  },
  {
   "cell_type": "code",
   "outputs": [
    {
     "data": {
      "text/plain": "array([[ 1.,  4.,  9.],\n       [16., 25., 36.]])"
     },
     "execution_count": 37,
     "metadata": {},
     "output_type": "execute_result"
    }
   ],
   "source": [
    "arr ** 2"
   ],
   "metadata": {
    "collapsed": false,
    "ExecuteTime": {
     "end_time": "2024-01-29T22:58:09.213407100Z",
     "start_time": "2024-01-29T22:58:09.208104500Z"
    }
   },
   "id": "cacc46bbe707e3fa",
   "execution_count": 37
  },
  {
   "cell_type": "code",
   "outputs": [
    {
     "data": {
      "text/plain": "array([[ 0.,  4.,  1.],\n       [ 7.,  2., 12.]])"
     },
     "execution_count": 38,
     "metadata": {},
     "output_type": "execute_result"
    }
   ],
   "source": [
    "# se pueden hacer comparaciones entre arreglos\n",
    "\n",
    "arr2 = np.array([[0., 4., 1.], [7., 2., 12.]])\n",
    "arr2"
   ],
   "metadata": {
    "collapsed": false,
    "ExecuteTime": {
     "end_time": "2024-01-29T22:58:51.185556200Z",
     "start_time": "2024-01-29T22:58:51.181976500Z"
    }
   },
   "id": "63cfe46cecf14f8",
   "execution_count": 38
  },
  {
   "cell_type": "code",
   "outputs": [
    {
     "data": {
      "text/plain": "array([[ True, False,  True],\n       [False,  True, False]])"
     },
     "execution_count": 39,
     "metadata": {},
     "output_type": "execute_result"
    }
   ],
   "source": [
    "arr > arr2"
   ],
   "metadata": {
    "collapsed": false,
    "ExecuteTime": {
     "end_time": "2024-01-29T22:58:59.469672800Z",
     "start_time": "2024-01-29T22:58:59.427759300Z"
    }
   },
   "id": "861567feed853a2a",
   "execution_count": 39
  },
  {
   "cell_type": "markdown",
   "source": [
    "Evaluar operaciones entre arreglos de diferentes tamaños se llama **broadcasting**.\n",
    "\n",
    "### Indices básicos y deslizamiento\n",
    "\n",
    "Los arreglos de una dimensión son similares a una lista"
   ],
   "metadata": {
    "collapsed": false
   },
   "id": "1726e042ad186241"
  },
  {
   "cell_type": "code",
   "outputs": [
    {
     "data": {
      "text/plain": "array([0, 1, 2, 3, 4, 5, 6, 7, 8, 9])"
     },
     "execution_count": 40,
     "metadata": {},
     "output_type": "execute_result"
    }
   ],
   "source": [
    "arr = np.arange(10)\n",
    "\n",
    "arr"
   ],
   "metadata": {
    "collapsed": false,
    "ExecuteTime": {
     "end_time": "2024-01-30T00:32:49.285413200Z",
     "start_time": "2024-01-30T00:32:49.279092900Z"
    }
   },
   "id": "57f9edf503f2f907",
   "execution_count": 40
  },
  {
   "cell_type": "code",
   "outputs": [
    {
     "data": {
      "text/plain": "5"
     },
     "execution_count": 41,
     "metadata": {},
     "output_type": "execute_result"
    }
   ],
   "source": [
    "arr[5]"
   ],
   "metadata": {
    "collapsed": false,
    "ExecuteTime": {
     "end_time": "2024-01-30T00:32:56.445075700Z",
     "start_time": "2024-01-30T00:32:56.437331200Z"
    }
   },
   "id": "169b8a35f6e62d9f",
   "execution_count": 41
  },
  {
   "cell_type": "code",
   "outputs": [
    {
     "data": {
      "text/plain": "array([5, 6, 7])"
     },
     "execution_count": 42,
     "metadata": {},
     "output_type": "execute_result"
    }
   ],
   "source": [
    "arr[5:8]"
   ],
   "metadata": {
    "collapsed": false,
    "ExecuteTime": {
     "end_time": "2024-01-30T00:33:14.852827400Z",
     "start_time": "2024-01-30T00:33:14.847404400Z"
    }
   },
   "id": "dd2bcaabfc189f47",
   "execution_count": 42
  },
  {
   "cell_type": "code",
   "outputs": [
    {
     "data": {
      "text/plain": "array([ 0,  1,  2,  3,  4, 12, 12, 12,  8,  9])"
     },
     "execution_count": 45,
     "metadata": {},
     "output_type": "execute_result"
    }
   ],
   "source": [
    "arr[5:8] = 12\n",
    "arr\n",
    "\n",
    "# cualquier deslizamiento es una vista del arreglo original, los datos no son copiados\n",
    "# cualquier modificación a la vista se verá reflejada en el arreglo de origen"
   ],
   "metadata": {
    "collapsed": false,
    "ExecuteTime": {
     "end_time": "2024-01-30T00:36:39.595900400Z",
     "start_time": "2024-01-30T00:36:39.587203400Z"
    }
   },
   "id": "7f5f50b0b197d998",
   "execution_count": 45
  },
  {
   "cell_type": "code",
   "outputs": [
    {
     "data": {
      "text/plain": "array([12, 12, 12])"
     },
     "execution_count": 46,
     "metadata": {},
     "output_type": "execute_result"
    }
   ],
   "source": [
    "arr_desliz = arr[5:8]\n",
    "arr_desliz"
   ],
   "metadata": {
    "collapsed": false,
    "ExecuteTime": {
     "end_time": "2024-01-30T00:37:00.082196800Z",
     "start_time": "2024-01-30T00:37:00.075786300Z"
    }
   },
   "id": "3027b0a05b884823",
   "execution_count": 46
  },
  {
   "cell_type": "code",
   "outputs": [
    {
     "data": {
      "text/plain": "array([    0,     1,     2,     3,     4,    12, 12345,    12,     8,\n           9])"
     },
     "execution_count": 47,
     "metadata": {},
     "output_type": "execute_result"
    }
   ],
   "source": [
    "arr_desliz[1] = 12345\n",
    "arr"
   ],
   "metadata": {
    "collapsed": false,
    "ExecuteTime": {
     "end_time": "2024-01-30T00:37:15.002826100Z",
     "start_time": "2024-01-30T00:37:14.997210300Z"
    }
   },
   "id": "29abfd94586cfa78",
   "execution_count": 47
  },
  {
   "cell_type": "code",
   "outputs": [
    {
     "data": {
      "text/plain": "array([ 0,  1,  2,  3,  4, 64, 64, 64,  8,  9])"
     },
     "execution_count": 48,
     "metadata": {},
     "output_type": "execute_result"
    }
   ],
   "source": [
    "# [:] selecciona todos los valores\n",
    "\n",
    "arr_desliz[:] = 64\n",
    "arr"
   ],
   "metadata": {
    "collapsed": false,
    "ExecuteTime": {
     "end_time": "2024-01-30T00:38:23.929253600Z",
     "start_time": "2024-01-30T00:38:23.922801600Z"
    }
   },
   "id": "6ac5bcad64629b29",
   "execution_count": 48
  },
  {
   "cell_type": "code",
   "outputs": [
    {
     "data": {
      "text/plain": "array([0, 1, 2, 3, 4, 5, 6, 7, 8, 9])"
     },
     "execution_count": 43,
     "metadata": {},
     "output_type": "execute_result"
    }
   ],
   "source": [
    "arr"
   ],
   "metadata": {
    "collapsed": false,
    "ExecuteTime": {
     "end_time": "2024-01-30T00:34:43.224543Z",
     "start_time": "2024-01-30T00:34:43.220363700Z"
    }
   },
   "id": "c074c7f4cda51d11",
   "execution_count": 43
  },
  {
   "cell_type": "markdown",
   "source": [
    "Con más de una dimensión se tiene más opciones. Los elementos de cada índice ya no son escalares, son arreglos de una dimensión "
   ],
   "metadata": {
    "collapsed": false
   },
   "id": "8f948808058f09ae"
  },
  {
   "cell_type": "code",
   "outputs": [
    {
     "data": {
      "text/plain": "array([7, 8, 9])"
     },
     "execution_count": 49,
     "metadata": {},
     "output_type": "execute_result"
    }
   ],
   "source": [
    "arr2d = np.array([[1, 2, 3], [4, 5, 6], [7, 8, 9]])\n",
    "arr2d[2]"
   ],
   "metadata": {
    "collapsed": false,
    "ExecuteTime": {
     "end_time": "2024-01-30T00:41:53.836040800Z",
     "start_time": "2024-01-30T00:41:53.830502700Z"
    }
   },
   "id": "d236c28022783545",
   "execution_count": 49
  },
  {
   "cell_type": "code",
   "outputs": [
    {
     "data": {
      "text/plain": "3"
     },
     "execution_count": 50,
     "metadata": {},
     "output_type": "execute_result"
    }
   ],
   "source": [
    "# se puede seleccionar los elementos con comas\n",
    "\n",
    "arr2d[0, 2]"
   ],
   "metadata": {
    "collapsed": false,
    "ExecuteTime": {
     "end_time": "2024-01-30T00:42:54.655835500Z",
     "start_time": "2024-01-30T00:42:54.650573200Z"
    }
   },
   "id": "dfc9569e8e2946b2",
   "execution_count": 50
  },
  {
   "cell_type": "code",
   "outputs": [
    {
     "data": {
      "text/plain": "array([[[ 1,  2,  3],\n        [ 4,  5,  6]],\n\n       [[ 7,  8,  9],\n        [10, 11, 12]]])"
     },
     "execution_count": 51,
     "metadata": {},
     "output_type": "execute_result"
    }
   ],
   "source": [
    "arr3d = np.array([[[1, 2, 3], [4, 5, 6]], [[7, 8, 9], [10, 11, 12]]])\n",
    "\n",
    "arr3d"
   ],
   "metadata": {
    "collapsed": false,
    "ExecuteTime": {
     "end_time": "2024-01-30T00:43:38.660117300Z",
     "start_time": "2024-01-30T00:43:38.653785400Z"
    }
   },
   "id": "9aa806a689204b77",
   "execution_count": 51
  },
  {
   "cell_type": "code",
   "outputs": [
    {
     "data": {
      "text/plain": "array([[1, 2, 3],\n       [4, 5, 6]])"
     },
     "execution_count": 52,
     "metadata": {},
     "output_type": "execute_result"
    }
   ],
   "source": [
    "arr3d[0]"
   ],
   "metadata": {
    "collapsed": false,
    "ExecuteTime": {
     "end_time": "2024-01-30T00:43:51.482148300Z",
     "start_time": "2024-01-30T00:43:51.476681Z"
    }
   },
   "id": "f618adee64a199be",
   "execution_count": 52
  },
  {
   "cell_type": "code",
   "outputs": [
    {
     "data": {
      "text/plain": "array([[[42, 42, 42],\n        [42, 42, 42]],\n\n       [[ 7,  8,  9],\n        [10, 11, 12]]])"
     },
     "execution_count": 53,
     "metadata": {},
     "output_type": "execute_result"
    }
   ],
   "source": [
    "# escalares y arreglos se pueden asignar a arr3d[0]\n",
    "\n",
    "valores_viejos = arr3d[0].copy()\n",
    "\n",
    "arr3d[0] = 42\n",
    "arr3d"
   ],
   "metadata": {
    "collapsed": false,
    "ExecuteTime": {
     "end_time": "2024-01-30T01:02:40.191458200Z",
     "start_time": "2024-01-30T01:02:40.185261800Z"
    }
   },
   "id": "2c860e2b07fa7a4c",
   "execution_count": 53
  },
  {
   "cell_type": "code",
   "outputs": [
    {
     "data": {
      "text/plain": "array([[[ 1,  2,  3],\n        [ 4,  5,  6]],\n\n       [[ 7,  8,  9],\n        [10, 11, 12]]])"
     },
     "execution_count": 54,
     "metadata": {},
     "output_type": "execute_result"
    }
   ],
   "source": [
    "arr3d[0] = valores_viejos\n",
    "arr3d"
   ],
   "metadata": {
    "collapsed": false,
    "ExecuteTime": {
     "end_time": "2024-01-30T01:02:54.866576800Z",
     "start_time": "2024-01-30T01:02:54.861195300Z"
    }
   },
   "id": "5aa556248140b227",
   "execution_count": 54
  },
  {
   "cell_type": "code",
   "outputs": [
    {
     "data": {
      "text/plain": "array([7, 8, 9])"
     },
     "execution_count": 56,
     "metadata": {},
     "output_type": "execute_result"
    }
   ],
   "source": [
    "# arr3d[1, 0] da los valores los cuales lo indices empiezan con (1, 0)\n",
    "\n",
    "arr3d[1, 0]"
   ],
   "metadata": {
    "collapsed": false,
    "ExecuteTime": {
     "end_time": "2024-01-30T01:03:35.231607400Z",
     "start_time": "2024-01-30T01:03:35.226023100Z"
    }
   },
   "id": "6a0cfd058dc168fc",
   "execution_count": 56
  },
  {
   "cell_type": "code",
   "outputs": [
    {
     "data": {
      "text/plain": "array([[ 7,  8,  9],\n       [10, 11, 12]])"
     },
     "execution_count": 57,
     "metadata": {},
     "output_type": "execute_result"
    }
   ],
   "source": [
    "# sería igual a\n",
    "\n",
    "x = arr3d[1]\n",
    "x"
   ],
   "metadata": {
    "collapsed": false,
    "ExecuteTime": {
     "end_time": "2024-01-30T01:04:06.348093Z",
     "start_time": "2024-01-30T01:04:06.341973700Z"
    }
   },
   "id": "cbc08573097a2097",
   "execution_count": 57
  },
  {
   "cell_type": "code",
   "outputs": [
    {
     "data": {
      "text/plain": "array([7, 8, 9])"
     },
     "execution_count": 58,
     "metadata": {},
     "output_type": "execute_result"
    }
   ],
   "source": [
    "x[0]\n",
    "\n",
    "# esta forma de indexar no funciona con objetos regulares de Python como listas de listas"
   ],
   "metadata": {
    "collapsed": false,
    "ExecuteTime": {
     "end_time": "2024-01-30T01:04:12.027745700Z",
     "start_time": "2024-01-30T01:04:12.020276500Z"
    }
   },
   "id": "a9c37dadbcecf006",
   "execution_count": 58
  },
  {
   "cell_type": "markdown",
   "source": [
    "##### Indexando con deslizamiento\n",
    "\n",
    "Los ndarrays pueden ser deslizados con una sintaxis familiar"
   ],
   "metadata": {
    "collapsed": false
   },
   "id": "99f8967832fb62c8"
  },
  {
   "cell_type": "code",
   "outputs": [
    {
     "data": {
      "text/plain": "array([ 0,  1,  2,  3,  4, 64, 64, 64,  8,  9])"
     },
     "execution_count": 59,
     "metadata": {},
     "output_type": "execute_result"
    }
   ],
   "source": [
    "arr"
   ],
   "metadata": {
    "collapsed": false,
    "ExecuteTime": {
     "end_time": "2024-01-30T01:05:29.026289Z",
     "start_time": "2024-01-30T01:05:29.020656200Z"
    }
   },
   "id": "aecd107678d4850b",
   "execution_count": 59
  },
  {
   "cell_type": "code",
   "outputs": [
    {
     "data": {
      "text/plain": "array([ 1,  2,  3,  4, 64])"
     },
     "execution_count": 60,
     "metadata": {},
     "output_type": "execute_result"
    }
   ],
   "source": [
    "arr[1:6]"
   ],
   "metadata": {
    "collapsed": false,
    "ExecuteTime": {
     "end_time": "2024-01-30T01:05:43.465116100Z",
     "start_time": "2024-01-30T01:05:43.458892500Z"
    }
   },
   "id": "9258c83c89d0c363",
   "execution_count": 60
  },
  {
   "cell_type": "code",
   "outputs": [
    {
     "data": {
      "text/plain": "array([[1, 2, 3],\n       [4, 5, 6],\n       [7, 8, 9]])"
     },
     "execution_count": 61,
     "metadata": {},
     "output_type": "execute_result"
    }
   ],
   "source": [
    "# para uno de dos dimensiones es algo diferente\n",
    "\n",
    "arr2d"
   ],
   "metadata": {
    "collapsed": false,
    "ExecuteTime": {
     "end_time": "2024-01-30T01:06:08.664374900Z",
     "start_time": "2024-01-30T01:06:08.657840400Z"
    }
   },
   "id": "5ef175c78e7fa8c1",
   "execution_count": 61
  },
  {
   "cell_type": "code",
   "outputs": [
    {
     "data": {
      "text/plain": "array([[1, 2, 3],\n       [4, 5, 6]])"
     },
     "execution_count": 62,
     "metadata": {},
     "output_type": "execute_result"
    }
   ],
   "source": [
    "arr2d[:2] # desliza en el eje 0, selecciona las primeras dos filas del arreglo"
   ],
   "metadata": {
    "collapsed": false,
    "ExecuteTime": {
     "end_time": "2024-01-30T01:06:16.260249200Z",
     "start_time": "2024-01-30T01:06:16.254999800Z"
    }
   },
   "id": "ad07964e1cd8aa7c",
   "execution_count": 62
  },
  {
   "cell_type": "code",
   "outputs": [
    {
     "data": {
      "text/plain": "array([[2, 3],\n       [5, 6]])"
     },
     "execution_count": 63,
     "metadata": {},
     "output_type": "execute_result"
    }
   ],
   "source": [
    "# se pueden pasar multiples deslizamientos \n",
    "\n",
    "arr2d[:2, 1:]"
   ],
   "metadata": {
    "collapsed": false,
    "ExecuteTime": {
     "end_time": "2024-01-30T01:07:50.625690900Z",
     "start_time": "2024-01-30T01:07:50.618093Z"
    }
   },
   "id": "58a26dc0dde497be",
   "execution_count": 63
  },
  {
   "cell_type": "code",
   "outputs": [
    {
     "data": {
      "text/plain": "array([[2, 3],\n       [5, 6]])"
     },
     "execution_count": 66,
     "metadata": {},
     "output_type": "execute_result"
    }
   ],
   "source": [
    "# se crean vistas de menor dimensión\n",
    "\n",
    "arr2d[:2, 1:]"
   ],
   "metadata": {
    "collapsed": false,
    "ExecuteTime": {
     "end_time": "2024-01-30T01:09:20.015073400Z",
     "start_time": "2024-01-30T01:09:20.007778800Z"
    }
   },
   "id": "c13b8d8cf8f6ea3d",
   "execution_count": 66
  },
  {
   "cell_type": "code",
   "outputs": [
    {
     "data": {
      "text/plain": "array([4, 5])"
     },
     "execution_count": 67,
     "metadata": {},
     "output_type": "execute_result"
    }
   ],
   "source": [
    "arr2d[1, :2]"
   ],
   "metadata": {
    "collapsed": false,
    "ExecuteTime": {
     "end_time": "2024-01-30T01:09:39.506642Z",
     "start_time": "2024-01-30T01:09:39.500200700Z"
    }
   },
   "id": "1b0dff448f94d2fe",
   "execution_count": 67
  },
  {
   "cell_type": "code",
   "outputs": [
    {
     "data": {
      "text/plain": "array([3, 6])"
     },
     "execution_count": 68,
     "metadata": {},
     "output_type": "execute_result"
    }
   ],
   "source": [
    "# seleccionar la tercera columna y solo las primeras dos filas\n",
    "\n",
    "arr2d[:2, 2]"
   ],
   "metadata": {
    "collapsed": false,
    "ExecuteTime": {
     "end_time": "2024-01-30T01:10:09.029253500Z",
     "start_time": "2024-01-30T01:10:09.021898500Z"
    }
   },
   "id": "591d63efcb314bd2",
   "execution_count": 68
  },
  {
   "cell_type": "code",
   "outputs": [
    {
     "data": {
      "text/plain": "array([[1],\n       [4],\n       [7]])"
     },
     "execution_count": 69,
     "metadata": {},
     "output_type": "execute_result"
    }
   ],
   "source": [
    "# se puede diferentes dimensiones\n",
    "\n",
    "arr2d[:, :1]"
   ],
   "metadata": {
    "collapsed": false,
    "ExecuteTime": {
     "end_time": "2024-01-30T01:11:52.318671Z",
     "start_time": "2024-01-30T01:11:52.313126900Z"
    }
   },
   "id": "e1c1ec07813203e4",
   "execution_count": 69
  },
  {
   "cell_type": "code",
   "outputs": [
    {
     "data": {
      "text/plain": "array([[1, 0, 0],\n       [4, 0, 0],\n       [7, 8, 9]])"
     },
     "execution_count": 70,
     "metadata": {},
     "output_type": "execute_result"
    }
   ],
   "source": [
    "# asignar una escalar asigna toda la sección\n",
    "\n",
    "arr2d[:2, 1:] = 0\n",
    "arr2d"
   ],
   "metadata": {
    "collapsed": false,
    "ExecuteTime": {
     "end_time": "2024-01-30T01:12:18.920775Z",
     "start_time": "2024-01-30T01:12:18.914334100Z"
    }
   },
   "id": "71c6f219992433f",
   "execution_count": 70
  },
  {
   "cell_type": "markdown",
   "source": [
    "### Indexamiento booleano\n",
    "\n",
    "Consideremos cuando por ejemplo, tenemos datos en un arreglo y un arreglo con nombres duplicados"
   ],
   "metadata": {
    "collapsed": false
   },
   "id": "a92c794248869fe8"
  },
  {
   "cell_type": "code",
   "outputs": [
    {
     "data": {
      "text/plain": "array(['Bob', 'Joe', 'Will', 'Bob', 'Will', 'Joe', 'Joe'], dtype='<U4')"
     },
     "execution_count": 71,
     "metadata": {},
     "output_type": "execute_result"
    }
   ],
   "source": [
    "names = np.array([\"Bob\", \"Joe\", \"Will\", \"Bob\", \"Will\", \"Joe\", \"Joe\"])\n",
    "data = np.array([[4, 7], [0, 2], [-5, 6], [0, 0], [1, 2],\n",
    "                 [-12, -4], [3, 4]])\n",
    "\n",
    "names"
   ],
   "metadata": {
    "collapsed": false,
    "ExecuteTime": {
     "end_time": "2024-01-30T01:13:54.550804400Z",
     "start_time": "2024-01-30T01:13:54.544493600Z"
    }
   },
   "id": "290a0aaf99a2c508",
   "execution_count": 71
  },
  {
   "cell_type": "code",
   "outputs": [
    {
     "data": {
      "text/plain": "array([[  4,   7],\n       [  0,   2],\n       [ -5,   6],\n       [  0,   0],\n       [  1,   2],\n       [-12,  -4],\n       [  3,   4]])"
     },
     "execution_count": 72,
     "metadata": {},
     "output_type": "execute_result"
    }
   ],
   "source": [
    "data"
   ],
   "metadata": {
    "collapsed": false,
    "ExecuteTime": {
     "end_time": "2024-01-30T01:14:07.086622300Z",
     "start_time": "2024-01-30T01:14:07.079895900Z"
    }
   },
   "id": "bd5ffd79d4cf020f",
   "execution_count": 72
  },
  {
   "cell_type": "markdown",
   "source": [
    "Cada nombre corresponde a una fila en el arreglo y queremos seleccionar las filas que correspondan al nombre 'Bob'"
   ],
   "metadata": {
    "collapsed": false
   },
   "id": "24ad831972c86b84"
  },
  {
   "cell_type": "code",
   "outputs": [
    {
     "data": {
      "text/plain": "array([ True, False, False,  True, False, False, False])"
     },
     "execution_count": 73,
     "metadata": {},
     "output_type": "execute_result"
    }
   ],
   "source": [
    "names == 'Bob'"
   ],
   "metadata": {
    "collapsed": false,
    "ExecuteTime": {
     "end_time": "2024-01-30T01:15:07.424932900Z",
     "start_time": "2024-01-30T01:15:07.418106100Z"
    }
   },
   "id": "c5eebc4d133859f7",
   "execution_count": 73
  },
  {
   "cell_type": "code",
   "outputs": [
    {
     "data": {
      "text/plain": "array([[4, 7],\n       [0, 0]])"
     },
     "execution_count": 74,
     "metadata": {},
     "output_type": "execute_result"
    }
   ],
   "source": [
    "data[names == 'Bob']"
   ],
   "metadata": {
    "collapsed": false,
    "ExecuteTime": {
     "end_time": "2024-01-30T01:15:20.005517300Z",
     "start_time": "2024-01-30T01:15:19.998071500Z"
    }
   },
   "id": "4c21c26d61a8c798",
   "execution_count": 74
  },
  {
   "cell_type": "markdown",
   "source": [
    "El arreglo booleano tiene que ser de la misma longitúd del arreglo que está indexando, se pueden combinar arreglos booleanos con deslizamiento o enteros.\n",
    "\n",
    "Por ejemplo donde el nombre sea Bob y el indice de la columna"
   ],
   "metadata": {
    "collapsed": false
   },
   "id": "9232ed844a43de0"
  },
  {
   "cell_type": "code",
   "outputs": [
    {
     "data": {
      "text/plain": "array([[7],\n       [0]])"
     },
     "execution_count": 76,
     "metadata": {},
     "output_type": "execute_result"
    }
   ],
   "source": [
    "data[names == 'Bob', 1:]"
   ],
   "metadata": {
    "collapsed": false,
    "ExecuteTime": {
     "end_time": "2024-01-30T01:16:59.606442800Z",
     "start_time": "2024-01-30T01:16:59.598396700Z"
    }
   },
   "id": "bc5aea4cdb2b831b",
   "execution_count": 76
  },
  {
   "cell_type": "code",
   "outputs": [
    {
     "data": {
      "text/plain": "array([7, 0])"
     },
     "execution_count": 77,
     "metadata": {},
     "output_type": "execute_result"
    }
   ],
   "source": [
    "data[names == 'Bob', 1]"
   ],
   "metadata": {
    "collapsed": false,
    "ExecuteTime": {
     "end_time": "2024-01-30T01:17:26.274443600Z",
     "start_time": "2024-01-30T01:17:26.250249700Z"
    }
   },
   "id": "e5b9d7f0139f21a8",
   "execution_count": 77
  },
  {
   "cell_type": "code",
   "outputs": [
    {
     "data": {
      "text/plain": "array([False,  True,  True, False,  True,  True,  True])"
     },
     "execution_count": 79,
     "metadata": {},
     "output_type": "execute_result"
    }
   ],
   "source": [
    "# para seleccionar excepto Bob se puede usar != o ~:\n",
    "\n",
    "names!= 'Bob'"
   ],
   "metadata": {
    "collapsed": false,
    "ExecuteTime": {
     "end_time": "2024-01-30T01:18:31.395366Z",
     "start_time": "2024-01-30T01:18:31.382191200Z"
    }
   },
   "id": "ce0b482762576ccb",
   "execution_count": 79
  },
  {
   "cell_type": "code",
   "outputs": [
    {
     "data": {
      "text/plain": "array([False,  True,  True, False,  True,  True,  True])"
     },
     "execution_count": 80,
     "metadata": {},
     "output_type": "execute_result"
    }
   ],
   "source": [
    "~(names == 'Bob')"
   ],
   "metadata": {
    "collapsed": false,
    "ExecuteTime": {
     "end_time": "2024-01-30T01:18:50.786845200Z",
     "start_time": "2024-01-30T01:18:50.779990300Z"
    }
   },
   "id": "70a17e7697c0edbd",
   "execution_count": 80
  },
  {
   "cell_type": "code",
   "outputs": [
    {
     "data": {
      "text/plain": "array([[  0,   2],\n       [ -5,   6],\n       [  1,   2],\n       [-12,  -4],\n       [  3,   4]])"
     },
     "execution_count": 81,
     "metadata": {},
     "output_type": "execute_result"
    }
   ],
   "source": [
    "data[~(names == 'Bob')]"
   ],
   "metadata": {
    "collapsed": false,
    "ExecuteTime": {
     "end_time": "2024-01-30T01:19:09.724101700Z",
     "start_time": "2024-01-30T01:19:09.717088400Z"
    }
   },
   "id": "39e30ca44612f061",
   "execution_count": 81
  },
  {
   "cell_type": "code",
   "outputs": [
    {
     "data": {
      "text/plain": "array([[  0,   2],\n       [ -5,   6],\n       [  1,   2],\n       [-12,  -4],\n       [  3,   4]])"
     },
     "execution_count": 82,
     "metadata": {},
     "output_type": "execute_result"
    }
   ],
   "source": [
    "cond = names == 'Bob'\n",
    "data[~cond]"
   ],
   "metadata": {
    "collapsed": false,
    "ExecuteTime": {
     "end_time": "2024-01-30T01:20:00.821146300Z",
     "start_time": "2024-01-30T01:20:00.814520Z"
    }
   },
   "id": "cadf4c2e4070ea6e",
   "execution_count": 82
  },
  {
   "cell_type": "code",
   "outputs": [
    {
     "data": {
      "text/plain": "array([ True, False,  True,  True,  True, False, False])"
     },
     "execution_count": 83,
     "metadata": {},
     "output_type": "execute_result"
    }
   ],
   "source": [
    "# Para seleccionar dos o tres nombres usamos las condicionales booleanas\n",
    "\n",
    "mask = (names == 'Bob') | (names == 'Will')\n",
    "mask"
   ],
   "metadata": {
    "collapsed": false,
    "ExecuteTime": {
     "end_time": "2024-01-30T01:20:22.955465900Z",
     "start_time": "2024-01-30T01:20:22.948346400Z"
    }
   },
   "id": "e12963877d467895",
   "execution_count": 83
  },
  {
   "cell_type": "code",
   "outputs": [
    {
     "data": {
      "text/plain": "array([[ 4,  7],\n       [-5,  6],\n       [ 0,  0],\n       [ 1,  2]])"
     },
     "execution_count": 85,
     "metadata": {},
     "output_type": "execute_result"
    }
   ],
   "source": [
    "data[mask]"
   ],
   "metadata": {
    "collapsed": false,
    "ExecuteTime": {
     "end_time": "2024-01-30T01:20:34.165508600Z",
     "start_time": "2024-01-30T01:20:34.158248Z"
    }
   },
   "id": "71c4711076fd22d8",
   "execution_count": 85
  },
  {
   "cell_type": "markdown",
   "source": [
    "Seleccionar datos de un arreglo por booleano indexando y asignando el resultado siempre crea una copia de los datos.\n",
    "\n",
    "Estableciendo valor con un arreglo booleano funciona dando el valor a la derecha donde los resultados sean `True`"
   ],
   "metadata": {
    "collapsed": false
   },
   "id": "263efdeb8e901bad"
  },
  {
   "cell_type": "code",
   "outputs": [
    {
     "data": {
      "text/plain": "array([[4, 7],\n       [0, 2],\n       [0, 6],\n       [0, 0],\n       [1, 2],\n       [0, 0],\n       [3, 4]])"
     },
     "execution_count": 87,
     "metadata": {},
     "output_type": "execute_result"
    }
   ],
   "source": [
    "data[data < 0] = 0\n",
    "data"
   ],
   "metadata": {
    "collapsed": false,
    "ExecuteTime": {
     "end_time": "2024-01-30T01:23:04.804575700Z",
     "start_time": "2024-01-30T01:23:04.792346400Z"
    }
   },
   "id": "600fc11b2258421b",
   "execution_count": 87
  },
  {
   "cell_type": "code",
   "outputs": [
    {
     "data": {
      "text/plain": "array([[7, 7],\n       [0, 2],\n       [7, 7],\n       [7, 7],\n       [7, 7],\n       [0, 0],\n       [3, 4]])"
     },
     "execution_count": 88,
     "metadata": {},
     "output_type": "execute_result"
    }
   ],
   "source": [
    "data[names != 'Joe'] = 7\n",
    "data"
   ],
   "metadata": {
    "collapsed": false,
    "ExecuteTime": {
     "end_time": "2024-01-30T01:23:30.576464400Z",
     "start_time": "2024-01-30T01:23:30.569419100Z"
    }
   },
   "id": "e31a45b51bc9e46b",
   "execution_count": 88
  }
 ],
 "metadata": {
  "kernelspec": {
   "display_name": "Python 3",
   "language": "python",
   "name": "python3"
  },
  "language_info": {
   "codemirror_mode": {
    "name": "ipython",
    "version": 2
   },
   "file_extension": ".py",
   "mimetype": "text/x-python",
   "name": "python",
   "nbconvert_exporter": "python",
   "pygments_lexer": "ipython2",
   "version": "2.7.6"
  }
 },
 "nbformat": 4,
 "nbformat_minor": 5
}
