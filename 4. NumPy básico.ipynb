{
 "cells": [
  {
   "cell_type": "code",
   "outputs": [],
   "source": [
    "import numpy as np\n",
    "import pandas as pd\n",
    "pd.options.display.max_columns = 20\n",
    "pd.options.display.max_rows = 20\n",
    "pd.options.display.max_colwidth = 80\n",
    "np.set_printoptions(precision=4, suppress=True)"
   ],
   "metadata": {
    "collapsed": false,
    "ExecuteTime": {
     "end_time": "2024-02-01T14:37:06.837779200Z",
     "start_time": "2024-02-01T14:37:06.241961400Z"
    }
   },
   "id": "4f630c818bd8d72c",
   "execution_count": 1
  },
  {
   "cell_type": "markdown",
   "source": [
    "## Arreglos y computación vectorizada\n",
    "\n",
    "Numpy permite hacer computación numérica de forma eficiente, evita escribir loops para operaciones numéricas, algebra lineal, algorítmos como ordenar, únicos y operaciones de conjuntos, estadísticas descriptivas eficientes, manipulación de datos relacional, entre otros."
   ],
   "metadata": {
    "collapsed": false
   },
   "id": "fb297a87c8473af2"
  },
  {
   "cell_type": "code",
   "execution_count": 2,
   "id": "initial_id",
   "metadata": {
    "collapsed": true,
    "ExecuteTime": {
     "end_time": "2024-02-01T14:37:15.849926300Z",
     "start_time": "2024-02-01T14:37:06.796883900Z"
    }
   },
   "outputs": [
    {
     "name": "stdout",
     "output_type": "stream",
     "text": [
      "1.08 ms ± 89 µs per loop (mean ± std. dev. of 7 runs, 1,000 loops each)\n"
     ]
    }
   ],
   "source": [
    "import numpy as np\n",
    "\n",
    "arr = np.arange(1_000_000)\n",
    "lista = list(range(1_000_000))\n",
    "\n",
    "%timeit arr2 = arr * 2"
   ]
  },
  {
   "cell_type": "code",
   "outputs": [
    {
     "name": "stdout",
     "output_type": "stream",
     "text": [
      "45.3 ms ± 477 µs per loop (mean ± std. dev. of 7 runs, 10 loops each)\n"
     ]
    }
   ],
   "source": [
    "%timeit lista2 = [x * 2 for x in lista]"
   ],
   "metadata": {
    "collapsed": false,
    "ExecuteTime": {
     "end_time": "2024-02-01T14:37:19.577391200Z",
     "start_time": "2024-02-01T14:37:15.784821600Z"
    }
   },
   "id": "fcb857ba68c5fa9d",
   "execution_count": 3
  },
  {
   "cell_type": "markdown",
   "source": [
    "## Un objeto de arreglo multidimensional\n",
    "\n",
    "Una de las principales características es el objeto arreglo N-dimensional, un contenedor rápido y flexible para conjuntos de datos grandes en Python. Los arreglos permiten hacer operaciones matemáticas en bloques completos usando una sintaxis similar a las operaciones entre escalares."
   ],
   "metadata": {
    "collapsed": false
   },
   "id": "df9ed3c411ce6761"
  },
  {
   "cell_type": "code",
   "outputs": [
    {
     "data": {
      "text/plain": "array([[ 1.5, -0.1,  3. ],\n       [ 0. , -3. ,  6.5]])"
     },
     "execution_count": 4,
     "metadata": {},
     "output_type": "execute_result"
    }
   ],
   "source": [
    "data = np.array([[1.5, -0.1, 3], [0, -3, 6.5]])\n",
    "data"
   ],
   "metadata": {
    "collapsed": false,
    "ExecuteTime": {
     "end_time": "2024-02-01T14:37:20.193846Z",
     "start_time": "2024-02-01T14:37:19.575886500Z"
    }
   },
   "id": "e736ca44c1cabcc3",
   "execution_count": 4
  },
  {
   "cell_type": "code",
   "outputs": [
    {
     "data": {
      "text/plain": "array([[ 15.,  -1.,  30.],\n       [  0., -30.,  65.]])"
     },
     "execution_count": 5,
     "metadata": {},
     "output_type": "execute_result"
    }
   ],
   "source": [
    "data * 10"
   ],
   "metadata": {
    "collapsed": false,
    "ExecuteTime": {
     "end_time": "2024-02-01T14:37:20.775325100Z",
     "start_time": "2024-02-01T14:37:20.069776700Z"
    }
   },
   "id": "daba49107ec96e98",
   "execution_count": 5
  },
  {
   "cell_type": "code",
   "outputs": [
    {
     "data": {
      "text/plain": "array([[ 3. , -0.2,  6. ],\n       [ 0. , -6. , 13. ]])"
     },
     "execution_count": 6,
     "metadata": {},
     "output_type": "execute_result"
    }
   ],
   "source": [
    "data + data"
   ],
   "metadata": {
    "collapsed": false,
    "ExecuteTime": {
     "end_time": "2024-02-01T14:37:21.585936800Z",
     "start_time": "2024-02-01T14:37:20.774318Z"
    }
   },
   "id": "a611b1332e301cc9",
   "execution_count": 6
  },
  {
   "cell_type": "markdown",
   "source": [
    "Un **ndarray** es un contenedor multidimensional para datos homogéneos. Todo arreglo debe tener forma, una tupla indicando el tamaño de la dimensión; y un **dtype** describiendo el tipo de datos del arreglo."
   ],
   "metadata": {
    "collapsed": false
   },
   "id": "a5032bac5019c31"
  },
  {
   "cell_type": "code",
   "outputs": [
    {
     "data": {
      "text/plain": "(2, 3)"
     },
     "execution_count": 7,
     "metadata": {},
     "output_type": "execute_result"
    }
   ],
   "source": [
    "data.shape"
   ],
   "metadata": {
    "collapsed": false,
    "ExecuteTime": {
     "end_time": "2024-02-01T14:37:22.066836100Z",
     "start_time": "2024-02-01T14:37:21.584918500Z"
    }
   },
   "id": "de79aee45ed951d1",
   "execution_count": 7
  },
  {
   "cell_type": "code",
   "outputs": [
    {
     "data": {
      "text/plain": "dtype('float64')"
     },
     "execution_count": 8,
     "metadata": {},
     "output_type": "execute_result"
    }
   ],
   "source": [
    "data.dtype"
   ],
   "metadata": {
    "collapsed": false,
    "ExecuteTime": {
     "end_time": "2024-02-01T14:37:22.440410400Z",
     "start_time": "2024-02-01T14:37:22.065332300Z"
    }
   },
   "id": "afd26b35a6696124",
   "execution_count": 8
  },
  {
   "cell_type": "markdown",
   "source": [
    "### Creando ndarrays\n",
    "\n",
    "La forma más fácil es usar la función `array`. Acepta cualquier objeto de tipo secuencia y produce un array de numpy"
   ],
   "metadata": {
    "collapsed": false
   },
   "id": "3a3bfbac6458286e"
  },
  {
   "cell_type": "code",
   "outputs": [
    {
     "data": {
      "text/plain": "array([6. , 7.5, 8. , 0. , 1. ])"
     },
     "execution_count": 9,
     "metadata": {},
     "output_type": "execute_result"
    }
   ],
   "source": [
    "data1 = [6, 7.5, 8, 0, 1]\n",
    "\n",
    "arr1 = np.array(data1)\n",
    "arr1"
   ],
   "metadata": {
    "collapsed": false,
    "ExecuteTime": {
     "end_time": "2024-02-01T14:37:23.320953Z",
     "start_time": "2024-02-01T14:37:22.439404300Z"
    }
   },
   "id": "50e77403e4966fdf",
   "execution_count": 9
  },
  {
   "cell_type": "code",
   "outputs": [
    {
     "data": {
      "text/plain": "array([[1, 2, 3, 4],\n       [5, 6, 7, 8]])"
     },
     "execution_count": 10,
     "metadata": {},
     "output_type": "execute_result"
    }
   ],
   "source": [
    "# las secuencias anidadas se convierten en arrays multidimensionales\n",
    "\n",
    "data2 = [[1, 2, 3, 4], [5, 6, 7, 8]]\n",
    "\n",
    "arr2 = np.array(data2)\n",
    "arr2"
   ],
   "metadata": {
    "collapsed": false,
    "ExecuteTime": {
     "end_time": "2024-02-01T14:37:23.997997300Z",
     "start_time": "2024-02-01T14:37:23.320953Z"
    }
   },
   "id": "942bfe8a21f7393c",
   "execution_count": 10
  },
  {
   "cell_type": "code",
   "outputs": [
    {
     "data": {
      "text/plain": "2"
     },
     "execution_count": 11,
     "metadata": {},
     "output_type": "execute_result"
    }
   ],
   "source": [
    "# tiene dos dimensiones\n",
    "\n",
    "arr2.ndim"
   ],
   "metadata": {
    "collapsed": false,
    "ExecuteTime": {
     "end_time": "2024-02-01T14:37:25.103402100Z",
     "start_time": "2024-02-01T14:37:23.996936100Z"
    }
   },
   "id": "4bc274a88b3c3f3d",
   "execution_count": 11
  },
  {
   "cell_type": "code",
   "outputs": [
    {
     "data": {
      "text/plain": "(2, 4)"
     },
     "execution_count": 12,
     "metadata": {},
     "output_type": "execute_result"
    }
   ],
   "source": [
    "arr2.shape"
   ],
   "metadata": {
    "collapsed": false,
    "ExecuteTime": {
     "end_time": "2024-02-01T14:37:26.647578700Z",
     "start_time": "2024-02-01T14:37:25.100190Z"
    }
   },
   "id": "168813c348590ee4",
   "execution_count": 12
  },
  {
   "cell_type": "code",
   "outputs": [
    {
     "data": {
      "text/plain": "dtype('float64')"
     },
     "execution_count": 13,
     "metadata": {},
     "output_type": "execute_result"
    }
   ],
   "source": [
    "# el tipo de datos es almacenado en un objeto de metadatos \n",
    "\n",
    "arr1.dtype"
   ],
   "metadata": {
    "collapsed": false,
    "ExecuteTime": {
     "end_time": "2024-02-01T14:37:26.804907900Z",
     "start_time": "2024-02-01T14:37:26.104313200Z"
    }
   },
   "id": "9f6de14a5f6e38b3",
   "execution_count": 13
  },
  {
   "cell_type": "code",
   "outputs": [
    {
     "data": {
      "text/plain": "dtype('int32')"
     },
     "execution_count": 14,
     "metadata": {},
     "output_type": "execute_result"
    }
   ],
   "source": [
    "arr2.dtype"
   ],
   "metadata": {
    "collapsed": false,
    "ExecuteTime": {
     "end_time": "2024-02-01T14:37:26.852223900Z",
     "start_time": "2024-02-01T14:37:26.693407900Z"
    }
   },
   "id": "937864a212cda86",
   "execution_count": 14
  },
  {
   "cell_type": "markdown",
   "source": [
    "Hay más opciones para crear un arreglo, por ejemplo `numpy.zeros`, `numpy.ones` crean un arreglo de 0's y 1's con un valor dado de longitúd o forma. `numpy.empty` crea un arreglo sin inicializar sus valores a algún valor en particular."
   ],
   "metadata": {
    "collapsed": false
   },
   "id": "1fed1f8acfb15688"
  },
  {
   "cell_type": "code",
   "outputs": [
    {
     "data": {
      "text/plain": "array([0., 0., 0., 0., 0., 0., 0., 0., 0., 0.])"
     },
     "execution_count": 15,
     "metadata": {},
     "output_type": "execute_result"
    }
   ],
   "source": [
    "np.zeros(10)"
   ],
   "metadata": {
    "collapsed": false,
    "ExecuteTime": {
     "end_time": "2024-02-01T14:37:26.866962600Z",
     "start_time": "2024-02-01T14:37:26.704379500Z"
    }
   },
   "id": "a81ed64eca78aae7",
   "execution_count": 15
  },
  {
   "cell_type": "code",
   "outputs": [
    {
     "data": {
      "text/plain": "array([[0., 0., 0., 0., 0., 0.],\n       [0., 0., 0., 0., 0., 0.],\n       [0., 0., 0., 0., 0., 0.]])"
     },
     "execution_count": 16,
     "metadata": {},
     "output_type": "execute_result"
    }
   ],
   "source": [
    "np.zeros((3, 6))"
   ],
   "metadata": {
    "collapsed": false,
    "ExecuteTime": {
     "end_time": "2024-02-01T14:37:26.871341100Z",
     "start_time": "2024-02-01T14:37:26.709950400Z"
    }
   },
   "id": "188b575e80f7dad8",
   "execution_count": 16
  },
  {
   "cell_type": "code",
   "outputs": [
    {
     "data": {
      "text/plain": "array([[[1.2535e-311, 2.8656e-322],\n        [0.0000e+000, 0.0000e+000],\n        [7.5019e+247, 2.4234e-057]],\n\n       [[5.5865e-091, 9.3077e+165],\n        [5.5476e+169, 1.5195e-051],\n        [6.4822e+170, 5.8247e+257]]])"
     },
     "execution_count": 17,
     "metadata": {},
     "output_type": "execute_result"
    }
   ],
   "source": [
    "np.empty((2, 3, 2))\n",
    "\n",
    "# estos son valores basura cercanos a cero, no son cero"
   ],
   "metadata": {
    "collapsed": false,
    "ExecuteTime": {
     "end_time": "2024-02-01T14:37:27.060900500Z",
     "start_time": "2024-02-01T14:37:26.716762100Z"
    }
   },
   "id": "9953ba880a16d98a",
   "execution_count": 17
  },
  {
   "cell_type": "code",
   "outputs": [
    {
     "data": {
      "text/plain": "array([ 0,  1,  2,  3,  4,  5,  6,  7,  8,  9, 10, 11, 12, 13, 14])"
     },
     "execution_count": 18,
     "metadata": {},
     "output_type": "execute_result"
    }
   ],
   "source": [
    "# np.arange es una versión de arreglo de la función range\n",
    "\n",
    "np.arange(15)"
   ],
   "metadata": {
    "collapsed": false,
    "ExecuteTime": {
     "end_time": "2024-02-01T14:37:27.106760100Z",
     "start_time": "2024-02-01T14:37:26.721111600Z"
    }
   },
   "id": "43410879ccee7903",
   "execution_count": 18
  },
  {
   "cell_type": "markdown",
   "source": [
    "Hay otras funciones como `array`, `asarray`, `arange`, `ones`, `ones_like`, `zeros`, `zeros_like`, `empty`, `empty_like`, `full`, `full_like`, `eye`, `identity`"
   ],
   "metadata": {
    "collapsed": false
   },
   "id": "711e1ae69b1425b1"
  },
  {
   "cell_type": "markdown",
   "source": [
    "### Tipos de datos para ndarrays\n",
    "\n",
    "Se puede especificar el tipo de dato"
   ],
   "metadata": {
    "collapsed": false
   },
   "id": "288152c36a74bf50"
  },
  {
   "cell_type": "code",
   "outputs": [
    {
     "data": {
      "text/plain": "dtype('float64')"
     },
     "execution_count": 19,
     "metadata": {},
     "output_type": "execute_result"
    }
   ],
   "source": [
    "arr1 = np.array([1, 2, 3], dtype = np.float64)\n",
    "arr2 = np.array([1, 2, 3], dtype = np.float32)\n",
    "\n",
    "arr1.dtype"
   ],
   "metadata": {
    "collapsed": false,
    "ExecuteTime": {
     "end_time": "2024-02-01T14:37:27.124827300Z",
     "start_time": "2024-02-01T14:37:26.728675800Z"
    }
   },
   "id": "327f5c6a59d683b9",
   "execution_count": 19
  },
  {
   "cell_type": "code",
   "outputs": [
    {
     "data": {
      "text/plain": "dtype('float32')"
     },
     "execution_count": 20,
     "metadata": {},
     "output_type": "execute_result"
    }
   ],
   "source": [
    "arr2.dtype"
   ],
   "metadata": {
    "collapsed": false,
    "ExecuteTime": {
     "end_time": "2024-02-01T14:37:27.129481200Z",
     "start_time": "2024-02-01T14:37:26.734757200Z"
    }
   },
   "id": "e62aa66ee72933dc",
   "execution_count": 20
  },
  {
   "cell_type": "code",
   "outputs": [
    {
     "data": {
      "text/plain": "dtype('int32')"
     },
     "execution_count": 21,
     "metadata": {},
     "output_type": "execute_result"
    }
   ],
   "source": [
    "# se puede convertir explícitamente una arreglo de un tipo de dato a otro\n",
    "\n",
    "arr = np.array([1, 2, 3, 4, 5])\n",
    "arr.dtype"
   ],
   "metadata": {
    "collapsed": false,
    "ExecuteTime": {
     "end_time": "2024-02-01T14:37:27.160314600Z",
     "start_time": "2024-02-01T14:37:26.739263700Z"
    }
   },
   "id": "188a1d4718ebc59f",
   "execution_count": 21
  },
  {
   "cell_type": "code",
   "outputs": [
    {
     "data": {
      "text/plain": "array([1., 2., 3., 4., 5.])"
     },
     "execution_count": 22,
     "metadata": {},
     "output_type": "execute_result"
    }
   ],
   "source": [
    "float_arr = arr.astype(np.float64)\n",
    "float_arr"
   ],
   "metadata": {
    "collapsed": false,
    "ExecuteTime": {
     "end_time": "2024-02-01T14:37:27.163866800Z",
     "start_time": "2024-02-01T14:37:26.745504400Z"
    }
   },
   "id": "505dcc71b712df8b",
   "execution_count": 22
  },
  {
   "cell_type": "code",
   "outputs": [
    {
     "data": {
      "text/plain": "dtype('float64')"
     },
     "execution_count": 23,
     "metadata": {},
     "output_type": "execute_result"
    }
   ],
   "source": [
    "float_arr.dtype\n",
    "\n",
    "# se transformaron los enteros a floats"
   ],
   "metadata": {
    "collapsed": false,
    "ExecuteTime": {
     "end_time": "2024-02-01T14:37:27.174497100Z",
     "start_time": "2024-02-01T14:37:26.752510700Z"
    }
   },
   "id": "7c946f07ac32c18a",
   "execution_count": 23
  },
  {
   "cell_type": "code",
   "outputs": [
    {
     "data": {
      "text/plain": "array([ 3.7, -1.2, -2.6,  0.5, 12.9, 10.1])"
     },
     "execution_count": 24,
     "metadata": {},
     "output_type": "execute_result"
    }
   ],
   "source": [
    "# si transformo decimales a enteros los decimales se borran\n",
    "\n",
    "arr = np.array([3.7, -1.2, -2.6, 0.5, 12.9, 10.1])\n",
    "arr"
   ],
   "metadata": {
    "collapsed": false,
    "ExecuteTime": {
     "end_time": "2024-02-01T14:37:27.178767400Z",
     "start_time": "2024-02-01T14:37:26.760021Z"
    }
   },
   "id": "92b6a7e6aece9853",
   "execution_count": 24
  },
  {
   "cell_type": "code",
   "outputs": [
    {
     "data": {
      "text/plain": "array([ 3, -1, -2,  0, 12, 10])"
     },
     "execution_count": 25,
     "metadata": {},
     "output_type": "execute_result"
    }
   ],
   "source": [
    "arr.astype(np.int32)"
   ],
   "metadata": {
    "collapsed": false,
    "ExecuteTime": {
     "end_time": "2024-02-01T14:37:27.203535900Z",
     "start_time": "2024-02-01T14:37:26.766681500Z"
    }
   },
   "id": "4ff346d6158ea9ba",
   "execution_count": 25
  },
  {
   "cell_type": "code",
   "outputs": [
    {
     "data": {
      "text/plain": "array([ 1.25, -9.6 , 42.  ])"
     },
     "execution_count": 26,
     "metadata": {},
     "output_type": "execute_result"
    }
   ],
   "source": [
    "# si se tienen cadenas con números se pueden convertir a números\n",
    "\n",
    "cadenas_num = np.array(['1.25', '-9.6', '42'], dtype = np.string_)\n",
    "cadenas_num.astype(float)"
   ],
   "metadata": {
    "collapsed": false,
    "ExecuteTime": {
     "end_time": "2024-02-01T14:37:27.220030900Z",
     "start_time": "2024-02-01T14:37:26.772602Z"
    }
   },
   "id": "885fd0fb1b29e072",
   "execution_count": 26
  },
  {
   "cell_type": "markdown",
   "source": [
    "### Aritmética con arreglos Numpy\n",
    "\n",
    "Los arreglos son importantes porque permiten expresar operaciones en datos sin escribir loops, esto se llama **vectorización**"
   ],
   "metadata": {
    "collapsed": false
   },
   "id": "4f3ddcae1599894d"
  },
  {
   "cell_type": "code",
   "outputs": [
    {
     "data": {
      "text/plain": "array([[1., 2., 3.],\n       [4., 5., 6.]])"
     },
     "execution_count": 27,
     "metadata": {},
     "output_type": "execute_result"
    }
   ],
   "source": [
    "arr = np.array([[1., 2., 3.],\n",
    "               [4., 5., 6.]])\n",
    "arr"
   ],
   "metadata": {
    "collapsed": false,
    "ExecuteTime": {
     "end_time": "2024-02-01T14:37:27.223579700Z",
     "start_time": "2024-02-01T14:37:26.778934Z"
    }
   },
   "id": "22dc1e7ef1e06b21",
   "execution_count": 27
  },
  {
   "cell_type": "code",
   "outputs": [
    {
     "data": {
      "text/plain": "array([[ 1.,  4.,  9.],\n       [16., 25., 36.]])"
     },
     "execution_count": 28,
     "metadata": {},
     "output_type": "execute_result"
    }
   ],
   "source": [
    "arr * arr"
   ],
   "metadata": {
    "collapsed": false,
    "ExecuteTime": {
     "end_time": "2024-02-01T14:37:27.250142900Z",
     "start_time": "2024-02-01T14:37:26.793404300Z"
    }
   },
   "id": "73f9fdfee55de78b",
   "execution_count": 28
  },
  {
   "cell_type": "code",
   "outputs": [
    {
     "data": {
      "text/plain": "array([[0., 0., 0.],\n       [0., 0., 0.]])"
     },
     "execution_count": 29,
     "metadata": {},
     "output_type": "execute_result"
    }
   ],
   "source": [
    "arr - arr"
   ],
   "metadata": {
    "collapsed": false,
    "ExecuteTime": {
     "end_time": "2024-02-01T14:37:27.256762200Z",
     "start_time": "2024-02-01T14:37:26.798461100Z"
    }
   },
   "id": "e3e4ae791dbafe3f",
   "execution_count": 29
  },
  {
   "cell_type": "code",
   "outputs": [
    {
     "data": {
      "text/plain": "array([[1.    , 0.5   , 0.3333],\n       [0.25  , 0.2   , 0.1667]])"
     },
     "execution_count": 30,
     "metadata": {},
     "output_type": "execute_result"
    }
   ],
   "source": [
    "1 / arr"
   ],
   "metadata": {
    "collapsed": false,
    "ExecuteTime": {
     "end_time": "2024-02-01T14:37:27.278133400Z",
     "start_time": "2024-02-01T14:37:26.806188800Z"
    }
   },
   "id": "900678f27bc27666",
   "execution_count": 30
  },
  {
   "cell_type": "code",
   "outputs": [
    {
     "data": {
      "text/plain": "array([[ 1.,  4.,  9.],\n       [16., 25., 36.]])"
     },
     "execution_count": 31,
     "metadata": {},
     "output_type": "execute_result"
    }
   ],
   "source": [
    "arr ** 2"
   ],
   "metadata": {
    "collapsed": false,
    "ExecuteTime": {
     "end_time": "2024-02-01T14:37:27.300578800Z",
     "start_time": "2024-02-01T14:37:26.809094100Z"
    }
   },
   "id": "cacc46bbe707e3fa",
   "execution_count": 31
  },
  {
   "cell_type": "code",
   "outputs": [
    {
     "data": {
      "text/plain": "array([[ 0.,  4.,  1.],\n       [ 7.,  2., 12.]])"
     },
     "execution_count": 32,
     "metadata": {},
     "output_type": "execute_result"
    }
   ],
   "source": [
    "# se pueden hacer comparaciones entre arreglos\n",
    "\n",
    "arr2 = np.array([[0., 4., 1.], [7., 2., 12.]])\n",
    "arr2"
   ],
   "metadata": {
    "collapsed": false,
    "ExecuteTime": {
     "end_time": "2024-02-01T14:37:27.303579400Z",
     "start_time": "2024-02-01T14:37:26.817181900Z"
    }
   },
   "id": "63cfe46cecf14f8",
   "execution_count": 32
  },
  {
   "cell_type": "code",
   "outputs": [
    {
     "data": {
      "text/plain": "array([[ True, False,  True],\n       [False,  True, False]])"
     },
     "execution_count": 33,
     "metadata": {},
     "output_type": "execute_result"
    }
   ],
   "source": [
    "arr > arr2"
   ],
   "metadata": {
    "collapsed": false,
    "ExecuteTime": {
     "end_time": "2024-02-01T14:37:27.308273Z",
     "start_time": "2024-02-01T14:37:26.825120200Z"
    }
   },
   "id": "861567feed853a2a",
   "execution_count": 33
  },
  {
   "cell_type": "markdown",
   "source": [
    "Evaluar operaciones entre arreglos de diferentes tamaños se llama **broadcasting**.\n",
    "\n",
    "### Indices básicos y deslizamiento\n",
    "\n",
    "Los arreglos de una dimensión son similares a una lista"
   ],
   "metadata": {
    "collapsed": false
   },
   "id": "1726e042ad186241"
  },
  {
   "cell_type": "code",
   "outputs": [
    {
     "data": {
      "text/plain": "array([0, 1, 2, 3, 4, 5, 6, 7, 8, 9])"
     },
     "execution_count": 34,
     "metadata": {},
     "output_type": "execute_result"
    }
   ],
   "source": [
    "arr = np.arange(10)\n",
    "\n",
    "arr"
   ],
   "metadata": {
    "collapsed": false,
    "ExecuteTime": {
     "end_time": "2024-02-01T14:37:27.312274800Z",
     "start_time": "2024-02-01T14:37:26.831165800Z"
    }
   },
   "id": "57f9edf503f2f907",
   "execution_count": 34
  },
  {
   "cell_type": "code",
   "outputs": [
    {
     "data": {
      "text/plain": "5"
     },
     "execution_count": 35,
     "metadata": {},
     "output_type": "execute_result"
    }
   ],
   "source": [
    "arr[5]"
   ],
   "metadata": {
    "collapsed": false,
    "ExecuteTime": {
     "end_time": "2024-02-01T14:37:27.330136Z",
     "start_time": "2024-02-01T14:37:26.834069200Z"
    }
   },
   "id": "169b8a35f6e62d9f",
   "execution_count": 35
  },
  {
   "cell_type": "code",
   "outputs": [
    {
     "data": {
      "text/plain": "array([5, 6, 7])"
     },
     "execution_count": 36,
     "metadata": {},
     "output_type": "execute_result"
    }
   ],
   "source": [
    "arr[5:8]"
   ],
   "metadata": {
    "collapsed": false,
    "ExecuteTime": {
     "end_time": "2024-02-01T14:37:27.333136100Z",
     "start_time": "2024-02-01T14:37:26.842640300Z"
    }
   },
   "id": "dd2bcaabfc189f47",
   "execution_count": 36
  },
  {
   "cell_type": "code",
   "outputs": [
    {
     "data": {
      "text/plain": "array([ 0,  1,  2,  3,  4, 12, 12, 12,  8,  9])"
     },
     "execution_count": 37,
     "metadata": {},
     "output_type": "execute_result"
    }
   ],
   "source": [
    "arr[5:8] = 12\n",
    "arr\n",
    "\n",
    "# cualquier deslizamiento es una vista del arreglo original, los datos no son copiados\n",
    "# cualquier modificación a la vista se verá reflejada en el arreglo de origen"
   ],
   "metadata": {
    "collapsed": false,
    "ExecuteTime": {
     "end_time": "2024-02-01T14:37:27.349010700Z",
     "start_time": "2024-02-01T14:37:26.849026Z"
    }
   },
   "id": "7f5f50b0b197d998",
   "execution_count": 37
  },
  {
   "cell_type": "code",
   "outputs": [
    {
     "data": {
      "text/plain": "array([12, 12, 12])"
     },
     "execution_count": 38,
     "metadata": {},
     "output_type": "execute_result"
    }
   ],
   "source": [
    "arr_desliz = arr[5:8]\n",
    "arr_desliz"
   ],
   "metadata": {
    "collapsed": false,
    "ExecuteTime": {
     "end_time": "2024-02-01T14:37:27.361829Z",
     "start_time": "2024-02-01T14:37:26.854734900Z"
    }
   },
   "id": "3027b0a05b884823",
   "execution_count": 38
  },
  {
   "cell_type": "code",
   "outputs": [
    {
     "data": {
      "text/plain": "array([    0,     1,     2,     3,     4,    12, 12345,    12,     8,\n           9])"
     },
     "execution_count": 39,
     "metadata": {},
     "output_type": "execute_result"
    }
   ],
   "source": [
    "arr_desliz[1] = 12345\n",
    "arr"
   ],
   "metadata": {
    "collapsed": false,
    "ExecuteTime": {
     "end_time": "2024-02-01T14:37:27.364973200Z",
     "start_time": "2024-02-01T14:37:26.862048300Z"
    }
   },
   "id": "29abfd94586cfa78",
   "execution_count": 39
  },
  {
   "cell_type": "code",
   "outputs": [
    {
     "data": {
      "text/plain": "array([ 0,  1,  2,  3,  4, 64, 64, 64,  8,  9])"
     },
     "execution_count": 40,
     "metadata": {},
     "output_type": "execute_result"
    }
   ],
   "source": [
    "# [:] selecciona todos los valores\n",
    "\n",
    "arr_desliz[:] = 64\n",
    "arr"
   ],
   "metadata": {
    "collapsed": false,
    "ExecuteTime": {
     "end_time": "2024-02-01T14:37:27.384716Z",
     "start_time": "2024-02-01T14:37:26.865962Z"
    }
   },
   "id": "6ac5bcad64629b29",
   "execution_count": 40
  },
  {
   "cell_type": "code",
   "outputs": [
    {
     "data": {
      "text/plain": "array([ 0,  1,  2,  3,  4, 64, 64, 64,  8,  9])"
     },
     "execution_count": 41,
     "metadata": {},
     "output_type": "execute_result"
    }
   ],
   "source": [
    "arr"
   ],
   "metadata": {
    "collapsed": false,
    "ExecuteTime": {
     "end_time": "2024-02-01T14:37:27.394249100Z",
     "start_time": "2024-02-01T14:37:26.874342700Z"
    }
   },
   "id": "c074c7f4cda51d11",
   "execution_count": 41
  },
  {
   "cell_type": "markdown",
   "source": [
    "Con más de una dimensión se tiene más opciones. Los elementos de cada índice ya no son escalares, son arreglos de una dimensión "
   ],
   "metadata": {
    "collapsed": false
   },
   "id": "8f948808058f09ae"
  },
  {
   "cell_type": "code",
   "outputs": [
    {
     "data": {
      "text/plain": "array([7, 8, 9])"
     },
     "execution_count": 42,
     "metadata": {},
     "output_type": "execute_result"
    }
   ],
   "source": [
    "arr2d = np.array([[1, 2, 3], [4, 5, 6], [7, 8, 9]])\n",
    "arr2d[2]"
   ],
   "metadata": {
    "collapsed": false,
    "ExecuteTime": {
     "end_time": "2024-02-01T14:37:27.397801600Z",
     "start_time": "2024-02-01T14:37:26.879874300Z"
    }
   },
   "id": "d236c28022783545",
   "execution_count": 42
  },
  {
   "cell_type": "code",
   "outputs": [
    {
     "data": {
      "text/plain": "3"
     },
     "execution_count": 43,
     "metadata": {},
     "output_type": "execute_result"
    }
   ],
   "source": [
    "# se puede seleccionar los elementos con comas\n",
    "\n",
    "arr2d[0, 2]"
   ],
   "metadata": {
    "collapsed": false,
    "ExecuteTime": {
     "end_time": "2024-02-01T14:37:27.407622800Z",
     "start_time": "2024-02-01T14:37:26.886674500Z"
    }
   },
   "id": "dfc9569e8e2946b2",
   "execution_count": 43
  },
  {
   "cell_type": "code",
   "outputs": [
    {
     "data": {
      "text/plain": "array([[[ 1,  2,  3],\n        [ 4,  5,  6]],\n\n       [[ 7,  8,  9],\n        [10, 11, 12]]])"
     },
     "execution_count": 44,
     "metadata": {},
     "output_type": "execute_result"
    }
   ],
   "source": [
    "arr3d = np.array([[[1, 2, 3], [4, 5, 6]], [[7, 8, 9], [10, 11, 12]]])\n",
    "\n",
    "arr3d"
   ],
   "metadata": {
    "collapsed": false,
    "ExecuteTime": {
     "end_time": "2024-02-01T14:37:27.411748800Z",
     "start_time": "2024-02-01T14:37:26.891412300Z"
    }
   },
   "id": "9aa806a689204b77",
   "execution_count": 44
  },
  {
   "cell_type": "code",
   "outputs": [
    {
     "data": {
      "text/plain": "array([[1, 2, 3],\n       [4, 5, 6]])"
     },
     "execution_count": 45,
     "metadata": {},
     "output_type": "execute_result"
    }
   ],
   "source": [
    "arr3d[0]"
   ],
   "metadata": {
    "collapsed": false,
    "ExecuteTime": {
     "end_time": "2024-02-01T14:37:27.414792400Z",
     "start_time": "2024-02-01T14:37:26.914359300Z"
    }
   },
   "id": "f618adee64a199be",
   "execution_count": 45
  },
  {
   "cell_type": "code",
   "outputs": [
    {
     "data": {
      "text/plain": "array([[[42, 42, 42],\n        [42, 42, 42]],\n\n       [[ 7,  8,  9],\n        [10, 11, 12]]])"
     },
     "execution_count": 46,
     "metadata": {},
     "output_type": "execute_result"
    }
   ],
   "source": [
    "# escalares y arreglos se pueden asignar a arr3d[0]\n",
    "\n",
    "valores_viejos = arr3d[0].copy()\n",
    "\n",
    "arr3d[0] = 42\n",
    "arr3d"
   ],
   "metadata": {
    "collapsed": false,
    "ExecuteTime": {
     "end_time": "2024-02-01T14:37:27.419430300Z",
     "start_time": "2024-02-01T14:37:26.915488600Z"
    }
   },
   "id": "2c860e2b07fa7a4c",
   "execution_count": 46
  },
  {
   "cell_type": "code",
   "outputs": [
    {
     "data": {
      "text/plain": "array([[[ 1,  2,  3],\n        [ 4,  5,  6]],\n\n       [[ 7,  8,  9],\n        [10, 11, 12]]])"
     },
     "execution_count": 47,
     "metadata": {},
     "output_type": "execute_result"
    }
   ],
   "source": [
    "arr3d[0] = valores_viejos\n",
    "arr3d"
   ],
   "metadata": {
    "collapsed": false,
    "ExecuteTime": {
     "end_time": "2024-02-01T14:37:27.428822900Z",
     "start_time": "2024-02-01T14:37:26.915488600Z"
    }
   },
   "id": "5aa556248140b227",
   "execution_count": 47
  },
  {
   "cell_type": "code",
   "outputs": [
    {
     "data": {
      "text/plain": "array([7, 8, 9])"
     },
     "execution_count": 48,
     "metadata": {},
     "output_type": "execute_result"
    }
   ],
   "source": [
    "# arr3d[1, 0] da los valores los cuales lo indices empiezan con (1, 0)\n",
    "\n",
    "arr3d[1, 0]"
   ],
   "metadata": {
    "collapsed": false,
    "ExecuteTime": {
     "end_time": "2024-02-01T14:37:27.438700400Z",
     "start_time": "2024-02-01T14:37:26.917995Z"
    }
   },
   "id": "6a0cfd058dc168fc",
   "execution_count": 48
  },
  {
   "cell_type": "code",
   "outputs": [
    {
     "data": {
      "text/plain": "array([[ 7,  8,  9],\n       [10, 11, 12]])"
     },
     "execution_count": 49,
     "metadata": {},
     "output_type": "execute_result"
    }
   ],
   "source": [
    "# sería igual a\n",
    "\n",
    "x = arr3d[1]\n",
    "x"
   ],
   "metadata": {
    "collapsed": false,
    "ExecuteTime": {
     "end_time": "2024-02-01T14:37:27.442767400Z",
     "start_time": "2024-02-01T14:37:26.923879200Z"
    }
   },
   "id": "cbc08573097a2097",
   "execution_count": 49
  },
  {
   "cell_type": "code",
   "outputs": [
    {
     "data": {
      "text/plain": "array([7, 8, 9])"
     },
     "execution_count": 50,
     "metadata": {},
     "output_type": "execute_result"
    }
   ],
   "source": [
    "x[0]\n",
    "\n",
    "# esta forma de indexar no funciona con objetos regulares de Python como listas de listas"
   ],
   "metadata": {
    "collapsed": false,
    "ExecuteTime": {
     "end_time": "2024-02-01T14:37:27.445877200Z",
     "start_time": "2024-02-01T14:37:26.930906700Z"
    }
   },
   "id": "a9c37dadbcecf006",
   "execution_count": 50
  },
  {
   "cell_type": "markdown",
   "source": [
    "##### Indexando con deslizamiento\n",
    "\n",
    "Los ndarrays pueden ser deslizados con una sintaxis familiar"
   ],
   "metadata": {
    "collapsed": false
   },
   "id": "99f8967832fb62c8"
  },
  {
   "cell_type": "code",
   "outputs": [
    {
     "data": {
      "text/plain": "array([ 0,  1,  2,  3,  4, 64, 64, 64,  8,  9])"
     },
     "execution_count": 51,
     "metadata": {},
     "output_type": "execute_result"
    }
   ],
   "source": [
    "arr"
   ],
   "metadata": {
    "collapsed": false,
    "ExecuteTime": {
     "end_time": "2024-02-01T14:37:27.450025100Z",
     "start_time": "2024-02-01T14:37:26.937826900Z"
    }
   },
   "id": "aecd107678d4850b",
   "execution_count": 51
  },
  {
   "cell_type": "code",
   "outputs": [
    {
     "data": {
      "text/plain": "array([ 1,  2,  3,  4, 64])"
     },
     "execution_count": 52,
     "metadata": {},
     "output_type": "execute_result"
    }
   ],
   "source": [
    "arr[1:6]"
   ],
   "metadata": {
    "collapsed": false,
    "ExecuteTime": {
     "end_time": "2024-02-01T14:37:27.459732800Z",
     "start_time": "2024-02-01T14:37:26.943634700Z"
    }
   },
   "id": "9258c83c89d0c363",
   "execution_count": 52
  },
  {
   "cell_type": "code",
   "outputs": [
    {
     "data": {
      "text/plain": "array([[1, 2, 3],\n       [4, 5, 6],\n       [7, 8, 9]])"
     },
     "execution_count": 53,
     "metadata": {},
     "output_type": "execute_result"
    }
   ],
   "source": [
    "# para uno de dos dimensiones es algo diferente\n",
    "\n",
    "arr2d"
   ],
   "metadata": {
    "collapsed": false,
    "ExecuteTime": {
     "end_time": "2024-02-01T14:37:27.864332200Z",
     "start_time": "2024-02-01T14:37:26.951145700Z"
    }
   },
   "id": "5ef175c78e7fa8c1",
   "execution_count": 53
  },
  {
   "cell_type": "code",
   "outputs": [
    {
     "data": {
      "text/plain": "array([[1, 2, 3],\n       [4, 5, 6]])"
     },
     "execution_count": 54,
     "metadata": {},
     "output_type": "execute_result"
    }
   ],
   "source": [
    "arr2d[:2] # desliza en el eje 0, selecciona las primeras dos filas del arreglo"
   ],
   "metadata": {
    "collapsed": false,
    "ExecuteTime": {
     "end_time": "2024-02-01T14:37:27.868142100Z",
     "start_time": "2024-02-01T14:37:26.956672Z"
    }
   },
   "id": "ad07964e1cd8aa7c",
   "execution_count": 54
  },
  {
   "cell_type": "code",
   "outputs": [
    {
     "data": {
      "text/plain": "array([[2, 3],\n       [5, 6]])"
     },
     "execution_count": 55,
     "metadata": {},
     "output_type": "execute_result"
    }
   ],
   "source": [
    "# se pueden pasar multiples deslizamientos \n",
    "\n",
    "arr2d[:2, 1:]"
   ],
   "metadata": {
    "collapsed": false,
    "ExecuteTime": {
     "end_time": "2024-02-01T14:37:27.919963600Z",
     "start_time": "2024-02-01T14:37:26.962030200Z"
    }
   },
   "id": "58a26dc0dde497be",
   "execution_count": 55
  },
  {
   "cell_type": "code",
   "outputs": [
    {
     "data": {
      "text/plain": "array([[2, 3],\n       [5, 6]])"
     },
     "execution_count": 56,
     "metadata": {},
     "output_type": "execute_result"
    }
   ],
   "source": [
    "# se crean vistas de menor dimensión\n",
    "\n",
    "arr2d[:2, 1:]"
   ],
   "metadata": {
    "collapsed": false,
    "ExecuteTime": {
     "end_time": "2024-02-01T14:37:27.923532600Z",
     "start_time": "2024-02-01T14:37:26.977829900Z"
    }
   },
   "id": "c13b8d8cf8f6ea3d",
   "execution_count": 56
  },
  {
   "cell_type": "code",
   "outputs": [
    {
     "data": {
      "text/plain": "array([4, 5])"
     },
     "execution_count": 57,
     "metadata": {},
     "output_type": "execute_result"
    }
   ],
   "source": [
    "arr2d[1, :2]"
   ],
   "metadata": {
    "collapsed": false,
    "ExecuteTime": {
     "end_time": "2024-02-01T14:37:27.941820600Z",
     "start_time": "2024-02-01T14:37:26.985318500Z"
    }
   },
   "id": "1b0dff448f94d2fe",
   "execution_count": 57
  },
  {
   "cell_type": "code",
   "outputs": [
    {
     "data": {
      "text/plain": "array([3, 6])"
     },
     "execution_count": 58,
     "metadata": {},
     "output_type": "execute_result"
    }
   ],
   "source": [
    "# seleccionar la tercera columna y solo las primeras dos filas\n",
    "\n",
    "arr2d[:2, 2]"
   ],
   "metadata": {
    "collapsed": false,
    "ExecuteTime": {
     "end_time": "2024-02-01T14:37:27.945820400Z",
     "start_time": "2024-02-01T14:37:26.990063600Z"
    }
   },
   "id": "591d63efcb314bd2",
   "execution_count": 58
  },
  {
   "cell_type": "code",
   "outputs": [
    {
     "data": {
      "text/plain": "array([[1],\n       [4],\n       [7]])"
     },
     "execution_count": 59,
     "metadata": {},
     "output_type": "execute_result"
    }
   ],
   "source": [
    "# se puede diferentes dimensiones\n",
    "\n",
    "arr2d[:, :1]"
   ],
   "metadata": {
    "collapsed": false,
    "ExecuteTime": {
     "end_time": "2024-02-01T14:37:27.956830100Z",
     "start_time": "2024-02-01T14:37:26.995572300Z"
    }
   },
   "id": "e1c1ec07813203e4",
   "execution_count": 59
  },
  {
   "cell_type": "code",
   "outputs": [
    {
     "data": {
      "text/plain": "array([[1, 0, 0],\n       [4, 0, 0],\n       [7, 8, 9]])"
     },
     "execution_count": 60,
     "metadata": {},
     "output_type": "execute_result"
    }
   ],
   "source": [
    "# asignar una escalar asigna toda la sección\n",
    "\n",
    "arr2d[:2, 1:] = 0\n",
    "arr2d"
   ],
   "metadata": {
    "collapsed": false,
    "ExecuteTime": {
     "end_time": "2024-02-01T14:37:27.960848200Z",
     "start_time": "2024-02-01T14:37:27.002388Z"
    }
   },
   "id": "71c6f219992433f",
   "execution_count": 60
  },
  {
   "cell_type": "markdown",
   "source": [
    "### Indexamiento booleano\n",
    "\n",
    "Consideremos cuando por ejemplo, tenemos datos en un arreglo y un arreglo con nombres duplicados"
   ],
   "metadata": {
    "collapsed": false
   },
   "id": "a92c794248869fe8"
  },
  {
   "cell_type": "code",
   "outputs": [
    {
     "data": {
      "text/plain": "array(['Bob', 'Joe', 'Will', 'Bob', 'Will', 'Joe', 'Joe'], dtype='<U4')"
     },
     "execution_count": 61,
     "metadata": {},
     "output_type": "execute_result"
    }
   ],
   "source": [
    "names = np.array([\"Bob\", \"Joe\", \"Will\", \"Bob\", \"Will\", \"Joe\", \"Joe\"])\n",
    "data = np.array([[4, 7], [0, 2], [-5, 6], [0, 0], [1, 2],\n",
    "                 [-12, -4], [3, 4]])\n",
    "\n",
    "names"
   ],
   "metadata": {
    "collapsed": false,
    "ExecuteTime": {
     "end_time": "2024-02-01T14:37:27.973039500Z",
     "start_time": "2024-02-01T14:37:27.008692500Z"
    }
   },
   "id": "290a0aaf99a2c508",
   "execution_count": 61
  },
  {
   "cell_type": "code",
   "outputs": [
    {
     "data": {
      "text/plain": "array([[  4,   7],\n       [  0,   2],\n       [ -5,   6],\n       [  0,   0],\n       [  1,   2],\n       [-12,  -4],\n       [  3,   4]])"
     },
     "execution_count": 62,
     "metadata": {},
     "output_type": "execute_result"
    }
   ],
   "source": [
    "data"
   ],
   "metadata": {
    "collapsed": false,
    "ExecuteTime": {
     "end_time": "2024-02-01T14:37:27.980563800Z",
     "start_time": "2024-02-01T14:37:27.013664800Z"
    }
   },
   "id": "bd5ffd79d4cf020f",
   "execution_count": 62
  },
  {
   "cell_type": "markdown",
   "source": [
    "Cada nombre corresponde a una fila en el arreglo y queremos seleccionar las filas que correspondan al nombre 'Bob'"
   ],
   "metadata": {
    "collapsed": false
   },
   "id": "24ad831972c86b84"
  },
  {
   "cell_type": "code",
   "outputs": [
    {
     "data": {
      "text/plain": "array([ True, False, False,  True, False, False, False])"
     },
     "execution_count": 63,
     "metadata": {},
     "output_type": "execute_result"
    }
   ],
   "source": [
    "names == 'Bob'"
   ],
   "metadata": {
    "collapsed": false,
    "ExecuteTime": {
     "end_time": "2024-02-01T14:37:27.993768Z",
     "start_time": "2024-02-01T14:37:27.016618Z"
    }
   },
   "id": "c5eebc4d133859f7",
   "execution_count": 63
  },
  {
   "cell_type": "code",
   "outputs": [
    {
     "data": {
      "text/plain": "array([[4, 7],\n       [0, 0]])"
     },
     "execution_count": 64,
     "metadata": {},
     "output_type": "execute_result"
    }
   ],
   "source": [
    "data[names == 'Bob']"
   ],
   "metadata": {
    "collapsed": false,
    "ExecuteTime": {
     "end_time": "2024-02-01T14:37:27.997876Z",
     "start_time": "2024-02-01T14:37:27.022790500Z"
    }
   },
   "id": "4c21c26d61a8c798",
   "execution_count": 64
  },
  {
   "cell_type": "markdown",
   "source": [
    "El arreglo booleano tiene que ser de la misma longitúd del arreglo que está indexando, se pueden combinar arreglos booleanos con deslizamiento o enteros.\n",
    "\n",
    "Por ejemplo donde el nombre sea Bob y el indice de la columna"
   ],
   "metadata": {
    "collapsed": false
   },
   "id": "9232ed844a43de0"
  },
  {
   "cell_type": "code",
   "outputs": [
    {
     "data": {
      "text/plain": "array([[7],\n       [0]])"
     },
     "execution_count": 65,
     "metadata": {},
     "output_type": "execute_result"
    }
   ],
   "source": [
    "data[names == 'Bob', 1:]"
   ],
   "metadata": {
    "collapsed": false,
    "ExecuteTime": {
     "end_time": "2024-02-01T14:37:28.012466Z",
     "start_time": "2024-02-01T14:37:27.025054100Z"
    }
   },
   "id": "bc5aea4cdb2b831b",
   "execution_count": 65
  },
  {
   "cell_type": "code",
   "outputs": [
    {
     "data": {
      "text/plain": "array([7, 0])"
     },
     "execution_count": 66,
     "metadata": {},
     "output_type": "execute_result"
    }
   ],
   "source": [
    "data[names == 'Bob', 1]"
   ],
   "metadata": {
    "collapsed": false,
    "ExecuteTime": {
     "end_time": "2024-02-01T14:37:28.015518600Z",
     "start_time": "2024-02-01T14:37:27.029603100Z"
    }
   },
   "id": "e5b9d7f0139f21a8",
   "execution_count": 66
  },
  {
   "cell_type": "code",
   "outputs": [
    {
     "data": {
      "text/plain": "array([False,  True,  True, False,  True,  True,  True])"
     },
     "execution_count": 67,
     "metadata": {},
     "output_type": "execute_result"
    }
   ],
   "source": [
    "# para seleccionar excepto Bob se puede usar != o ~:\n",
    "\n",
    "names!= 'Bob'"
   ],
   "metadata": {
    "collapsed": false,
    "ExecuteTime": {
     "end_time": "2024-02-01T14:37:28.030122500Z",
     "start_time": "2024-02-01T14:37:27.035362900Z"
    }
   },
   "id": "ce0b482762576ccb",
   "execution_count": 67
  },
  {
   "cell_type": "code",
   "outputs": [
    {
     "data": {
      "text/plain": "array([False,  True,  True, False,  True,  True,  True])"
     },
     "execution_count": 68,
     "metadata": {},
     "output_type": "execute_result"
    }
   ],
   "source": [
    "~(names == 'Bob')"
   ],
   "metadata": {
    "collapsed": false,
    "ExecuteTime": {
     "end_time": "2024-02-01T14:37:28.034301800Z",
     "start_time": "2024-02-01T14:37:27.038525800Z"
    }
   },
   "id": "70a17e7697c0edbd",
   "execution_count": 68
  },
  {
   "cell_type": "code",
   "outputs": [
    {
     "data": {
      "text/plain": "array([[  0,   2],\n       [ -5,   6],\n       [  1,   2],\n       [-12,  -4],\n       [  3,   4]])"
     },
     "execution_count": 69,
     "metadata": {},
     "output_type": "execute_result"
    }
   ],
   "source": [
    "data[~(names == 'Bob')]"
   ],
   "metadata": {
    "collapsed": false,
    "ExecuteTime": {
     "end_time": "2024-02-01T14:37:28.047580100Z",
     "start_time": "2024-02-01T14:37:27.043659400Z"
    }
   },
   "id": "39e30ca44612f061",
   "execution_count": 69
  },
  {
   "cell_type": "code",
   "outputs": [
    {
     "data": {
      "text/plain": "array([[  0,   2],\n       [ -5,   6],\n       [  1,   2],\n       [-12,  -4],\n       [  3,   4]])"
     },
     "execution_count": 70,
     "metadata": {},
     "output_type": "execute_result"
    }
   ],
   "source": [
    "cond = names == 'Bob'\n",
    "data[~cond]"
   ],
   "metadata": {
    "collapsed": false,
    "ExecuteTime": {
     "end_time": "2024-02-01T14:37:28.050580700Z",
     "start_time": "2024-02-01T14:37:27.049768500Z"
    }
   },
   "id": "cadf4c2e4070ea6e",
   "execution_count": 70
  },
  {
   "cell_type": "code",
   "outputs": [
    {
     "data": {
      "text/plain": "array([ True, False,  True,  True,  True, False, False])"
     },
     "execution_count": 71,
     "metadata": {},
     "output_type": "execute_result"
    }
   ],
   "source": [
    "# Para seleccionar dos o tres nombres usamos las condicionales booleanas\n",
    "\n",
    "mask = (names == 'Bob') | (names == 'Will')\n",
    "mask"
   ],
   "metadata": {
    "collapsed": false,
    "ExecuteTime": {
     "end_time": "2024-02-01T14:37:28.062088600Z",
     "start_time": "2024-02-01T14:37:27.054962Z"
    }
   },
   "id": "e12963877d467895",
   "execution_count": 71
  },
  {
   "cell_type": "code",
   "outputs": [
    {
     "data": {
      "text/plain": "array([[ 4,  7],\n       [-5,  6],\n       [ 0,  0],\n       [ 1,  2]])"
     },
     "execution_count": 72,
     "metadata": {},
     "output_type": "execute_result"
    }
   ],
   "source": [
    "data[mask]"
   ],
   "metadata": {
    "collapsed": false,
    "ExecuteTime": {
     "end_time": "2024-02-01T14:37:28.081272Z",
     "start_time": "2024-02-01T14:37:27.059865500Z"
    }
   },
   "id": "71c4711076fd22d8",
   "execution_count": 72
  },
  {
   "cell_type": "markdown",
   "source": [
    "Seleccionar datos de un arreglo por booleano indexando y asignando el resultado siempre crea una copia de los datos.\n",
    "\n",
    "Estableciendo valor con un arreglo booleano funciona dando el valor a la derecha donde los resultados sean `True`"
   ],
   "metadata": {
    "collapsed": false
   },
   "id": "263efdeb8e901bad"
  },
  {
   "cell_type": "code",
   "outputs": [
    {
     "data": {
      "text/plain": "array([[4, 7],\n       [0, 2],\n       [0, 6],\n       [0, 0],\n       [1, 2],\n       [0, 0],\n       [3, 4]])"
     },
     "execution_count": 73,
     "metadata": {},
     "output_type": "execute_result"
    }
   ],
   "source": [
    "data[data < 0] = 0\n",
    "data"
   ],
   "metadata": {
    "collapsed": false,
    "ExecuteTime": {
     "end_time": "2024-02-01T14:37:28.093008Z",
     "start_time": "2024-02-01T14:37:27.066031500Z"
    }
   },
   "id": "600fc11b2258421b",
   "execution_count": 73
  },
  {
   "cell_type": "code",
   "outputs": [
    {
     "data": {
      "text/plain": "array([[7, 7],\n       [0, 2],\n       [7, 7],\n       [7, 7],\n       [7, 7],\n       [0, 0],\n       [3, 4]])"
     },
     "execution_count": 74,
     "metadata": {},
     "output_type": "execute_result"
    }
   ],
   "source": [
    "data[names != 'Joe'] = 7\n",
    "data"
   ],
   "metadata": {
    "collapsed": false,
    "ExecuteTime": {
     "end_time": "2024-02-01T14:37:28.097943Z",
     "start_time": "2024-02-01T14:37:27.070439400Z"
    }
   },
   "id": "e31a45b51bc9e46b",
   "execution_count": 74
  },
  {
   "cell_type": "markdown",
   "source": [
    "### Indexamiento fancy\n",
    "\n",
    "Este término describe indexamiento usando arreglos de enteros"
   ],
   "metadata": {
    "collapsed": false
   },
   "id": "f0b53659870bb62"
  },
  {
   "cell_type": "code",
   "outputs": [
    {
     "data": {
      "text/plain": "array([[0., 0., 0., 0.],\n       [1., 1., 1., 1.],\n       [2., 2., 2., 2.],\n       [3., 3., 3., 3.],\n       [4., 4., 4., 4.],\n       [5., 5., 5., 5.],\n       [6., 6., 6., 6.],\n       [7., 7., 7., 7.]])"
     },
     "execution_count": 75,
     "metadata": {},
     "output_type": "execute_result"
    }
   ],
   "source": [
    "arr = np.zeros((8, 4))\n",
    "\n",
    "for i in range(8):\n",
    "    arr[i] = i\n",
    "\n",
    "arr"
   ],
   "metadata": {
    "collapsed": false,
    "ExecuteTime": {
     "end_time": "2024-02-01T14:37:28.110962900Z",
     "start_time": "2024-02-01T14:37:27.075254600Z"
    }
   },
   "id": "eddaef30ea2c8e0f",
   "execution_count": 75
  },
  {
   "cell_type": "code",
   "outputs": [
    {
     "data": {
      "text/plain": "array([[4., 4., 4., 4.],\n       [3., 3., 3., 3.],\n       [0., 0., 0., 0.],\n       [6., 6., 6., 6.]])"
     },
     "execution_count": 76,
     "metadata": {},
     "output_type": "execute_result"
    }
   ],
   "source": [
    "arr[[4, 3, 0, 6]]"
   ],
   "metadata": {
    "collapsed": false,
    "ExecuteTime": {
     "end_time": "2024-02-01T14:37:28.115145700Z",
     "start_time": "2024-02-01T14:37:27.081980700Z"
    }
   },
   "id": "247ae0406ae57234",
   "execution_count": 76
  },
  {
   "cell_type": "code",
   "outputs": [
    {
     "data": {
      "text/plain": "array([[5., 5., 5., 5.],\n       [3., 3., 3., 3.],\n       [1., 1., 1., 1.]])"
     },
     "execution_count": 77,
     "metadata": {},
     "output_type": "execute_result"
    }
   ],
   "source": [
    "# usando indices negativos seleccionamos filas del final\n",
    "\n",
    "arr[[-3, -5, -7]]"
   ],
   "metadata": {
    "collapsed": false,
    "ExecuteTime": {
     "end_time": "2024-02-01T14:37:28.130098800Z",
     "start_time": "2024-02-01T14:37:27.085243900Z"
    }
   },
   "id": "282ab60054065a6e",
   "execution_count": 77
  },
  {
   "cell_type": "code",
   "outputs": [
    {
     "data": {
      "text/plain": "array([[ 0,  1,  2,  3],\n       [ 4,  5,  6,  7],\n       [ 8,  9, 10, 11],\n       [12, 13, 14, 15],\n       [16, 17, 18, 19],\n       [20, 21, 22, 23],\n       [24, 25, 26, 27],\n       [28, 29, 30, 31]])"
     },
     "execution_count": 78,
     "metadata": {},
     "output_type": "execute_result"
    }
   ],
   "source": [
    "# pasando multiples arreglos de indice hace algo diferente\n",
    "\n",
    "arr = np.arange(32).reshape((8, 4))\n",
    "arr"
   ],
   "metadata": {
    "collapsed": false,
    "ExecuteTime": {
     "end_time": "2024-02-01T14:37:28.133191200Z",
     "start_time": "2024-02-01T14:37:27.091986100Z"
    }
   },
   "id": "6d03f2f1ffa36e04",
   "execution_count": 78
  },
  {
   "cell_type": "code",
   "outputs": [
    {
     "data": {
      "text/plain": "array([ 4, 23, 29, 10])"
     },
     "execution_count": 79,
     "metadata": {},
     "output_type": "execute_result"
    }
   ],
   "source": [
    "arr[[1, 5, 7, 2], [0, 3, 1, 2]]\n",
    "\n",
    "# se seleccionan los elementos (1, 0), (5, 3), (7, 1), (2, 2)"
   ],
   "metadata": {
    "collapsed": false,
    "ExecuteTime": {
     "end_time": "2024-02-01T14:37:28.148324600Z",
     "start_time": "2024-02-01T14:37:27.099388100Z"
    }
   },
   "id": "86a1bbe1ec2cb7df",
   "execution_count": 79
  },
  {
   "cell_type": "code",
   "outputs": [
    {
     "data": {
      "text/plain": "array([[ 4,  7,  5,  6],\n       [20, 23, 21, 22],\n       [28, 31, 29, 30],\n       [ 8, 11,  9, 10]])"
     },
     "execution_count": 80,
     "metadata": {},
     "output_type": "execute_result"
    }
   ],
   "source": [
    "arr[[1, 5, 7, 2]][:, [0, 3, 1, 2]]\n",
    "\n",
    "# Primero toma las filas del primer indexado, luego las columnas de la segunda lista"
   ],
   "metadata": {
    "collapsed": false,
    "ExecuteTime": {
     "end_time": "2024-02-01T14:37:28.180534400Z",
     "start_time": "2024-02-01T14:37:27.107264100Z"
    }
   },
   "id": "da1fd4291da99f77",
   "execution_count": 80
  },
  {
   "cell_type": "code",
   "outputs": [
    {
     "data": {
      "text/plain": "array([[ 0,  1,  2,  3],\n       [ 0,  5,  6,  7],\n       [ 8,  9,  0, 11],\n       [12, 13, 14, 15],\n       [16, 17, 18, 19],\n       [20, 21, 22,  0],\n       [24, 25, 26, 27],\n       [28,  0, 30, 31]])"
     },
     "execution_count": 81,
     "metadata": {},
     "output_type": "execute_result"
    }
   ],
   "source": [
    "# indexado fancy siempre copia los datos a un arreglo nuevo \n",
    "# si se asigna un valor al indexamiento los valores se cambiaran\n",
    "\n",
    "arr[[1, 5, 7, 2], [0, 3, 1, 2]] = 0\n",
    "arr"
   ],
   "metadata": {
    "collapsed": false,
    "ExecuteTime": {
     "end_time": "2024-02-01T14:37:28.196540100Z",
     "start_time": "2024-02-01T14:37:27.111511300Z"
    }
   },
   "id": "6344fa27d499249b",
   "execution_count": 81
  },
  {
   "cell_type": "markdown",
   "source": [
    "### Transpuesta de arreglos y cambiando ejes\n",
    "\n",
    "Transponer devuelve una vista de los datos sin copiar nada. Se hace con el método `transpose` y el atributo `T`."
   ],
   "metadata": {
    "collapsed": false
   },
   "id": "3c28f1fe5eece87c"
  },
  {
   "cell_type": "code",
   "outputs": [
    {
     "data": {
      "text/plain": "array([[ 0,  1,  2,  3,  4],\n       [ 5,  6,  7,  8,  9],\n       [10, 11, 12, 13, 14]])"
     },
     "execution_count": 82,
     "metadata": {},
     "output_type": "execute_result"
    }
   ],
   "source": [
    "arr = np.arange(15).reshape((3, 5))\n",
    "arr"
   ],
   "metadata": {
    "collapsed": false,
    "ExecuteTime": {
     "end_time": "2024-02-01T14:37:28.229176100Z",
     "start_time": "2024-02-01T14:37:27.126909300Z"
    }
   },
   "id": "3a8524f81b79ee19",
   "execution_count": 82
  },
  {
   "cell_type": "code",
   "outputs": [
    {
     "data": {
      "text/plain": "array([[ 0,  5, 10],\n       [ 1,  6, 11],\n       [ 2,  7, 12],\n       [ 3,  8, 13],\n       [ 4,  9, 14]])"
     },
     "execution_count": 83,
     "metadata": {},
     "output_type": "execute_result"
    }
   ],
   "source": [
    "arr.T"
   ],
   "metadata": {
    "collapsed": false,
    "ExecuteTime": {
     "end_time": "2024-02-01T14:37:28.233176600Z",
     "start_time": "2024-02-01T14:37:27.130481200Z"
    }
   },
   "id": "fc4adea6048c6350",
   "execution_count": 83
  },
  {
   "cell_type": "code",
   "outputs": [
    {
     "data": {
      "text/plain": "array([[ 0,  1,  0],\n       [ 1,  2, -2],\n       [ 6,  3,  2],\n       [-1,  0, -1],\n       [ 1,  0,  1]])"
     },
     "execution_count": 84,
     "metadata": {},
     "output_type": "execute_result"
    }
   ],
   "source": [
    "# se hace mucho en algebra matricial, por ejemplo para computar el producto interno usando numpy.dot\n",
    "\n",
    "arr = np.array([[0, 1, 0], [1, 2, -2], [6, 3, 2], [-1, 0, -1], [1, 0, 1]])\n",
    "arr"
   ],
   "metadata": {
    "collapsed": false,
    "ExecuteTime": {
     "end_time": "2024-02-01T14:37:28.248201900Z",
     "start_time": "2024-02-01T14:37:27.135961500Z"
    }
   },
   "id": "fd5c04f064a443d6",
   "execution_count": 84
  },
  {
   "cell_type": "code",
   "outputs": [
    {
     "data": {
      "text/plain": "array([[39, 20, 12],\n       [20, 14,  2],\n       [12,  2, 10]])"
     },
     "execution_count": 85,
     "metadata": {},
     "output_type": "execute_result"
    }
   ],
   "source": [
    "np.dot(arr.T, arr)"
   ],
   "metadata": {
    "collapsed": false,
    "ExecuteTime": {
     "end_time": "2024-02-01T14:37:28.251204100Z",
     "start_time": "2024-02-01T14:37:27.142307500Z"
    }
   },
   "id": "99a97286e5d33279",
   "execution_count": 85
  },
  {
   "cell_type": "code",
   "outputs": [
    {
     "data": {
      "text/plain": "array([[39, 20, 12],\n       [20, 14,  2],\n       [12,  2, 10]])"
     },
     "execution_count": 86,
     "metadata": {},
     "output_type": "execute_result"
    }
   ],
   "source": [
    "# usando el operador @ se multiplican matrices\n",
    "\n",
    "arr.T @ arr"
   ],
   "metadata": {
    "collapsed": false,
    "ExecuteTime": {
     "end_time": "2024-02-01T14:37:28.266524600Z",
     "start_time": "2024-02-01T14:37:27.151319900Z"
    }
   },
   "id": "e1d223ed3534f60e",
   "execution_count": 86
  },
  {
   "cell_type": "code",
   "outputs": [
    {
     "data": {
      "text/plain": "array([[ 0,  1,  6, -1,  1],\n       [ 1,  2,  3,  0,  0],\n       [ 0, -2,  2, -1,  1]])"
     },
     "execution_count": 87,
     "metadata": {},
     "output_type": "execute_result"
    }
   ],
   "source": [
    "# Usar T es un caso especial de cambiar de ejes\n",
    "# ndarray tiene el método `swapaxes`\n",
    "# devuelve una vista sin hacer una copia\n",
    "\n",
    "arr.swapaxes(0, 1)"
   ],
   "metadata": {
    "collapsed": false,
    "ExecuteTime": {
     "end_time": "2024-02-01T14:37:28.286828900Z",
     "start_time": "2024-02-01T14:37:27.154074200Z"
    }
   },
   "id": "8e868e49a9c8fe5b",
   "execution_count": 87
  },
  {
   "cell_type": "markdown",
   "source": [
    "### Generación de números pseudo aleatorios\n",
    "\n",
    "`numpy.random` suplementa las funciones para generar eficientemente arreglos de muestras de diferentes distribuciones de probabilidad."
   ],
   "metadata": {
    "collapsed": false
   },
   "id": "7d99d756b69e01ba"
  },
  {
   "cell_type": "code",
   "outputs": [
    {
     "data": {
      "text/plain": "array([[-1.7983, -0.1024,  0.337 ,  0.1063],\n       [-1.4555, -0.9735,  0.5443,  0.1789],\n       [ 1.1849, -0.7236,  0.7072,  2.4299],\n       [ 1.1428, -0.0254, -1.1283, -0.1657]])"
     },
     "execution_count": 88,
     "metadata": {},
     "output_type": "execute_result"
    }
   ],
   "source": [
    "muestras = np.random.standard_normal(size = (4, 4))\n",
    "muestras"
   ],
   "metadata": {
    "collapsed": false,
    "ExecuteTime": {
     "end_time": "2024-02-01T14:37:28.314655Z",
     "start_time": "2024-02-01T14:37:27.162482700Z"
    }
   },
   "id": "9434a0aaffc73051",
   "execution_count": 88
  },
  {
   "cell_type": "markdown",
   "source": [
    "En cambio, el módulo de python muestrea un valor al tiempo"
   ],
   "metadata": {
    "collapsed": false
   },
   "id": "2a3735162be853f3"
  },
  {
   "cell_type": "code",
   "outputs": [
    {
     "name": "stdout",
     "output_type": "stream",
     "text": [
      "646 ms ± 26 ms per loop (mean ± std. dev. of 7 runs, 1 loop each)\n",
      "17.9 ms ± 794 µs per loop (mean ± std. dev. of 7 runs, 100 loops each)\n"
     ]
    }
   ],
   "source": [
    "from random import normalvariate\n",
    "\n",
    "N = 1_000_000\n",
    "\n",
    "%timeit muestras = [normalvariate(0, 1) for _ in range(N)]\n",
    "%timeit np.random.standard_normal(N)"
   ],
   "metadata": {
    "collapsed": false,
    "ExecuteTime": {
     "end_time": "2024-02-01T14:37:46.925164100Z",
     "start_time": "2024-02-01T14:37:27.168547400Z"
    }
   },
   "id": "593ccad43a431739",
   "execution_count": 89
  },
  {
   "cell_type": "markdown",
   "source": [
    "Los valores aleatorios no son aleatorios, son pseudoaleatorios los cuales se generan po un generador configurable que determina determinísticamente qué valores son creados.\n",
    " "
   ],
   "metadata": {
    "collapsed": false
   },
   "id": "4795fdbf65a7af2e"
  },
  {
   "cell_type": "code",
   "outputs": [],
   "source": [
    "rng = np.random.default_rng(seed = 12345)\n",
    "data = rng.standard_normal((2, 3))"
   ],
   "metadata": {
    "collapsed": false,
    "ExecuteTime": {
     "end_time": "2024-02-01T14:37:46.932029800Z",
     "start_time": "2024-02-01T14:37:46.921457700Z"
    }
   },
   "id": "170639bb12d0d554",
   "execution_count": 90
  },
  {
   "cell_type": "markdown",
   "source": [
    "La semilla determina el estado inicial del generador, el estado cambia cada vez que el objeto `rng` es usado para generar datos"
   ],
   "metadata": {
    "collapsed": false
   },
   "id": "c0643b838eb19626"
  },
  {
   "cell_type": "code",
   "outputs": [
    {
     "data": {
      "text/plain": "numpy.random._generator.Generator"
     },
     "execution_count": 91,
     "metadata": {},
     "output_type": "execute_result"
    }
   ],
   "source": [
    "type(rng)"
   ],
   "metadata": {
    "collapsed": false,
    "ExecuteTime": {
     "end_time": "2024-02-01T14:37:46.940492Z",
     "start_time": "2024-02-01T14:37:46.927917700Z"
    }
   },
   "id": "6dfcc2968c18ea3b",
   "execution_count": 91
  },
  {
   "cell_type": "markdown",
   "source": [
    "Algunos métodos para generar valores aleatórios:\n",
    "\n",
    "`permutation`, `shuffle`, `uniform`, `integers`, `standard_normal`, `binomial`, `normal`, `beta`, `chisquare`, `gamma`.\n",
    "\n",
    "### Funciones universales\n",
    "\n",
    "Una función universal (`ufunc`) es una función que realiza operaciones por elemento en datos `ndarrays`. Funciones vectorizadas rápidas para ciertos cálculos"
   ],
   "metadata": {
    "collapsed": false
   },
   "id": "6954a1b453850d7d"
  },
  {
   "cell_type": "code",
   "outputs": [
    {
     "data": {
      "text/plain": "array([0, 1, 2, 3, 4, 5, 6, 7, 8, 9])"
     },
     "execution_count": 92,
     "metadata": {},
     "output_type": "execute_result"
    }
   ],
   "source": [
    "arr = np.arange(10)\n",
    "arr"
   ],
   "metadata": {
    "collapsed": false,
    "ExecuteTime": {
     "end_time": "2024-02-01T14:37:46.952517200Z",
     "start_time": "2024-02-01T14:37:46.932029800Z"
    }
   },
   "id": "aed8d0fb26f022f8",
   "execution_count": 92
  },
  {
   "cell_type": "code",
   "outputs": [
    {
     "data": {
      "text/plain": "array([0.    , 1.    , 1.4142, 1.7321, 2.    , 2.2361, 2.4495, 2.6458,\n       2.8284, 3.    ])"
     },
     "execution_count": 93,
     "metadata": {},
     "output_type": "execute_result"
    }
   ],
   "source": [
    "np.sqrt(arr) # una función universal"
   ],
   "metadata": {
    "collapsed": false,
    "ExecuteTime": {
     "end_time": "2024-02-01T14:37:46.961057900Z",
     "start_time": "2024-02-01T14:37:46.936382200Z"
    }
   },
   "id": "276b5dd4be223ba2",
   "execution_count": 93
  },
  {
   "cell_type": "code",
   "outputs": [
    {
     "data": {
      "text/plain": "array([   1.    ,    2.7183,    7.3891,   20.0855,   54.5982,  148.4132,\n        403.4288, 1096.6332, 2980.958 , 8103.0839])"
     },
     "execution_count": 94,
     "metadata": {},
     "output_type": "execute_result"
    }
   ],
   "source": [
    "np.exp(arr)"
   ],
   "metadata": {
    "collapsed": false,
    "ExecuteTime": {
     "end_time": "2024-02-01T14:37:47.060922100Z",
     "start_time": "2024-02-01T14:37:46.941492500Z"
    }
   },
   "id": "7df83b6bee6c580d",
   "execution_count": 94
  },
  {
   "cell_type": "markdown",
   "source": [
    "Estas son conocidas como ufuncs **unarias**. Otras como `numpy.add` o `numpy.maximum` toman dos arreglos (ufuncs **binarias**) y devuelven un sólo arreglo"
   ],
   "metadata": {
    "collapsed": false
   },
   "id": "ba17e25ff0dcfd52"
  },
  {
   "cell_type": "code",
   "outputs": [
    {
     "data": {
      "text/plain": "array([-1.3678,  0.6489,  0.3611, -1.9529,  2.3474,  0.9685, -0.7594,\n        0.9022])"
     },
     "execution_count": 95,
     "metadata": {},
     "output_type": "execute_result"
    }
   ],
   "source": [
    "x = rng.standard_normal(8)\n",
    "y = rng.standard_normal(8)\n",
    "\n",
    "x"
   ],
   "metadata": {
    "collapsed": false,
    "ExecuteTime": {
     "end_time": "2024-02-01T14:37:47.074644Z",
     "start_time": "2024-02-01T14:37:46.946477600Z"
    }
   },
   "id": "145d839154c7b48d",
   "execution_count": 95
  },
  {
   "cell_type": "code",
   "outputs": [
    {
     "data": {
      "text/plain": "array([-0.467 , -0.0607,  0.7888, -1.2567,  0.5759,  1.399 ,  1.3223,\n       -0.2997])"
     },
     "execution_count": 96,
     "metadata": {},
     "output_type": "execute_result"
    }
   ],
   "source": [
    "y"
   ],
   "metadata": {
    "collapsed": false,
    "ExecuteTime": {
     "end_time": "2024-02-01T14:37:47.089918400Z",
     "start_time": "2024-02-01T14:37:46.951101900Z"
    }
   },
   "id": "d2ac8008513b61f9",
   "execution_count": 96
  },
  {
   "cell_type": "code",
   "outputs": [
    {
     "data": {
      "text/plain": "array([-0.467 ,  0.6489,  0.7888, -1.2567,  2.3474,  1.399 ,  1.3223,\n        0.9022])"
     },
     "execution_count": 97,
     "metadata": {},
     "output_type": "execute_result"
    }
   ],
   "source": [
    "np.maximum(x, y)"
   ],
   "metadata": {
    "collapsed": false,
    "ExecuteTime": {
     "end_time": "2024-02-01T14:37:47.099848800Z",
     "start_time": "2024-02-01T14:37:46.956706Z"
    }
   },
   "id": "d83782cf496655cc",
   "execution_count": 97
  },
  {
   "cell_type": "markdown",
   "source": [
    "No es común, pero una ufunc puede devolver multiples arreglos. `numpy.modf` es un ejemplo. Devuelve el fraccional y el entero de un float"
   ],
   "metadata": {
    "collapsed": false
   },
   "id": "2b0eee68c5c10a6f"
  },
  {
   "cell_type": "code",
   "outputs": [
    {
     "data": {
      "text/plain": "array([ 4.5146, -8.1079, -0.7909,  2.2474, -6.718 , -0.4084,  8.6237])"
     },
     "execution_count": 98,
     "metadata": {},
     "output_type": "execute_result"
    }
   ],
   "source": [
    "arr = rng.standard_normal(7) * 5\n",
    "arr"
   ],
   "metadata": {
    "collapsed": false,
    "ExecuteTime": {
     "end_time": "2024-02-01T14:37:47.105147600Z",
     "start_time": "2024-02-01T14:37:46.962096Z"
    }
   },
   "id": "842b38de6ac61bca",
   "execution_count": 98
  },
  {
   "cell_type": "code",
   "outputs": [
    {
     "data": {
      "text/plain": "array([ 0.5146, -0.1079, -0.7909,  0.2474, -0.718 , -0.4084,  0.6237])"
     },
     "execution_count": 99,
     "metadata": {},
     "output_type": "execute_result"
    }
   ],
   "source": [
    "resto, entero = np.modf(arr)\n",
    "resto"
   ],
   "metadata": {
    "collapsed": false,
    "ExecuteTime": {
     "end_time": "2024-02-01T14:37:47.108678500Z",
     "start_time": "2024-02-01T14:37:46.966792Z"
    }
   },
   "id": "7e58da31e300dfe7",
   "execution_count": 99
  },
  {
   "cell_type": "code",
   "outputs": [
    {
     "data": {
      "text/plain": "array([ 4., -8., -0.,  2., -6., -0.,  8.])"
     },
     "execution_count": 100,
     "metadata": {},
     "output_type": "execute_result"
    }
   ],
   "source": [
    "entero"
   ],
   "metadata": {
    "collapsed": false,
    "ExecuteTime": {
     "end_time": "2024-02-01T14:37:47.115719300Z",
     "start_time": "2024-02-01T14:37:46.972856800Z"
    }
   },
   "id": "947952d2607e86fa",
   "execution_count": 100
  },
  {
   "cell_type": "code",
   "outputs": [
    {
     "data": {
      "text/plain": "array([ 4.5146, -8.1079, -0.7909,  2.2474, -6.718 , -0.4084,  8.6237])"
     },
     "execution_count": 101,
     "metadata": {},
     "output_type": "execute_result"
    }
   ],
   "source": [
    "# ufuncs reciben un parámetro `out` que permite asignar los resultados a un arreglo existente \n",
    "# en lugar de crear otro\n",
    "\n",
    "arr"
   ],
   "metadata": {
    "collapsed": false,
    "ExecuteTime": {
     "end_time": "2024-02-01T14:37:47.119543300Z",
     "start_time": "2024-02-01T14:37:46.978583700Z"
    }
   },
   "id": "f5af8e3a119475fd",
   "execution_count": 101
  },
  {
   "cell_type": "code",
   "outputs": [],
   "source": [
    "out = np.zeros_like(arr)"
   ],
   "metadata": {
    "collapsed": false,
    "ExecuteTime": {
     "end_time": "2024-02-01T14:37:47.127085900Z",
     "start_time": "2024-02-01T14:37:46.983192100Z"
    }
   },
   "id": "2fbdd428edba274a",
   "execution_count": 102
  },
  {
   "cell_type": "code",
   "outputs": [
    {
     "data": {
      "text/plain": "array([ 5.5146, -7.1079,  0.2091,  3.2474, -5.718 ,  0.5916,  9.6237])"
     },
     "execution_count": 103,
     "metadata": {},
     "output_type": "execute_result"
    }
   ],
   "source": [
    "np.add(arr, 1)"
   ],
   "metadata": {
    "collapsed": false,
    "ExecuteTime": {
     "end_time": "2024-02-01T14:37:47.130087900Z",
     "start_time": "2024-02-01T14:37:46.986704200Z"
    }
   },
   "id": "a1c3e50c7243caf5",
   "execution_count": 103
  },
  {
   "cell_type": "code",
   "outputs": [
    {
     "data": {
      "text/plain": "array([ 5.5146, -7.1079,  0.2091,  3.2474, -5.718 ,  0.5916,  9.6237])"
     },
     "execution_count": 104,
     "metadata": {},
     "output_type": "execute_result"
    }
   ],
   "source": [
    "np.add(arr, 1, out = out)\n",
    "out"
   ],
   "metadata": {
    "collapsed": false,
    "ExecuteTime": {
     "end_time": "2024-02-01T14:37:47.209327800Z",
     "start_time": "2024-02-01T14:37:46.993027500Z"
    }
   },
   "id": "917b4d571ec825d0",
   "execution_count": 104
  },
  {
   "cell_type": "markdown",
   "source": [
    "### Programación orientada a arreglos\n",
    "\n",
    "Numpy permite que se hagan varias operaciones en arreglos sin necesidad de loops, esto se llama vectorización\n",
    "\n",
    "Por ejemplo queremos la función $(\\sqrt{x^2 + y^2})$ a través de una rejilla de valores. `numpy.meshgrid` toma dos arreglos de una dimensión y produce dos matrices de dos dimensiones correspondientes a los pares (x, y)"
   ],
   "metadata": {
    "collapsed": false
   },
   "id": "16079cfeea79965"
  },
  {
   "cell_type": "code",
   "outputs": [
    {
     "data": {
      "text/plain": "array([[-5.  , -5.  , -5.  , ..., -5.  , -5.  , -5.  ],\n       [-4.99, -4.99, -4.99, ..., -4.99, -4.99, -4.99],\n       [-4.98, -4.98, -4.98, ..., -4.98, -4.98, -4.98],\n       ...,\n       [ 4.97,  4.97,  4.97, ...,  4.97,  4.97,  4.97],\n       [ 4.98,  4.98,  4.98, ...,  4.98,  4.98,  4.98],\n       [ 4.99,  4.99,  4.99, ...,  4.99,  4.99,  4.99]])"
     },
     "execution_count": 105,
     "metadata": {},
     "output_type": "execute_result"
    }
   ],
   "source": [
    "puntos = np.arange(-5, 5, 0.01) # 100 puntos equidistantes\n",
    "\n",
    "xs, ys = np.meshgrid(puntos, puntos)\n",
    "ys"
   ],
   "metadata": {
    "collapsed": false,
    "ExecuteTime": {
     "end_time": "2024-02-01T14:37:47.213368300Z",
     "start_time": "2024-02-01T14:37:46.996468400Z"
    }
   },
   "id": "4d3b4ac6652c1021",
   "execution_count": 105
  },
  {
   "cell_type": "code",
   "outputs": [
    {
     "data": {
      "text/plain": "array([[-5.  , -4.99, -4.98, ...,  4.97,  4.98,  4.99],\n       [-5.  , -4.99, -4.98, ...,  4.97,  4.98,  4.99],\n       [-5.  , -4.99, -4.98, ...,  4.97,  4.98,  4.99],\n       ...,\n       [-5.  , -4.99, -4.98, ...,  4.97,  4.98,  4.99],\n       [-5.  , -4.99, -4.98, ...,  4.97,  4.98,  4.99],\n       [-5.  , -4.99, -4.98, ...,  4.97,  4.98,  4.99]])"
     },
     "execution_count": 106,
     "metadata": {},
     "output_type": "execute_result"
    }
   ],
   "source": [
    "xs"
   ],
   "metadata": {
    "collapsed": false,
    "ExecuteTime": {
     "end_time": "2024-02-01T14:37:47.241028700Z",
     "start_time": "2024-02-01T14:37:47.006453Z"
    }
   },
   "id": "75c8621e05efb951",
   "execution_count": 106
  },
  {
   "cell_type": "code",
   "outputs": [
    {
     "data": {
      "text/plain": "array([[7.0711, 7.064 , 7.0569, ..., 7.0499, 7.0569, 7.064 ],\n       [7.064 , 7.0569, 7.0499, ..., 7.0428, 7.0499, 7.0569],\n       [7.0569, 7.0499, 7.0428, ..., 7.0357, 7.0428, 7.0499],\n       ...,\n       [7.0499, 7.0428, 7.0357, ..., 7.0286, 7.0357, 7.0428],\n       [7.0569, 7.0499, 7.0428, ..., 7.0357, 7.0428, 7.0499],\n       [7.064 , 7.0569, 7.0499, ..., 7.0428, 7.0499, 7.0569]])"
     },
     "execution_count": 107,
     "metadata": {},
     "output_type": "execute_result"
    }
   ],
   "source": [
    "# ahora para lo que queremos\n",
    "\n",
    "z = np.sqrt(xs ** 2 + ys ** 2)\n",
    "z"
   ],
   "metadata": {
    "collapsed": false,
    "ExecuteTime": {
     "end_time": "2024-02-01T14:37:47.244507800Z",
     "start_time": "2024-02-01T14:37:47.011170Z"
    }
   },
   "id": "ef91eb29ce6bb95f",
   "execution_count": 107
  },
  {
   "cell_type": "code",
   "outputs": [
    {
     "data": {
      "text/plain": "Text(0.5, 1.0, 'Gráfica de $\\\\sqrt{x^2 + y^2}$')"
     },
     "execution_count": 108,
     "metadata": {},
     "output_type": "execute_result"
    },
    {
     "data": {
      "text/plain": "<Figure size 640x480 with 2 Axes>",
      "image/png": "[encoded data removed]"
     },
     "metadata": {},
     "output_type": "display_data"
    }
   ],
   "source": [
    "# creamos una visualización \n",
    "\n",
    "import matplotlib.pyplot as plt\n",
    "\n",
    "plt.imshow(z, cmap = plt.cm.gray, extent = [-5, 5, -5, 5])\n",
    "plt.colorbar()\n",
    "plt.title('Gráfica de $\\sqrt{x^2 + y^2}$')"
   ],
   "metadata": {
    "collapsed": false,
    "ExecuteTime": {
     "end_time": "2024-02-01T14:37:47.980023200Z",
     "start_time": "2024-02-01T14:37:47.025327800Z"
    }
   },
   "id": "5440e8403c9401a8",
   "execution_count": 108
  },
  {
   "cell_type": "markdown",
   "source": [
    "### Expresando lógica condicional como operaciones de arreglos\n",
    "\n",
    "`numpy.where` es una fucnión vectorizada de la expresión **x if condicion else y**"
   ],
   "metadata": {
    "collapsed": false
   },
   "id": "9d9fd286d56eba19"
  },
  {
   "cell_type": "code",
   "outputs": [],
   "source": [
    "xarr = np.array([1.1, 1.2, 1.3, 1.4, 1.5])\n",
    "yarr = np.array([2.1, 2.2, 2.3, 2.4, 2.5])\n",
    "\n",
    "cond = np.array([True, False, True, True, False])"
   ],
   "metadata": {
    "collapsed": false,
    "ExecuteTime": {
     "end_time": "2024-02-01T14:37:47.990156100Z",
     "start_time": "2024-02-01T14:37:47.981828900Z"
    }
   },
   "id": "f5848490a5f84ef5",
   "execution_count": 109
  },
  {
   "cell_type": "markdown",
   "source": [
    "Supongamos que queremos tomar el valor de xarr donde cond sea True y el valor de yarr donde cond sea False, podríamos hacerlo así:"
   ],
   "metadata": {
    "collapsed": false
   },
   "id": "97d9481ca50a35a6"
  },
  {
   "cell_type": "code",
   "outputs": [
    {
     "data": {
      "text/plain": "[1.1, 2.2, 1.3, 1.4, 2.5]"
     },
     "execution_count": 110,
     "metadata": {},
     "output_type": "execute_result"
    }
   ],
   "source": [
    "result = [(x if c else y)\n",
    "          for x, y, c in zip(xarr, yarr, cond)]\n",
    "result\n",
    "\n",
    "# esto no es muy eficiente y tendría problemas con arreglos multidimensionales"
   ],
   "metadata": {
    "collapsed": false,
    "ExecuteTime": {
     "end_time": "2024-02-01T14:37:47.998142200Z",
     "start_time": "2024-02-01T14:37:47.984375900Z"
    }
   },
   "id": "d2fac117f7e6c20a",
   "execution_count": 110
  },
  {
   "cell_type": "code",
   "outputs": [
    {
     "data": {
      "text/plain": "array([1.1, 2.2, 1.3, 1.4, 2.5])"
     },
     "execution_count": 111,
     "metadata": {},
     "output_type": "execute_result"
    }
   ],
   "source": [
    "# lo hacemos con where\n",
    "\n",
    "result = np.where(cond, xarr, yarr)\n",
    "result"
   ],
   "metadata": {
    "collapsed": false,
    "ExecuteTime": {
     "end_time": "2024-02-01T14:37:48.008287200Z",
     "start_time": "2024-02-01T14:37:47.990156100Z"
    }
   },
   "id": "4066937415fd71e7",
   "execution_count": 111
  },
  {
   "cell_type": "markdown",
   "source": [
    "Otro uso es generar un arreglo basado en valores de otro arreglo. Supongamos que se quieren reemplazar los valores positivos con 2 y los negativos con -2"
   ],
   "metadata": {
    "collapsed": false
   },
   "id": "c808b8d7fc517231"
  },
  {
   "cell_type": "code",
   "outputs": [
    {
     "data": {
      "text/plain": "array([[ 2.6182,  0.7774,  0.8286, -0.959 ],\n       [-1.2094, -1.4123,  0.5415,  0.7519],\n       [-0.6588, -1.2287,  0.2576,  0.3129],\n       [-0.1308,  1.27  , -0.093 , -0.0662]])"
     },
     "execution_count": 112,
     "metadata": {},
     "output_type": "execute_result"
    }
   ],
   "source": [
    "arr = rng.standard_normal((4, 4))\n",
    "arr"
   ],
   "metadata": {
    "collapsed": false,
    "ExecuteTime": {
     "end_time": "2024-02-01T14:37:48.023585600Z",
     "start_time": "2024-02-01T14:37:47.993226500Z"
    }
   },
   "id": "aaeaa418f95a26eb",
   "execution_count": 112
  },
  {
   "cell_type": "code",
   "outputs": [
    {
     "data": {
      "text/plain": "array([[ True,  True,  True, False],\n       [False, False,  True,  True],\n       [False, False,  True,  True],\n       [False,  True, False, False]])"
     },
     "execution_count": 113,
     "metadata": {},
     "output_type": "execute_result"
    }
   ],
   "source": [
    "arr > 0"
   ],
   "metadata": {
    "collapsed": false,
    "ExecuteTime": {
     "end_time": "2024-02-01T14:37:48.169217900Z",
     "start_time": "2024-02-01T14:37:47.999636100Z"
    }
   },
   "id": "7f07cd360d36c984",
   "execution_count": 113
  },
  {
   "cell_type": "code",
   "outputs": [
    {
     "data": {
      "text/plain": "array([[ 2,  2,  2, -2],\n       [-2, -2,  2,  2],\n       [-2, -2,  2,  2],\n       [-2,  2, -2, -2]])"
     },
     "execution_count": 114,
     "metadata": {},
     "output_type": "execute_result"
    }
   ],
   "source": [
    "np.where(arr > 0, 2, -2)"
   ],
   "metadata": {
    "collapsed": false,
    "ExecuteTime": {
     "end_time": "2024-02-01T14:37:48.175321300Z",
     "start_time": "2024-02-01T14:37:48.005412600Z"
    }
   },
   "id": "8c49ef5c17f2d424",
   "execution_count": 114
  },
  {
   "cell_type": "code",
   "outputs": [
    {
     "data": {
      "text/plain": "array([[ 2.    ,  2.    ,  2.    , -0.959 ],\n       [-1.2094, -1.4123,  2.    ,  2.    ],\n       [-0.6588, -1.2287,  2.    ,  2.    ],\n       [-0.1308,  2.    , -0.093 , -0.0662]])"
     },
     "execution_count": 115,
     "metadata": {},
     "output_type": "execute_result"
    }
   ],
   "source": [
    "np.where(arr > 0, 2, arr)"
   ],
   "metadata": {
    "collapsed": false,
    "ExecuteTime": {
     "end_time": "2024-02-01T14:37:48.219034400Z",
     "start_time": "2024-02-01T14:37:48.009758900Z"
    }
   },
   "id": "badff177a844c38f",
   "execution_count": 115
  },
  {
   "cell_type": "markdown",
   "source": [
    "### Métodos matemáticos y estadísticos\n",
    "\n",
    "Los arreglos tienen métodos para agregaciones y otros métodos estadísticos"
   ],
   "metadata": {
    "collapsed": false
   },
   "id": "4ac658f9f58dda6"
  },
  {
   "cell_type": "code",
   "outputs": [
    {
     "data": {
      "text/plain": "array([[-1.1082,  0.136 ,  1.3471,  0.0611],\n       [ 0.0709,  0.4337,  0.2775,  0.5303],\n       [ 0.5367,  0.6184, -0.795 ,  0.3   ],\n       [-1.6027,  0.2668, -1.2616, -0.0713],\n       [ 0.474 , -0.4149,  0.0977, -1.6404]])"
     },
     "execution_count": 116,
     "metadata": {},
     "output_type": "execute_result"
    }
   ],
   "source": [
    "arr = rng.standard_normal((5, 4))\n",
    "arr"
   ],
   "metadata": {
    "collapsed": false,
    "ExecuteTime": {
     "end_time": "2024-02-01T14:37:48.223155Z",
     "start_time": "2024-02-01T14:37:48.014921400Z"
    }
   },
   "id": "261da287939ab206",
   "execution_count": 116
  },
  {
   "cell_type": "code",
   "outputs": [
    {
     "data": {
      "text/plain": "-0.08719744457434529"
     },
     "execution_count": 117,
     "metadata": {},
     "output_type": "execute_result"
    }
   ],
   "source": [
    "# calcular la media\n",
    "\n",
    "arr.mean()"
   ],
   "metadata": {
    "collapsed": false,
    "ExecuteTime": {
     "end_time": "2024-02-01T14:37:48.232982500Z",
     "start_time": "2024-02-01T14:37:48.020578200Z"
    }
   },
   "id": "9d84cb53ce6aef0e",
   "execution_count": 117
  },
  {
   "cell_type": "code",
   "outputs": [
    {
     "data": {
      "text/plain": "-0.08719744457434529"
     },
     "execution_count": 118,
     "metadata": {},
     "output_type": "execute_result"
    }
   ],
   "source": [
    "np.mean(arr)"
   ],
   "metadata": {
    "collapsed": false,
    "ExecuteTime": {
     "end_time": "2024-02-01T14:37:48.240765100Z",
     "start_time": "2024-02-01T14:37:48.024586Z"
    }
   },
   "id": "725735480c8b3a2",
   "execution_count": 118
  },
  {
   "cell_type": "code",
   "outputs": [
    {
     "data": {
      "text/plain": "-1.743948891486906"
     },
     "execution_count": 119,
     "metadata": {},
     "output_type": "execute_result"
    }
   ],
   "source": [
    "# la suma\n",
    "\n",
    "arr.sum()"
   ],
   "metadata": {
    "collapsed": false,
    "ExecuteTime": {
     "end_time": "2024-02-01T14:37:48.244893100Z",
     "start_time": "2024-02-01T14:37:48.034888100Z"
    }
   },
   "id": "3dc29589f7eeaf08",
   "execution_count": 119
  },
  {
   "cell_type": "code",
   "outputs": [
    {
     "data": {
      "text/plain": "array([ 0.109 ,  0.3281,  0.165 , -0.6672, -0.3709])"
     },
     "execution_count": 120,
     "metadata": {},
     "output_type": "execute_result"
    }
   ],
   "source": [
    "# se puede especificar el eje\n",
    "\n",
    "arr.mean(axis = 1) # la media por columnas"
   ],
   "metadata": {
    "collapsed": false,
    "ExecuteTime": {
     "end_time": "2024-02-01T14:37:48.248462900Z",
     "start_time": "2024-02-01T14:37:48.037414900Z"
    }
   },
   "id": "248d5d10e88519e9",
   "execution_count": 120
  },
  {
   "cell_type": "code",
   "outputs": [
    {
     "data": {
      "text/plain": "array([-1.6292,  1.0399, -0.3344, -0.8203])"
     },
     "execution_count": 121,
     "metadata": {},
     "output_type": "execute_result"
    }
   ],
   "source": [
    "arr.sum(axis = 0) # la suma por filas"
   ],
   "metadata": {
    "collapsed": false,
    "ExecuteTime": {
     "end_time": "2024-02-01T14:37:48.252464900Z",
     "start_time": "2024-02-01T14:37:48.040896500Z"
    }
   },
   "id": "295ec0143381efa7",
   "execution_count": 121
  },
  {
   "cell_type": "code",
   "outputs": [
    {
     "data": {
      "text/plain": "array([ 0,  1,  3,  6, 10, 15, 21, 28])"
     },
     "execution_count": 122,
     "metadata": {},
     "output_type": "execute_result"
    }
   ],
   "source": [
    "# otros métodos que no agregan, en cambio producen otro arreglo\n",
    "\n",
    "arr = np.array([0, 1, 2, 3, 4, 5, 6, 7])\n",
    "arr.cumsum()"
   ],
   "metadata": {
    "collapsed": false,
    "ExecuteTime": {
     "end_time": "2024-02-01T14:37:48.277007300Z",
     "start_time": "2024-02-01T14:37:48.048574100Z"
    }
   },
   "id": "295301853b0fedcd",
   "execution_count": 122
  },
  {
   "cell_type": "code",
   "outputs": [
    {
     "data": {
      "text/plain": "array([[0, 1, 2],\n       [3, 4, 5],\n       [6, 7, 8]])"
     },
     "execution_count": 123,
     "metadata": {},
     "output_type": "execute_result"
    }
   ],
   "source": [
    "# en arreglo multidimensional `cumsum` devuelve un arreglo del mismo tamaño pero computado en un eje\n",
    "\n",
    "arr = np.array([[0, 1, 2], [3, 4, 5], [6, 7, 8]])\n",
    "arr"
   ],
   "metadata": {
    "collapsed": false,
    "ExecuteTime": {
     "end_time": "2024-02-01T14:39:34.727046700Z",
     "start_time": "2024-02-01T14:39:34.700160200Z"
    }
   },
   "id": "723122cab9f0d16a",
   "execution_count": 123
  },
  {
   "cell_type": "code",
   "outputs": [
    {
     "data": {
      "text/plain": "array([[ 0,  1,  2],\n       [ 3,  5,  7],\n       [ 9, 12, 15]])"
     },
     "execution_count": 124,
     "metadata": {},
     "output_type": "execute_result"
    }
   ],
   "source": [
    "arr.cumsum(axis = 0)"
   ],
   "metadata": {
    "collapsed": false,
    "ExecuteTime": {
     "end_time": "2024-02-01T14:39:48.822187200Z",
     "start_time": "2024-02-01T14:39:48.800745600Z"
    }
   },
   "id": "245a45e3d648b391",
   "execution_count": 124
  },
  {
   "cell_type": "code",
   "outputs": [
    {
     "data": {
      "text/plain": "array([[ 0,  1,  3],\n       [ 3,  7, 12],\n       [ 6, 13, 21]])"
     },
     "execution_count": 125,
     "metadata": {},
     "output_type": "execute_result"
    }
   ],
   "source": [
    "arr.cumsum(axis = 1)"
   ],
   "metadata": {
    "collapsed": false,
    "ExecuteTime": {
     "end_time": "2024-02-01T14:40:42.451412400Z",
     "start_time": "2024-02-01T14:40:42.407020700Z"
    }
   },
   "id": "1cebc1b181bad4ec",
   "execution_count": 125
  },
  {
   "cell_type": "markdown",
   "source": [
    "Están los métodos `sum`, `mean`, `std, var`, `min, max`, `argmin, argmax`, `cumsum`, `cumprod`\n",
    "\n",
    "### Métodos para arreglos Booleanos\n",
    "\n",
    "Booleanos son 1 (True) y 0 (False)."
   ],
   "metadata": {
    "collapsed": false
   },
   "id": "83a5bab1c15ee7b6"
  },
  {
   "cell_type": "code",
   "outputs": [
    {
     "data": {
      "text/plain": "48"
     },
     "execution_count": 127,
     "metadata": {},
     "output_type": "execute_result"
    }
   ],
   "source": [
    "arr = rng.standard_normal(100)\n",
    "\n",
    "(arr > 0).sum() # numero de valores positivos"
   ],
   "metadata": {
    "collapsed": false,
    "ExecuteTime": {
     "end_time": "2024-02-01T14:43:35.704875800Z",
     "start_time": "2024-02-01T14:43:35.663579700Z"
    }
   },
   "id": "bfeac78eff7909e5",
   "execution_count": 127
  },
  {
   "cell_type": "code",
   "outputs": [
    {
     "data": {
      "text/plain": "52"
     },
     "execution_count": 128,
     "metadata": {},
     "output_type": "execute_result"
    }
   ],
   "source": [
    "(arr < 0).sum()"
   ],
   "metadata": {
    "collapsed": false,
    "ExecuteTime": {
     "end_time": "2024-02-01T14:43:46.959090400Z",
     "start_time": "2024-02-01T14:43:46.940473300Z"
    }
   },
   "id": "5d93286fc29d696e",
   "execution_count": 128
  },
  {
   "cell_type": "code",
   "outputs": [
    {
     "data": {
      "text/plain": "True"
     },
     "execution_count": 129,
     "metadata": {},
     "output_type": "execute_result"
    }
   ],
   "source": [
    "# `any` y `all` revisan si algún valor es True y si todos son True\n",
    "\n",
    "bools = np.array([False, False, True, False])\n",
    "\n",
    "bools.any()"
   ],
   "metadata": {
    "collapsed": false,
    "ExecuteTime": {
     "end_time": "2024-02-01T14:44:56.639656200Z",
     "start_time": "2024-02-01T14:44:56.619988Z"
    }
   },
   "id": "ab1720190c2bcead",
   "execution_count": 129
  },
  {
   "cell_type": "code",
   "outputs": [
    {
     "data": {
      "text/plain": "False"
     },
     "execution_count": 131,
     "metadata": {},
     "output_type": "execute_result"
    }
   ],
   "source": [
    "bools.all()"
   ],
   "metadata": {
    "collapsed": false,
    "ExecuteTime": {
     "end_time": "2024-02-01T14:45:07.356349Z",
     "start_time": "2024-02-01T14:45:07.337125Z"
    }
   },
   "id": "4751c8220e43cbae",
   "execution_count": 131
  },
  {
   "cell_type": "markdown",
   "source": [
    "### Ordenar \n",
    "\n",
    "Los arreglos se pueden ordenar"
   ],
   "metadata": {
    "collapsed": false
   },
   "id": "89aaaae0222b00e1"
  },
  {
   "cell_type": "code",
   "outputs": [
    {
     "data": {
      "text/plain": "array([ 0.0773, -0.6839, -0.7208,  1.1206, -0.0548, -0.0824])"
     },
     "execution_count": 132,
     "metadata": {},
     "output_type": "execute_result"
    }
   ],
   "source": [
    "arr = rng.standard_normal(6)\n",
    "\n",
    "arr"
   ],
   "metadata": {
    "collapsed": false,
    "ExecuteTime": {
     "end_time": "2024-02-01T14:45:52.020463100Z",
     "start_time": "2024-02-01T14:45:52.000909Z"
    }
   },
   "id": "74d300a5486c50fc",
   "execution_count": 132
  },
  {
   "cell_type": "code",
   "outputs": [
    {
     "data": {
      "text/plain": "array([-0.7208, -0.6839, -0.0824, -0.0548,  0.0773,  1.1206])"
     },
     "execution_count": 134,
     "metadata": {},
     "output_type": "execute_result"
    }
   ],
   "source": [
    "arr.sort()\n",
    "arr"
   ],
   "metadata": {
    "collapsed": false,
    "ExecuteTime": {
     "end_time": "2024-02-01T14:46:04.430409200Z",
     "start_time": "2024-02-01T14:46:04.410972500Z"
    }
   },
   "id": "717cad9916e4825c",
   "execution_count": 134
  },
  {
   "cell_type": "code",
   "outputs": [
    {
     "data": {
      "text/plain": "array([[ 0.936 ,  1.2385,  1.2728],\n       [ 0.4059, -0.0503,  0.2893],\n       [ 0.1793,  1.3975,  0.292 ],\n       [ 0.6384, -0.0279,  1.3711],\n       [-2.0528,  0.3805,  0.7554]])"
     },
     "execution_count": 135,
     "metadata": {},
     "output_type": "execute_result"
    }
   ],
   "source": [
    "# en arreglos multidimensionales se puede ordenar según los ejes\n",
    "\n",
    "arr = rng.standard_normal((5, 3))\n",
    "arr"
   ],
   "metadata": {
    "collapsed": false,
    "ExecuteTime": {
     "end_time": "2024-02-01T14:46:48.999429100Z",
     "start_time": "2024-02-01T14:46:48.980467500Z"
    }
   },
   "id": "10948131294afb",
   "execution_count": 135
  },
  {
   "cell_type": "code",
   "outputs": [
    {
     "data": {
      "text/plain": "array([[-2.0528, -0.0503,  0.2893],\n       [ 0.1793, -0.0279,  0.292 ],\n       [ 0.4059,  0.3805,  0.7554],\n       [ 0.6384,  1.2385,  1.2728],\n       [ 0.936 ,  1.3975,  1.3711]])"
     },
     "execution_count": 137,
     "metadata": {},
     "output_type": "execute_result"
    }
   ],
   "source": [
    "arr.sort(axis = 0)\n",
    "arr"
   ],
   "metadata": {
    "collapsed": false,
    "ExecuteTime": {
     "end_time": "2024-02-01T14:47:03.216750100Z",
     "start_time": "2024-02-01T14:47:03.196087Z"
    }
   },
   "id": "39bce997c5faa0d",
   "execution_count": 137
  },
  {
   "cell_type": "code",
   "outputs": [
    {
     "data": {
      "text/plain": "array([[-2.0528, -0.0503,  0.2893],\n       [-0.0279,  0.1793,  0.292 ],\n       [ 0.3805,  0.4059,  0.7554],\n       [ 0.6384,  1.2385,  1.2728],\n       [ 0.936 ,  1.3711,  1.3975]])"
     },
     "execution_count": 138,
     "metadata": {},
     "output_type": "execute_result"
    }
   ],
   "source": [
    "arr.sort(axis = 1)\n",
    "arr"
   ],
   "metadata": {
    "collapsed": false,
    "ExecuteTime": {
     "end_time": "2024-02-01T14:47:18.633890500Z",
     "start_time": "2024-02-01T14:47:18.614011100Z"
    }
   },
   "id": "ba25f620890f4223",
   "execution_count": 138
  },
  {
   "cell_type": "markdown",
   "source": [
    "`sort` devuelve una copia del arreglo en lugar de modificar el arreglo"
   ],
   "metadata": {
    "collapsed": false
   },
   "id": "1d19154674583955"
  },
  {
   "cell_type": "code",
   "outputs": [
    {
     "data": {
      "text/plain": "array([-10,  -3,   0,   1,   5,   7])"
     },
     "execution_count": 139,
     "metadata": {},
     "output_type": "execute_result"
    }
   ],
   "source": [
    "arr2 = np.array([5, -10, 7, 1, 0, -3])\n",
    "\n",
    "sorted_arr2 = np.sort(arr2)\n",
    "sorted_arr2"
   ],
   "metadata": {
    "collapsed": false,
    "ExecuteTime": {
     "end_time": "2024-02-01T14:48:28.308920800Z",
     "start_time": "2024-02-01T14:48:28.270868400Z"
    }
   },
   "id": "7449f02de62abe41",
   "execution_count": 139
  },
  {
   "cell_type": "markdown",
   "source": [
    "### Unique y otras logicas de conjuntos\n",
    "\n",
    "Numpy tiene algunas operaciones de conjuntos para ndarrays de una dimensión\n"
   ],
   "metadata": {
    "collapsed": false
   },
   "id": "3f4f01fedd80bce5"
  },
  {
   "cell_type": "code",
   "outputs": [
    {
     "data": {
      "text/plain": "array(['Bob', 'Joe', 'Will'], dtype='<U4')"
     },
     "execution_count": 140,
     "metadata": {},
     "output_type": "execute_result"
    }
   ],
   "source": [
    "names = np.array([\"Bob\", \"Will\", \"Joe\", \"Bob\", \"Will\", \"Joe\", \"Joe\"])\n",
    "np.unique(names)"
   ],
   "metadata": {
    "collapsed": false,
    "ExecuteTime": {
     "end_time": "2024-02-01T14:49:48.698477400Z",
     "start_time": "2024-02-01T14:49:48.671617200Z"
    }
   },
   "id": "dd71529ea0960350",
   "execution_count": 140
  },
  {
   "cell_type": "code",
   "outputs": [
    {
     "data": {
      "text/plain": "array([1, 2, 3, 4])"
     },
     "execution_count": 141,
     "metadata": {},
     "output_type": "execute_result"
    }
   ],
   "source": [
    "ints = np.array([3, 3, 3, 2, 2, 1, 1, 4, 4])\n",
    "np.unique(ints)"
   ],
   "metadata": {
    "collapsed": false,
    "ExecuteTime": {
     "end_time": "2024-02-01T14:50:03.558279600Z",
     "start_time": "2024-02-01T14:50:03.536161100Z"
    }
   },
   "id": "8a32bda2dbeff868",
   "execution_count": 141
  },
  {
   "cell_type": "code",
   "outputs": [
    {
     "data": {
      "text/plain": "['Bob', 'Joe', 'Will']"
     },
     "execution_count": 142,
     "metadata": {},
     "output_type": "execute_result"
    }
   ],
   "source": [
    "# la función por defecto de Python\n",
    "sorted(set(names))\n",
    "\n",
    "# devuelve una lista, no un arreglo"
   ],
   "metadata": {
    "collapsed": false,
    "ExecuteTime": {
     "end_time": "2024-02-01T14:50:40.338012500Z",
     "start_time": "2024-02-01T14:50:40.284078400Z"
    }
   },
   "id": "abddbcff8853316",
   "execution_count": 142
  },
  {
   "cell_type": "code",
   "outputs": [
    {
     "data": {
      "text/plain": "array([ True, False, False,  True,  True, False,  True])"
     },
     "execution_count": 143,
     "metadata": {},
     "output_type": "execute_result"
    }
   ],
   "source": [
    "# numpy.in1d prueba la pertenencia de valores en un arreglo\n",
    "\n",
    "values = np.array([6, 0, 0, 3, 2, 5, 6])\n",
    "np.in1d(values, [2, 3, 6])"
   ],
   "metadata": {
    "collapsed": false,
    "ExecuteTime": {
     "end_time": "2024-02-01T14:52:02.211273200Z",
     "start_time": "2024-02-01T14:52:02.188729900Z"
    }
   },
   "id": "731a55212cbb0c8f",
   "execution_count": 143
  },
  {
   "cell_type": "markdown",
   "source": [
    "### Entradas de archivos y salidas con arreglos\n",
    "\n",
    "Numpy puede guardar y cargar datos del disco y formatos binarios."
   ],
   "metadata": {
    "collapsed": false
   },
   "id": "39e7a8cf6c19e3ca"
  },
  {
   "cell_type": "code",
   "outputs": [],
   "source": [
    "arr = np.arange(10)\n",
    "\n",
    "np.save('un_arreglo', arr)"
   ],
   "metadata": {
    "collapsed": false,
    "ExecuteTime": {
     "end_time": "2024-02-01T15:01:45.706551500Z",
     "start_time": "2024-02-01T15:01:45.671421500Z"
    }
   },
   "id": "12ddfd85c8f5abab",
   "execution_count": 144
  },
  {
   "cell_type": "code",
   "outputs": [
    {
     "data": {
      "text/plain": "array([0, 1, 2, 3, 4, 5, 6, 7, 8, 9])"
     },
     "execution_count": 145,
     "metadata": {},
     "output_type": "execute_result"
    }
   ],
   "source": [
    "np.load('un_arreglo.npy')"
   ],
   "metadata": {
    "collapsed": false,
    "ExecuteTime": {
     "end_time": "2024-02-01T15:02:13.919036600Z",
     "start_time": "2024-02-01T15:02:13.898063Z"
    }
   },
   "id": "223588ef8b549971",
   "execution_count": 145
  },
  {
   "cell_type": "markdown",
   "source": [
    "### Algebra lineal\n",
    "\n",
    "Multiplicación de matrices, descomposiciones, determinantes y otra matemática de matrices se pueden hacer en numpy"
   ],
   "metadata": {
    "collapsed": false
   },
   "id": "8a99ccee680a5613"
  },
  {
   "cell_type": "code",
   "outputs": [
    {
     "data": {
      "text/plain": "array([[1., 2., 3.],\n       [4., 5., 6.]])"
     },
     "execution_count": 146,
     "metadata": {},
     "output_type": "execute_result"
    }
   ],
   "source": [
    "x = np.array([[1., 2., 3.], [4., 5., 6.]])\n",
    "\n",
    "y = np.array([[6., 23.], [-1, 7], [8, 9]])\n",
    "\n",
    "x"
   ],
   "metadata": {
    "collapsed": false,
    "ExecuteTime": {
     "end_time": "2024-02-01T15:05:06.577250100Z",
     "start_time": "2024-02-01T15:05:06.556887600Z"
    }
   },
   "id": "77db6de4cc7674af",
   "execution_count": 146
  },
  {
   "cell_type": "code",
   "outputs": [
    {
     "data": {
      "text/plain": "array([[ 6., 23.],\n       [-1.,  7.],\n       [ 8.,  9.]])"
     },
     "execution_count": 147,
     "metadata": {},
     "output_type": "execute_result"
    }
   ],
   "source": [
    "y"
   ],
   "metadata": {
    "collapsed": false,
    "ExecuteTime": {
     "end_time": "2024-02-01T15:05:19.199758500Z",
     "start_time": "2024-02-01T15:05:19.178561800Z"
    }
   },
   "id": "604ff91b6546fb8",
   "execution_count": 147
  },
  {
   "cell_type": "code",
   "outputs": [
    {
     "data": {
      "text/plain": "array([[ 28.,  64.],\n       [ 67., 181.]])"
     },
     "execution_count": 148,
     "metadata": {},
     "output_type": "execute_result"
    }
   ],
   "source": [
    "x.dot(y) # equivalente a np.dot(x, y)"
   ],
   "metadata": {
    "collapsed": false,
    "ExecuteTime": {
     "end_time": "2024-02-01T15:05:33.091005Z",
     "start_time": "2024-02-01T15:05:33.068795600Z"
    }
   },
   "id": "3c8440820f5309b8",
   "execution_count": 148
  },
  {
   "cell_type": "code",
   "outputs": [
    {
     "data": {
      "text/plain": "array([ 6., 15.])"
     },
     "execution_count": 149,
     "metadata": {},
     "output_type": "execute_result"
    }
   ],
   "source": [
    "# multiplicacion de matrices \n",
    "\n",
    "x @ np.ones(3)"
   ],
   "metadata": {
    "collapsed": false,
    "ExecuteTime": {
     "end_time": "2024-02-01T15:06:07.555663100Z",
     "start_time": "2024-02-01T15:06:07.521416Z"
    }
   },
   "id": "42ec71f95575933a",
   "execution_count": 149
  },
  {
   "cell_type": "markdown",
   "source": [
    "`numpy.linalg` tiene descomposiciones, inversas y determinantes"
   ],
   "metadata": {
    "collapsed": false
   },
   "id": "5cfc1cc9846d59ea"
  },
  {
   "cell_type": "code",
   "outputs": [
    {
     "data": {
      "text/plain": "array([[  3.4993,   2.8444,   3.5956, -16.5538,   4.4733],\n       [  2.8444,   2.5667,   2.9002, -13.5774,   3.7678],\n       [  3.5956,   2.9002,   4.4823, -18.3453,   4.7066],\n       [-16.5538, -13.5774, -18.3453,  84.0102, -22.0484],\n       [  4.4733,   3.7678,   4.7066, -22.0484,   6.0525]])"
     },
     "execution_count": 150,
     "metadata": {},
     "output_type": "execute_result"
    }
   ],
   "source": [
    "from numpy.linalg import inv, qr\n",
    "\n",
    "X = rng.standard_normal((5, 5))\n",
    "\n",
    "mat = X.T @ X\n",
    "inv(mat)"
   ],
   "metadata": {
    "collapsed": false,
    "ExecuteTime": {
     "end_time": "2024-02-01T15:07:18.963073300Z",
     "start_time": "2024-02-01T15:07:18.875468500Z"
    }
   },
   "id": "7c345c2c00ed550e",
   "execution_count": 150
  },
  {
   "cell_type": "code",
   "outputs": [
    {
     "data": {
      "text/plain": "array([[ 1., -0., -0.,  0.,  0.],\n       [-0.,  1., -0.,  0., -0.],\n       [ 0., -0.,  1.,  0., -0.],\n       [ 0.,  0.,  0.,  1.,  0.],\n       [ 0., -0.,  0.,  0.,  1.]])"
     },
     "execution_count": 151,
     "metadata": {},
     "output_type": "execute_result"
    }
   ],
   "source": [
    "mat @ inv(mat)"
   ],
   "metadata": {
    "collapsed": false,
    "ExecuteTime": {
     "end_time": "2024-02-01T15:07:42.449291600Z",
     "start_time": "2024-02-01T15:07:42.425306500Z"
    }
   },
   "id": "fc7c7e54af78cce8",
   "execution_count": 151
  },
  {
   "cell_type": "markdown",
   "source": [
    "### Ejemplo: caminata aleatoria\n",
    "\n",
    "Consideremos una caminata aleatoria simple empezando en 0 con pasos de 1 y - 1 ocurriendo con igual probabilidad"
   ],
   "metadata": {
    "collapsed": false
   },
   "id": "3058912cb09a2456"
  },
  {
   "cell_type": "code",
   "outputs": [],
   "source": [
    "#! blockstart\n",
    "\n",
    "import random\n",
    "position = 0\n",
    "walk = [position]\n",
    "nsteps = 1000\n",
    "for _ in range(nsteps):\n",
    "    step = 1 if random.randint(0, 1) else -1\n",
    "    position += step\n",
    "    walk.append(position)\n",
    "\n",
    "#! blockend"
   ],
   "metadata": {
    "collapsed": false,
    "ExecuteTime": {
     "end_time": "2024-02-01T15:10:26.037411Z",
     "start_time": "2024-02-01T15:10:26.015435700Z"
    }
   },
   "id": "ef5b56cbcb98bdc3",
   "execution_count": 152
  },
  {
   "cell_type": "code",
   "outputs": [
    {
     "data": {
      "text/plain": "[<matplotlib.lines.Line2D at 0x24ebd8aef50>]"
     },
     "execution_count": 153,
     "metadata": {},
     "output_type": "execute_result"
    },
    {
     "data": {
      "text/plain": "<Figure size 640x480 with 1 Axes>",
      "image/png": "[encoded data removed]"
     },
     "metadata": {},
     "output_type": "display_data"
    }
   ],
   "source": [
    "plt.plot(walk[:100])"
   ],
   "metadata": {
    "collapsed": false,
    "ExecuteTime": {
     "end_time": "2024-02-01T15:10:38.471483900Z",
     "start_time": "2024-02-01T15:10:38.361937100Z"
    }
   },
   "id": "c0870eda6cb598ae",
   "execution_count": 153
  },
  {
   "cell_type": "code",
   "outputs": [],
   "source": [
    "# se puede tratar la caminata como un arreglo\n",
    "\n",
    "nsteps = 1000\n",
    "rng = np.random.default_rng(seed = 12345)\n",
    "draws = rng.integers(0, 2, size = nsteps)\n",
    "steps = np.where(draws == 0, 1, -1)\n",
    "walk = steps.cumsum()"
   ],
   "metadata": {
    "collapsed": false,
    "ExecuteTime": {
     "end_time": "2024-02-01T15:25:29.938842300Z",
     "start_time": "2024-02-01T15:25:29.896874300Z"
    }
   },
   "id": "56999683c1206e5a",
   "execution_count": 154
  },
  {
   "cell_type": "code",
   "outputs": [
    {
     "data": {
      "text/plain": "-8"
     },
     "execution_count": 155,
     "metadata": {},
     "output_type": "execute_result"
    }
   ],
   "source": [
    "walk.min()"
   ],
   "metadata": {
    "collapsed": false,
    "ExecuteTime": {
     "end_time": "2024-02-01T15:25:37.293477800Z",
     "start_time": "2024-02-01T15:25:37.269305200Z"
    }
   },
   "id": "1523db6b4d4e077c",
   "execution_count": 155
  },
  {
   "cell_type": "code",
   "outputs": [
    {
     "data": {
      "text/plain": "50"
     },
     "execution_count": 156,
     "metadata": {},
     "output_type": "execute_result"
    }
   ],
   "source": [
    "walk.max()"
   ],
   "metadata": {
    "collapsed": false,
    "ExecuteTime": {
     "end_time": "2024-02-01T15:25:44.994729900Z",
     "start_time": "2024-02-01T15:25:44.964424200Z"
    }
   },
   "id": "57ee1464eef62568",
   "execution_count": 156
  },
  {
   "cell_type": "code",
   "outputs": [
    {
     "data": {
      "text/plain": "155"
     },
     "execution_count": 157,
     "metadata": {},
     "output_type": "execute_result"
    }
   ],
   "source": [
    "# para saber cuanto se demoró en alejarse 10 pasos de 0\n",
    "\n",
    "(np.abs(walk) >= 10).argmax()"
   ],
   "metadata": {
    "collapsed": false,
    "ExecuteTime": {
     "end_time": "2024-02-01T15:26:32.631594400Z",
     "start_time": "2024-02-01T15:26:32.605104500Z"
    }
   },
   "id": "df4283a91a0e7ea7",
   "execution_count": 157
  },
  {
   "cell_type": "markdown",
   "source": [
    "### Simular varias caminatas a la vez\n",
    "\n",
    "Se puede hacer pasando una tupla a `numpy.random`\n"
   ],
   "metadata": {
    "collapsed": false
   },
   "id": "458ccfa63e51a244"
  },
  {
   "cell_type": "code",
   "outputs": [
    {
     "data": {
      "text/plain": "array([[  1,   2,   3, ...,  22,  23,  22],\n       [  1,   0,  -1, ..., -50, -49, -48],\n       [  1,   2,   3, ...,  50,  49,  48],\n       ...,\n       [ -1,  -2,  -1, ..., -10,  -9, -10],\n       [ -1,  -2,  -3, ...,   8,   9,   8],\n       [ -1,   0,   1, ...,  -4,  -3,  -2]])"
     },
     "execution_count": 158,
     "metadata": {},
     "output_type": "execute_result"
    }
   ],
   "source": [
    "nwalks = 5000\n",
    "nsteps = 1000\n",
    "\n",
    "draws = rng.integers(0, 2, size = (nwalks, nsteps)) # 0 o 1\n",
    "steps = np.where(draws > 0, 1, -1)\n",
    "walks = steps.cumsum(axis = 1)\n",
    "walks"
   ],
   "metadata": {
    "collapsed": false,
    "ExecuteTime": {
     "end_time": "2024-02-01T15:30:51.974338900Z",
     "start_time": "2024-02-01T15:30:51.917375800Z"
    }
   },
   "id": "2ef38086cec70aaf",
   "execution_count": 158
  },
  {
   "cell_type": "code",
   "outputs": [
    {
     "data": {
      "text/plain": "114"
     },
     "execution_count": 159,
     "metadata": {},
     "output_type": "execute_result"
    }
   ],
   "source": [
    "walks.max()"
   ],
   "metadata": {
    "collapsed": false,
    "ExecuteTime": {
     "end_time": "2024-02-01T15:31:10.218539800Z",
     "start_time": "2024-02-01T15:31:10.200454600Z"
    }
   },
   "id": "d506bbdb83ecfcc0",
   "execution_count": 159
  },
  {
   "cell_type": "code",
   "outputs": [
    {
     "data": {
      "text/plain": "-120"
     },
     "execution_count": 160,
     "metadata": {},
     "output_type": "execute_result"
    }
   ],
   "source": [
    "walks.min()"
   ],
   "metadata": {
    "collapsed": false,
    "ExecuteTime": {
     "end_time": "2024-02-01T15:31:17.464819700Z",
     "start_time": "2024-02-01T15:31:17.428683700Z"
    }
   },
   "id": "8b71e80ca5a27cb9",
   "execution_count": 160
  },
  {
   "cell_type": "code",
   "outputs": [
    {
     "data": {
      "text/plain": "array([False,  True,  True, ...,  True, False,  True])"
     },
     "execution_count": 161,
     "metadata": {},
     "output_type": "execute_result"
    }
   ],
   "source": [
    "# computemos el minimio tiempo cruzando 30 o - 30\n",
    "\n",
    "hits30 = (np.abs(walks) >= 30).any(axis = 1)\n",
    "hits30"
   ],
   "metadata": {
    "collapsed": false,
    "ExecuteTime": {
     "end_time": "2024-02-01T15:32:11.354670300Z",
     "start_time": "2024-02-01T15:32:11.327391100Z"
    }
   },
   "id": "d8538a0aaf35adb6",
   "execution_count": 161
  },
  {
   "cell_type": "code",
   "outputs": [
    {
     "data": {
      "text/plain": "3395"
     },
     "execution_count": 162,
     "metadata": {},
     "output_type": "execute_result"
    }
   ],
   "source": [
    "hits30.sum()"
   ],
   "metadata": {
    "collapsed": false,
    "ExecuteTime": {
     "end_time": "2024-02-01T15:32:23.892673600Z",
     "start_time": "2024-02-01T15:32:23.868237800Z"
    }
   },
   "id": "ef8d6d03318e9d5",
   "execution_count": 162
  },
  {
   "cell_type": "code",
   "outputs": [
    {
     "data": {
      "text/plain": "array([201, 491, 283, ..., 219, 259, 541], dtype=int64)"
     },
     "execution_count": 163,
     "metadata": {},
     "output_type": "execute_result"
    }
   ],
   "source": [
    "crossing_times = (np.abs(walks[hits30]) >= 30).argmax(axis = 1)\n",
    "crossing_times"
   ],
   "metadata": {
    "collapsed": false,
    "ExecuteTime": {
     "end_time": "2024-02-01T15:33:22.779708800Z",
     "start_time": "2024-02-01T15:33:22.753941300Z"
    }
   },
   "id": "8ae05b9fbd90026",
   "execution_count": 163
  },
  {
   "cell_type": "code",
   "outputs": [
    {
     "data": {
      "text/plain": "500.5699558173785"
     },
     "execution_count": 164,
     "metadata": {},
     "output_type": "execute_result"
    }
   ],
   "source": [
    "crossing_times.mean()"
   ],
   "metadata": {
    "collapsed": false,
    "ExecuteTime": {
     "end_time": "2024-02-01T15:34:00.021674800Z",
     "start_time": "2024-02-01T15:33:59.991827300Z"
    }
   },
   "id": "608bf8b6f79de59e",
   "execution_count": 164
  }
 ],
 "metadata": {
  "kernelspec": {
   "display_name": "Python 3",
   "language": "python",
   "name": "python3"
  },
  "language_info": {
   "codemirror_mode": {
    "name": "ipython",
    "version": 2
   },
   "file_extension": ".py",
   "mimetype": "text/x-python",
   "name": "python",
   "nbconvert_exporter": "python",
   "pygments_lexer": "ipython2",
   "version": "2.7.6"
  }
 },
 "nbformat": 4,
 "nbformat_minor": 5
}
